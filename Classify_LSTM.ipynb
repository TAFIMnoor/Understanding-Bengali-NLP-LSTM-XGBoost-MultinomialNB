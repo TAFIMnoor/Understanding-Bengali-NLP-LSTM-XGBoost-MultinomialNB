{
  "cells": [
    {
      "cell_type": "markdown",
      "metadata": {
        "id": "view-in-github",
        "colab_type": "text"
      },
      "source": [
        "<a href=\"https://colab.research.google.com/github/TAFIMnoor/Understanding-Bengali-NLP-LSTM-XGBoost-MultinomialNB/blob/main/Classify_LSTM.ipynb\" target=\"_parent\"><img src=\"https://colab.research.google.com/assets/colab-badge.svg\" alt=\"Open In Colab\"/></a>"
      ]
    },
    {
      "cell_type": "code",
      "execution_count": 1,
      "metadata": {
        "colab": {
          "base_uri": "https://localhost:8080/"
        },
        "id": "KJnl1kye13X6",
        "outputId": "312e932e-f921-4bff-fe58-9f7d2845c731"
      },
      "outputs": [
        {
          "output_type": "stream",
          "name": "stdout",
          "text": [
            "Mounted at /content/drive\n"
          ]
        }
      ],
      "source": [
        "import numpy as np\n",
        "import pandas as pd\n",
        "import matplotlib.pyplot as plt\n",
        "import csv\n",
        "import numpy as np\n",
        "import seaborn as sns\n",
        "from google.colab import drive\n",
        "drive.mount('/content/drive')"
      ]
    },
    {
      "cell_type": "code",
      "execution_count": 2,
      "metadata": {
        "id": "Yautko3QxYE3"
      },
      "outputs": [],
      "source": [
        "import json\n",
        "dataPath='/content/drive/MyDrive/banglaData/data.json'\n",
        "with open(dataPath, encoding='utf-8') as dataPath:\n",
        "    data=json.load(dataPath)\n"
      ]
    },
    {
      "cell_type": "code",
      "execution_count": 3,
      "metadata": {
        "colab": {
          "base_uri": "https://localhost:8080/"
        },
        "id": "-HONXG5ntxCY",
        "outputId": "cc2473be-fc3d-4db3-e611-b98c895118d3"
      },
      "outputs": [
        {
          "output_type": "execute_result",
          "data": {
            "text/plain": [
              "[{'author': 'অনলাইন ডেস্ক',\n",
              "  'category': 'sports',\n",
              "  'category_bn': 'খেলা',\n",
              "  'published_date': '০৪ জুলাই ২০১৩, ২৩:০৯',\n",
              "  'modification_date': '০৪ জুলাই ২০১৩, ২৩:১১',\n",
              "  'tag': ['টেনিস'],\n",
              "  'comment_count': 0,\n",
              "  'title': 'সেমিফাইনাল বাধাও পেরিয়ে গেলেন লিসিকি',\n",
              "  'url': 'http://www.prothom-alo.com/sports/article/19028',\n",
              "  'content': 'এবারের উইম্বলডনটা স্মরণীয় করে রাখার মিশনেই যেন নেমেছেন সাবিনা লিসিকি। চতুর্থ রাউন্ডের লড়াইয়ে সেরেনা উইলিয়ামসকে হারিয়ে শুরু করেছিলেন স্বপ্নযাত্রা। কোয়ার্টার ফাইনালে কাইয়া কানেপিকে হারাতে খুব একটা বেগ পেতে হয়নি। তবে সেমিফাইনালে কঠিন প্রতিপক্ষের মুখেই পড়তে হয়েছিল লিসিকিকে। র্যাঙ্কিংয়ের চার নম্বরে থাকা আগ্নিয়েস্কা রাদভানস্কাই ছিলেন আজকের ম্যাচের ফেবারিট। কিন্তু অঘটনের উইম্বলডনে উল্টোটাই ঘটবে, এটাই যেন স্বাভাবিক। হলোই তা-ই। উত্তেজনাপূর্ণ সেমিফাইনালে ৬-৪, ২-৬, ৯-৭ গেমের জয় দিয়ে লিসিকি প্রথমবারের মতো পা রাখলেন উইম্বলডনের ফাইনালে।প্রথম সেটে ৬-৪ গেমের জয় দিয়ে শুরুটা দারুণভাবে করেছিলেন জার্মান তারকা লিসিকি। দ্বিতীয় সেটে ঘুরে দাঁড়ান রাদভানস্কা। খেলায় সমতা ফেরান ২-৬ গেমের জয় দিয়ে। ফলাফল নির্ধারণী তৃতীয় সেটের শুরুতেও বেশ খানিকটা সময় এগিয়ে ছিলেন রাদভানস্কা। কিন্তু ৩-০ ব্যবধানে পিছিয়ে পড়ার পর যেন মরিয়া হয়ে ওঠেন লিসিকি। ঘুরে দাঁড়াতে থাকেন নাটকীয়ভাবে। দুই ঘণ্টা ১৮ মিনিটের শ্বাসরুদ্ধকর লড়াইয়ের পর শেষ হাসিটাও হেসেছেন ২৩ বছর বয়সী লিসিকি।উইম্বলডনের অপর সেমিফাইনালে মারিওন বারতোলি অনায়াসেই হারিয়েছেন বেলজিয়ামের কারস্টেন ফ্লিপকেনসকে। ৬-১, ৬-২ গেমের জয় দিয়ে ফাইনাল নিশ্চিত করেছেন বারতোলি।শিরোপা জয়ের চূড়ান্ত লড়াইয়ে আগামী শনিবার মুখোমুখি হবেন বারতোলি ও লিসিকি।— রয়টার্স'}]"
            ]
          },
          "metadata": {},
          "execution_count": 3
        }
      ],
      "source": [
        "data[1:2]\n",
        "\n",
        "# a[start:stop]  ~ items start through stop-1\n",
        "# a[start:]      ~ items start through the rest of the array\n",
        "# a[:stop]       ~ items from the beginning through stop-1\n",
        "# a[:]           ~ a copy of the whole array"
      ]
    },
    {
      "cell_type": "markdown",
      "metadata": {
        "id": "D4pMhoJsVoqA"
      },
      "source": [
        "# **Tokenization**"
      ]
    },
    {
      "cell_type": "code",
      "execution_count": 4,
      "metadata": {
        "id": "sKMLHh9hv1p_"
      },
      "outputs": [],
      "source": [
        "from tensorflow.keras.preprocessing.text import Tokenizer\n",
        "\n",
        "\n",
        "tokenizer = Tokenizer(num_words = 1000)   #maximum word limit 1000\n",
        "tokenizer.fit_on_texts(data[6]['content']) # fit sentence\n"
      ]
    },
    {
      "cell_type": "code",
      "execution_count": 5,
      "metadata": {
        "colab": {
          "base_uri": "https://localhost:8080/"
        },
        "id": "4e3FokWDV6gL",
        "outputId": "75c597da-34c2-4646-eaf8-2d717cd5937c"
      },
      "outputs": [
        {
          "output_type": "stream",
          "name": "stdout",
          "text": [
            "{'র': 1, 'া': 2, 'ে': 3, '্': 4, 'ন': 5, 'ি': 6, 'ব': 7, 'ল': 8, 'ত': 9, 'য': 10, 'প': 11, 'ম': 12, 'ক': 13, 'স': 14, 'দ': 15, '়': 16, 'ী': 17, 'জ': 18, 'গ': 19, 'ু': 20, 'আ': 21, 'ো': 22, 'হ': 23, 'চ': 24, 'ট': 25, 'ও': 26, 'এ': 27, 'ধ': 28, '।': 29, 'ই': 30, 'শ': 31, 'ষ': 32, 'ণ': 33, 'ভ': 34, 'উ': 35, 'থ': 36, 'ঙ': 37, 'খ': 38, 'ছ': 39, 'ং': 40, 'ঁ': 41, 'ৌ': 42, '‘': 43, '’': 44, 'ূ': 45, 'ৃ': 46, 'ঠ': 47, 'অ': 48, 'ঞ': 49, '২': 50, 'ফ': 51, 'ঈ': 52, 'ড': 53}\n"
          ]
        }
      ],
      "source": [
        "word_index = tokenizer.word_index\n",
        "print(word_index) # word index of tokenized sentence\n",
        "#tokenizer.word_counts # word count of tokenized sentence"
      ]
    },
    {
      "cell_type": "code",
      "execution_count": 6,
      "metadata": {
        "colab": {
          "base_uri": "https://localhost:8080/"
        },
        "id": "Rr0ZM-fXY-YA",
        "outputId": "19c3f236-ad94-467f-ab9b-f5ee72ba3178"
      },
      "outputs": [
        {
          "output_type": "execute_result",
          "data": {
            "text/plain": [
              "{'num_words': 1000,\n",
              " 'filters': '!\"#$%&()*+,-./:;<=>?@[\\\\]^_`{|}~\\t\\n',\n",
              " 'lower': True,\n",
              " 'split': ' ',\n",
              " 'char_level': False,\n",
              " 'oov_token': None,\n",
              " 'document_count': 1429,\n",
              " 'word_counts': '{\"\\\\u09af\": 38, \"\\\\u09c1\": 19, \"\\\\u0995\": 37, \"\\\\u09cd\": 83, \"\\\\u09a4\": 43, \"\\\\u09b0\": 102, \"\\\\u09be\": 102, \"\\\\u09b7\": 9, \"\\\\u099f\": 12, \"\\\\u09c7\": 84, \"\\\\u09ac\": 54, \"\\\\u099c\": 21, \"\\\\u09bf\": 64, \"\\\\u098f\": 11, \"\\\\u09b8\": 35, \"\\\\u09aa\": 38, \"\\\\u09a7\": 11, \"\\\\u09a8\": 71, \"\\\\u09b9\": 14, \"\\\\u0993\": 12, \"\\\\u09bc\": 29, \"\\\\u0999\": 5, \"\\\\u0997\": 21, \"\\\\u09ae\": 38, \"\\\\u09c0\": 29, \"\\\\u0989\": 8, \"\\\\u09a6\": 30, \"\\\\u0996\": 5, \"\\\\u0986\": 16, \"\\\\u09b2\": 44, \"\\\\u099b\": 5, \"\\\\u0982\": 5, \"\\\\u09b6\": 10, \"\\\\u09cb\": 15, \"\\\\u0964\": 11, \"\\\\u09c3\": 2, \"\\\\u099a\": 14, \"\\\\u0981\": 3, \"\\\\u09a3\": 9, \"\\\\u09a0\": 2, \"\\\\u09cc\": 3, \"\\\\u09ad\": 9, \"\\\\u0985\": 2, \"\\\\u09a5\": 8, \"\\\\u2018\": 3, \"\\\\u0987\": 11, \"\\\\u2019\": 3, \"\\\\u09c2\": 3, \"\\\\u099e\": 2, \"\\\\u09e8\": 1, \"\\\\u09ab\": 1, \"\\\\u0988\": 1, \"\\\\u09a1\": 1}',\n",
              " 'word_docs': '{\"\\\\u09af\": 38, \"\\\\u09c1\": 19, \"\\\\u0995\": 37, \"\\\\u09cd\": 83, \"\\\\u09a4\": 43, \"\\\\u09b0\": 102, \"\\\\u09be\": 102, \"\\\\u09b7\": 9, \"\\\\u099f\": 12, \"\\\\u09c7\": 84, \"\\\\u09ac\": 54, \"\\\\u099c\": 21, \"\\\\u09bf\": 64, \"\\\\u098f\": 11, \"\\\\u09b8\": 35, \"\\\\u09aa\": 38, \"\\\\u09a7\": 11, \"\\\\u09a8\": 71, \"\\\\u09b9\": 14, \"\\\\u0993\": 12, \"\\\\u09bc\": 29, \"\\\\u0999\": 5, \"\\\\u0997\": 21, \"\\\\u09ae\": 38, \"\\\\u09c0\": 29, \"\\\\u0989\": 8, \"\\\\u09a6\": 30, \"\\\\u0996\": 5, \"\\\\u0986\": 16, \"\\\\u09b2\": 44, \"\\\\u099b\": 5, \"\\\\u0982\": 5, \"\\\\u09b6\": 10, \"\\\\u09cb\": 15, \"\\\\u0964\": 11, \"\\\\u09c3\": 2, \"\\\\u099a\": 14, \"\\\\u0981\": 3, \"\\\\u09a3\": 9, \"\\\\u09a0\": 2, \"\\\\u09cc\": 3, \"\\\\u09ad\": 9, \"\\\\u0985\": 2, \"\\\\u09a5\": 8, \"\\\\u2018\": 3, \"\\\\u0987\": 11, \"\\\\u2019\": 3, \"\\\\u09c2\": 3, \"\\\\u099e\": 2, \"\\\\u09e8\": 1, \"\\\\u09ab\": 1, \"\\\\u0988\": 1, \"\\\\u09a1\": 1}',\n",
              " 'index_docs': '{\"10\": 38, \"20\": 19, \"13\": 37, \"4\": 83, \"9\": 43, \"1\": 102, \"2\": 102, \"32\": 9, \"25\": 12, \"3\": 84, \"7\": 54, \"18\": 21, \"6\": 64, \"27\": 11, \"14\": 35, \"11\": 38, \"28\": 11, \"5\": 71, \"23\": 14, \"26\": 12, \"16\": 29, \"37\": 5, \"19\": 21, \"12\": 38, \"17\": 29, \"35\": 8, \"15\": 30, \"38\": 5, \"21\": 16, \"8\": 44, \"39\": 5, \"40\": 5, \"31\": 10, \"22\": 15, \"29\": 11, \"46\": 2, \"24\": 14, \"41\": 3, \"33\": 9, \"47\": 2, \"42\": 3, \"34\": 9, \"48\": 2, \"36\": 8, \"43\": 3, \"30\": 11, \"44\": 3, \"45\": 3, \"49\": 2, \"50\": 1, \"51\": 1, \"52\": 1, \"53\": 1}',\n",
              " 'index_word': '{\"1\": \"\\\\u09b0\", \"2\": \"\\\\u09be\", \"3\": \"\\\\u09c7\", \"4\": \"\\\\u09cd\", \"5\": \"\\\\u09a8\", \"6\": \"\\\\u09bf\", \"7\": \"\\\\u09ac\", \"8\": \"\\\\u09b2\", \"9\": \"\\\\u09a4\", \"10\": \"\\\\u09af\", \"11\": \"\\\\u09aa\", \"12\": \"\\\\u09ae\", \"13\": \"\\\\u0995\", \"14\": \"\\\\u09b8\", \"15\": \"\\\\u09a6\", \"16\": \"\\\\u09bc\", \"17\": \"\\\\u09c0\", \"18\": \"\\\\u099c\", \"19\": \"\\\\u0997\", \"20\": \"\\\\u09c1\", \"21\": \"\\\\u0986\", \"22\": \"\\\\u09cb\", \"23\": \"\\\\u09b9\", \"24\": \"\\\\u099a\", \"25\": \"\\\\u099f\", \"26\": \"\\\\u0993\", \"27\": \"\\\\u098f\", \"28\": \"\\\\u09a7\", \"29\": \"\\\\u0964\", \"30\": \"\\\\u0987\", \"31\": \"\\\\u09b6\", \"32\": \"\\\\u09b7\", \"33\": \"\\\\u09a3\", \"34\": \"\\\\u09ad\", \"35\": \"\\\\u0989\", \"36\": \"\\\\u09a5\", \"37\": \"\\\\u0999\", \"38\": \"\\\\u0996\", \"39\": \"\\\\u099b\", \"40\": \"\\\\u0982\", \"41\": \"\\\\u0981\", \"42\": \"\\\\u09cc\", \"43\": \"\\\\u2018\", \"44\": \"\\\\u2019\", \"45\": \"\\\\u09c2\", \"46\": \"\\\\u09c3\", \"47\": \"\\\\u09a0\", \"48\": \"\\\\u0985\", \"49\": \"\\\\u099e\", \"50\": \"\\\\u09e8\", \"51\": \"\\\\u09ab\", \"52\": \"\\\\u0988\", \"53\": \"\\\\u09a1\"}',\n",
              " 'word_index': '{\"\\\\u09b0\": 1, \"\\\\u09be\": 2, \"\\\\u09c7\": 3, \"\\\\u09cd\": 4, \"\\\\u09a8\": 5, \"\\\\u09bf\": 6, \"\\\\u09ac\": 7, \"\\\\u09b2\": 8, \"\\\\u09a4\": 9, \"\\\\u09af\": 10, \"\\\\u09aa\": 11, \"\\\\u09ae\": 12, \"\\\\u0995\": 13, \"\\\\u09b8\": 14, \"\\\\u09a6\": 15, \"\\\\u09bc\": 16, \"\\\\u09c0\": 17, \"\\\\u099c\": 18, \"\\\\u0997\": 19, \"\\\\u09c1\": 20, \"\\\\u0986\": 21, \"\\\\u09cb\": 22, \"\\\\u09b9\": 23, \"\\\\u099a\": 24, \"\\\\u099f\": 25, \"\\\\u0993\": 26, \"\\\\u098f\": 27, \"\\\\u09a7\": 28, \"\\\\u0964\": 29, \"\\\\u0987\": 30, \"\\\\u09b6\": 31, \"\\\\u09b7\": 32, \"\\\\u09a3\": 33, \"\\\\u09ad\": 34, \"\\\\u0989\": 35, \"\\\\u09a5\": 36, \"\\\\u0999\": 37, \"\\\\u0996\": 38, \"\\\\u099b\": 39, \"\\\\u0982\": 40, \"\\\\u0981\": 41, \"\\\\u09cc\": 42, \"\\\\u2018\": 43, \"\\\\u2019\": 44, \"\\\\u09c2\": 45, \"\\\\u09c3\": 46, \"\\\\u09a0\": 47, \"\\\\u0985\": 48, \"\\\\u099e\": 49, \"\\\\u09e8\": 50, \"\\\\u09ab\": 51, \"\\\\u0988\": 52, \"\\\\u09a1\": 53}'}"
            ]
          },
          "metadata": {},
          "execution_count": 6
        }
      ],
      "source": [
        "tokenizer.get_config()"
      ]
    },
    {
      "cell_type": "code",
      "execution_count": 7,
      "metadata": {
        "colab": {
          "base_uri": "https://localhost:8080/"
        },
        "id": "bmf1TCnPZdXg",
        "outputId": "6f73b8a8-5d65-4a3e-b8a7-cf413b6ca62e"
      },
      "outputs": [
        {
          "output_type": "stream",
          "name": "stdout",
          "text": [
            "3133\n",
            "3133\n"
          ]
        },
        {
          "output_type": "execute_result",
          "data": {
            "text/plain": [
              "434784"
            ]
          },
          "metadata": {},
          "execution_count": 7
        }
      ],
      "source": [
        "from numpy.lib.arraysetops import unique\n",
        "\n",
        "category_list = []\n",
        "filterData = []\n",
        "garbageCategory = []\n",
        "garbageContent = []\n",
        "for i in range(len(data)):\n",
        "    category = data[i]['category']\n",
        "    category_list.append(category);\n",
        "    if category == '-1' or category == '22221' or category == 'we-are' :\n",
        "      garbageCategory.append(data[i])\n",
        "      continue\n",
        "    if data[i]['content'] == '-1' :\n",
        "      garbageContent.append(data[i])\n",
        "      continue\n",
        "    filterData.append(data[i])\n",
        "\n",
        "print(len(garbageCategory))\n",
        "print(len(garbageCategory))\n",
        "len(filterData)"
      ]
    },
    {
      "cell_type": "code",
      "execution_count": 8,
      "metadata": {
        "colab": {
          "base_uri": "https://localhost:8080/"
        },
        "id": "C02fbBYB2q_G",
        "outputId": "3298a8ee-70a4-4900-eb63-1023501ceb05"
      },
      "outputs": [
        {
          "output_type": "stream",
          "name": "stdout",
          "text": [
            "27\n",
            "['AskEditor' 'bangladesh' 'bondhushava' 'chakri-bakri' 'demo-content'\n",
            " 'diverse' 'durporobash' 'economy' 'education' 'entertainment' 'events'\n",
            " 'international' 'kishoralo' 'life-style' 'mpaward1' 'nagorik-kantho'\n",
            " 'northamerica' 'onnoalo' 'opinion' 'pachmisheli' 'protichinta' 'roshalo'\n",
            " 'special-supplement' 'sports' 'tarunno' 'technology' 'trust']\n"
          ]
        }
      ],
      "source": [
        "\n",
        "new_category_list = []\n",
        "\n",
        "for i in range(len(filterData)):\n",
        "    new_category_list.append(filterData[i]['category'])\n",
        "\n",
        "\n",
        "unique_category_list = np.unique(np.array(new_category_list))\n",
        "print(len(unique_category_list))\n",
        "print(unique_category_list)\n"
      ]
    },
    {
      "cell_type": "code",
      "execution_count": 9,
      "metadata": {
        "colab": {
          "base_uri": "https://localhost:8080/"
        },
        "id": "C9gtgqrPb8cv",
        "outputId": "3d3c3da1-1b87-4e16-df3f-3920aa1bf7a5"
      },
      "outputs": [
        {
          "output_type": "execute_result",
          "data": {
            "text/plain": [
              "Counter({'bangladesh': 232495,\n",
              "         'sports': 49010,\n",
              "         'technology': 12113,\n",
              "         'entertainment': 30464,\n",
              "         'international': 30855,\n",
              "         'economy': 17245,\n",
              "         'life-style': 10852,\n",
              "         'opinion': 15698,\n",
              "         'education': 9721,\n",
              "         'onnoalo': 2701,\n",
              "         'pachmisheli': 3443,\n",
              "         'AskEditor': 1,\n",
              "         'roshalo': 2604,\n",
              "         'durporobash': 7401,\n",
              "         'events': 2,\n",
              "         'kishoralo': 508,\n",
              "         'special-supplement': 859,\n",
              "         'demo-content': 2,\n",
              "         'trust': 443,\n",
              "         'northamerica': 6990,\n",
              "         'protichinta': 170,\n",
              "         'bondhushava': 990,\n",
              "         'mpaward1': 17,\n",
              "         'diverse': 2,\n",
              "         'tarunno': 40,\n",
              "         'chakri-bakri': 75,\n",
              "         'nagorik-kantho': 83})"
            ]
          },
          "metadata": {},
          "execution_count": 9
        }
      ],
      "source": [
        "from collections import Counter\n",
        "Counter(new_category_list)"
      ]
    },
    {
      "cell_type": "code",
      "execution_count": 10,
      "metadata": {
        "colab": {
          "base_uri": "https://localhost:8080/"
        },
        "id": "auGOzux3ggAh",
        "outputId": "b3fbb16f-867f-418e-c4c0-0abcfcbe009d"
      },
      "outputs": [
        {
          "output_type": "execute_result",
          "data": {
            "text/plain": [
              "[('AskEditor', 1),\n",
              " ('bangladesh', 232504),\n",
              " ('bondhushava', 990),\n",
              " ('chakri-bakri', 75),\n",
              " ('demo-content', 2),\n",
              " ('diverse', 2),\n",
              " ('durporobash', 7402),\n",
              " ('economy', 17245),\n",
              " ('education', 9721),\n",
              " ('entertainment', 30466),\n",
              " ('events', 2),\n",
              " ('international', 30856),\n",
              " ('kishoralo', 508),\n",
              " ('life-style', 10852),\n",
              " ('mpaward1', 17),\n",
              " ('nagorik-kantho', 83),\n",
              " ('northamerica', 6990),\n",
              " ('onnoalo', 2702),\n",
              " ('opinion', 15699),\n",
              " ('pachmisheli', 3443),\n",
              " ('protichinta', 170),\n",
              " ('roshalo', 2604),\n",
              " ('special-supplement', 859),\n",
              " ('sports', 49012),\n",
              " ('tarunno', 40),\n",
              " ('technology', 12116),\n",
              " ('trust', 443)]"
            ]
          },
          "metadata": {},
          "execution_count": 10
        }
      ],
      "source": [
        "\n",
        "category_count = []\n",
        "for each_category in unique_category_list:\n",
        "    count_of_each_category = category_list.count(each_category)\n",
        "    category_count.append((each_category,count_of_each_category))\n",
        "\n",
        "category_count.sort();\n",
        "category_count\n"
      ]
    },
    {
      "cell_type": "code",
      "execution_count": 11,
      "metadata": {
        "colab": {
          "base_uri": "https://localhost:8080/",
          "height": 312
        },
        "id": "_314jg0tXAKr",
        "outputId": "0d6f3d60-b10e-410b-c1bd-692b081cba45"
      },
      "outputs": [
        {
          "output_type": "stream",
          "name": "stderr",
          "text": [
            "WARNING:matplotlib.legend:No handles with labels found to put in legend.\n"
          ]
        },
        {
          "output_type": "display_data",
          "data": {
            "text/plain": [
              "<Figure size 432x288 with 1 Axes>"
            ],
            "image/png": "[encoded data removed]"
          },
          "metadata": {
            "needs_background": "light"
          }
        }
      ],
      "source": [
        "import matplotlib.pyplot as plt\n",
        "from google.colab import files\n",
        "\n",
        "sections = []\n",
        "labels = []\n",
        " \n",
        "for each_category in category_count:\n",
        "    sections.append(each_category[1]%50)\n",
        "\n",
        "for i in range (27):\n",
        "    labels.append(i+1);\n",
        " \n",
        "plt.plot(labels,sections)\n",
        "\n",
        "plt.xlabel(\"Categories\")\n",
        "plt.ylabel(\"Per Category Data\")\n",
        "plt.title(\"Data Distribution Graph\")\n",
        "plt.legend()\n",
        "plt.show()\n"
      ]
    },
    {
      "cell_type": "code",
      "execution_count": 12,
      "metadata": {
        "colab": {
          "base_uri": "https://localhost:8080/"
        },
        "id": "-FcpoLmehqIX",
        "outputId": "1e324627-f8db-4dbd-9c5a-5e8e37bbece1"
      },
      "outputs": [
        {
          "output_type": "stream",
          "name": "stdout",
          "text": [
            "14\n"
          ]
        },
        {
          "output_type": "execute_result",
          "data": {
            "text/plain": [
              "['bangladesh',\n",
              " 'durporobash',\n",
              " 'economy',\n",
              " 'education',\n",
              " 'entertainment',\n",
              " 'international',\n",
              " 'life-style',\n",
              " 'northamerica',\n",
              " 'onnoalo',\n",
              " 'opinion',\n",
              " 'pachmisheli',\n",
              " 'roshalo',\n",
              " 'sports',\n",
              " 'technology']"
            ]
          },
          "metadata": {},
          "execution_count": 12
        }
      ],
      "source": [
        "selected_category_list = []\n",
        "\n",
        "for i in category_count:\n",
        "     if( i[1] > 2500 ):\n",
        "         selected_category_list.append(i[0])\n",
        "\n",
        "print(len(selected_category_list))\n",
        "selected_category_list"
      ]
    },
    {
      "cell_type": "markdown",
      "metadata": {
        "id": "-oHWcNQqnVG5"
      },
      "source": [
        "# **Target & Features**"
      ]
    },
    {
      "cell_type": "code",
      "execution_count": 13,
      "metadata": {
        "colab": {
          "base_uri": "https://localhost:8080/"
        },
        "id": "LgqCRElwmL2Y",
        "outputId": "a83f7b03-52eb-4d1d-cad8-0f583b0df990"
      },
      "outputs": [
        {
          "output_type": "stream",
          "name": "stdout",
          "text": [
            "35000\n",
            "35000\n",
            "Category: -- onnoalo\n",
            "Content: -- সাইকেলতাহমিনা বেগম স্বপ্নে দেখেন, লিজার বাবা একটা নতুন সাইকেল নিয়ে ঢুকছেন উঠানে। তাঁকে খুব হাস্যোজ্জ্বল আর সুখী দেখাচ্ছে। লিজার মাকে দেখতে পেয়েই বললেন, ‘লিজার জন্য কিনে আনলাম। কত দিন ধরে আবদার করছে মেয়েটা।’‘কিন্তু লিজা তো নেই। তুমি যেন কিছুই জানো না!’লিজার বাবাকে খানিকটা বিচলিত দেখাল। তিনি লিজার মায়ের ভুল ভাঙাতে চাইলেন, ‘তুমি যেটা বলতেছ, সেটা একটা দুঃস্বপ্ন ছিল। এখন সব ঠিক হয়ে গেছে।’‘কিন্তু এখন কি আমি স্বপ্ন দেখতেছি না?’‘ওই যে, দেখো লিজা আসতেছে।’স্কুলের পোশাক পরা লিজা বেরোল ঘর থেকে। সে উঠানে এসে সাইকেলসহ বাবাকে দেখে খুশি হলো এবং সাইকেলটা নিয়ে উঠানের আয়তাকার জায়গাটাতে চালাতে চেষ্টা করল।তাহমিনা বেগম লক্ষ করলেন মেয়ের মাথার চুল এলোমেলোভাবে কাটা। হাত ও মুখে আঘাতের চিহ্ন। জঙ্গলে ওর মৃতদেহ পাওয়ার আগে কাটা চুলগুলো পাওয়া গিয়েছিল খালের পাড়ে। তাহমিনা বেগম মেয়ের এই হাল দেখে উদ্বিগ্ন হলেন।‘তাহলে সেটা কি সত্যিই দুঃস্বপ্ন ছিল?’‘হ্যাঁ।’‘কী দেখছিলা তুমি?’‘ঠিক তোমার দুঃস্বপ্নটার মতো। সব ঘটনাই এক।’‘কিন্তু স্বপ্ন দুটো একই রকম ছিল কি না, আমরা তো মিলায়া দেখি নাই।’‘আমি জানি, সবকিছুই ছিল এক। আমাদের উদ্বেগ, লিজাকে খুঁজতে বেরোনো, জঙ্গলে মৃতদেহ পাওয়া, থানা-পুলিশ, গোয়েন্দা-পুলিশ তারপর অপরাধ তদন্ত বিভাগ, প্রচুর জেরা, ডিএনএ টেস্ট, মৃতদেহ কবর থেকে তোলা, কয়েকবার পোস্টমর্টেম, কিন্তু ফরেনসিক বিভাগের কোনো রিপোর্টেই মৃত্যুর কারণ লেখা না থাকা...। তখন কেউ একজন বলবে, “লিজা মরেনি। মৃত্যুর কারণ না থাকলে সে মরতে যাবে কেন?” আবার কেউ বলবে, “জীবন্ত মেয়েকে কবর দেওয়া ঠিক হয় নাই।”... এসব নিয়া হুলুস্থুল কাণ্ড, তারপর হুমকি-ধমকি...।’‘হ্যাঁ, একদম তাই।’‘কিন্তু দুঃস্বপ্নটা কি আমরা একসঙ্গে দেখতেছিলাম?’‘হ্যাঁ।’‘এখন?’লিজার বাবাকে আনমনা দেখায়। তাহমিনা বেগম জিজ্ঞেস করেন, ‘এখন কি স্বপ্নটা তুমি দেখতেছ না আমি?’লিজার বাবা কী যেন খুঁজতে ঘরের ভেতর গেলেন। তাহমিনা বেগম দেখলেন, মেয়ে সাইকেল নিয়ে বেরিয়ে যাচ্ছে। তিনি কিছু একটা আঁচ করলেন আর মেয়েকে পেছন থেকে অনুসরণ করে গেলেন। লিজা আঙিনার পাশে কাঁঠালগাছের গোড়ায় সাইকেল ঠেস দিয়ে রেখে পেছন ফিরে দাঁড়িয়ে আছে। কাছে যেতেই মায়ের দিকে ফিরে জিজ্ঞেস করল, ‘তোমরা কি সত্যিই আমাকে কবর দিয়েছ?’সাধুআজমত মাঝেমধ্যে সাধু-সঙ্গ করতে যেত।একবার পরীক্ষা চলছে, ওই সময়ে উধাও হয়ে গেল। হলে ফিরল দীর্ঘদিন পর। জানা গেল, এত দিন ভারতবর্ষের নানা জায়গায়, নানা তীর্থে আর আস্তানায় সাধু-সন্ন্যাসীদের সঙ্গে ঘুরেছে সে।ড্রপ-আউট এড়াতে তাকে অনেক দিন ধরে ক্লাস-পরীক্ষা চালিয়ে যেতে হলো। তাই দীর্ঘদিন ধরে হলে থাকতে সে বাধ্য হলো।ক্যাম্পাসে থাকতে থাকতে হাঁপিয়ে উঠল সে। বলল, নাগরিক মানুষ তাকে ক্লান্ত করে। বাসনাতাড়িত, লোভী আর কুটিল মানুষগুলোর মধ্যে থাকতে তার দমবন্ধ লাগে।একদিন দেখা গেল কাঠের বাক্সে করে একটা সাপ নিয়ে এসেছে। সাপটাকে সে টিকটিকি কিংবা পোকা ধরে খাওয়ায়। শীতল রক্তের এই মৌনী প্রাণীটির সঙ্গে এক দুর্বোধ্য যোগাযোগ গড়ে তোলে সে।মাঝেমধ্য তাকে জিমনেসিয়ামের পেছনের জঙ্গলে একা একা হাঁটাহাঁটি করতে দেখা যায়। কখনো শণে ঢাকা হাঁটাপথের ধারে বসে থাকে একা। কেউ কেউ বলল, জঙ্গলে থাকা শিয়ালগুলোকে সে ডেকে আনতে পারে।প্রাণিজগতের সঙ্গে যোগাযোগ বাড়ানোর চেষ্টা থেকে কিংবা মৌনী প্রাণীটির অত্যধিক নীরবতায় কিছুটা ক্লান্ত হয়েই সে একদিন একটি পাখির খাঁচা নিয়ে হলে ঢোকে। খাঁচার ভেতর দুটি নীল-সাদা বাজরিগার। কিচিরমিচির শব্দে ঘরের নীরবতা খান খান। পাখি দুটিকে সে তিল-তিসি খাওয়ায় আর তাদের দুর্বোধ্য ভাষা রপ্ত করার চেষ্টা করে।কিছুদিনের মাথায় দুটি ঘটনা ঘটল। একদিন ক্লাস থেকে ফিরে সে দেখল, সাপটা বাক্সের বাইরে আর সেটা বাজরিগার দুটিকে হত্যা করেছে। দ্বিতীয় ঘটনাটি একই রকম মর্মান্তিক—একদল পিঁপড়ের আক্রমণে সাপটির মৃত্যু হয়েছে।এরপর থেকে একেবারে চুপচাপ হয়ে গেল সে। ক্লাসে নেই, চায়ের দোকানগুলোতে নেই, জিমনেসিয়ামের পেছনের জঙ্গলেও তাকে ঘুরতে দেখা যায় না। জানা গেল, সে আবার উধাও হয়েছে।বহুদিন পর এক সন্ধ্যাবেলা সে ফিরে এল। তার দৃষ্টি অত্যধিক শান্ত আর অন্তর্ভেদী। মুখে অদ্ভুত রকম দীপ্তি। আমি বিস্ময় নিয়ে তার দিকে তাকিয়ে আছি আর তার দৃষ্টির হেঁয়ালি আমাকে বিদ্ধ করছে। মৃদু হেসে সে গুনগুন করে গাইল—ভাব আছে যার গায়, দেখলে তারে চেনা যায়, সর্ব অঙ্গ তাহার পোড়া রে!\n"
          ]
        }
      ],
      "source": [
        "\n",
        "features = []\n",
        "target = []\n",
        "\n",
        "\n",
        "for i in filterData:\n",
        "    if i['category'] in selected_category_list:\n",
        "        if target.count(i['category']) < 2500:\n",
        "          features.append(i['content'])\n",
        "          target.append(i['category'])\n",
        "\n",
        "\n",
        "print(len(features))\n",
        "print(len(target))\n",
        "\n",
        "# Check dataset\n",
        "print(\"Category: --\",target[-1])\n",
        "print(\"Content: --\",features[-1])\n"
      ]
    },
    {
      "cell_type": "code",
      "execution_count": 14,
      "metadata": {
        "colab": {
          "base_uri": "https://localhost:8080/",
          "height": 264
        },
        "id": "ap5SFZspvx9I",
        "outputId": "b69836ed-a509-4184-c70d-c42e05770cb9"
      },
      "outputs": [
        {
          "output_type": "display_data",
          "data": {
            "text/plain": [
              "<Figure size 432x288 with 1 Axes>"
            ],
            "image/png": "[encoded data removed]"
          },
          "metadata": {}
        }
      ],
      "source": [
        "import matplotlib.pyplot as plt\n",
        "\n",
        "sections = []\n",
        "y = []\n",
        " \n",
        "labels = []\n",
        " \n",
        "for each_category in selected_category_list:\n",
        "    sections.append(target.count(each_category))\n",
        "\n",
        "colors = ['c', 'g', 'lavender', 'turquoise', 'tan', 'salmon', 'crimson', 'plum', 'orchid', 'orange', 'brown', 'gray', 'olive', 'purple']\n",
        "labels = ['{}'.format(each_category) for each_category in selected_category_list]\n",
        "\n",
        "plt.pie(sections, labels=labels, colors=colors,\n",
        "        startangle=90,\n",
        "        explode=[0.1 if i == max(sections) else 0 for i in sections],  # Explode the section with the highest value.\n",
        "        autopct='%1.2f%%')\n",
        "\n",
        "# plt.axis('equal')\n",
        "plt.title('Category Distribution Graph')\n",
        "plt.show()\n",
        "\n"
      ]
    },
    {
      "cell_type": "code",
      "execution_count": 15,
      "metadata": {
        "id": "VjSqZ-a-nP3E",
        "colab": {
          "base_uri": "https://localhost:8080/"
        },
        "outputId": "78a5320e-ba61-41f2-bcd9-5e8987b562bf"
      },
      "outputs": [
        {
          "output_type": "stream",
          "name": "stdout",
          "text": [
            "{'author': '-1', 'category': '22221', 'category_bn': '২২২২১', 'published_date': '১৫ ফেব্রুয়ারি ২০১৫, ১৯:১৯', 'modification_date': '২৯ ডিসেম্বর ২০১৮, ১৫:১২', 'tag': '-1', 'comment_count': 0, 'title': 'আজকের অনুষ্ঠানের সময়সূচি', 'url': 'http://www.prothom-alo.com/22221/article/452572', 'content': 'প্রতিদিন ঢাকা শহরের বিভিন্ন অনুষ্ঠানের সময়সূচী জানতে আপনার গ্রামীণফোন, রবি, বাংলালিংক, এয়ারটেল ও টেলিটক মোবাইল থেকে টাইপ করুন  START  স্পেস AO এবং পাঠিয়ে দিন 22221 নম্বরে।সার্ভিসটি নিতে  এখানে ক্লিক করুন ∗ সার্ভিসটি বন্ধ করতে টাইপ করুন STOP স্পেস AO এবং পাঠিয়ে দিন 22221 নম্বরে।∗ প্রতিদিন চার্জ ২ টাকা + ভ্যাট, সাপ্লিমেন্টারি ডিউটি ও সারচার্জ প্রযোজ্য'}\n",
            "{'author': '-1', 'category': '22221', 'category_bn': '২২২২১', 'published_date': '১৫ ফেব্রুয়ারি ২০১৫, ১৯:১৮', 'modification_date': '২৯ ডিসেম্বর ২০১৮, ১৫:১২', 'tag': '-1', 'comment_count': 0, 'title': 'প্রতিদিন আবহাওয়ার খবর', 'url': 'http://www.prothom-alo.com/22221/article/452569', 'content': 'আবহাওয়ার খবর পেতে আপনার গ্রামীণফোন, রবি, বাংলালিংক, এয়ারটেল ও টেলিটক মোবাইল থেকে টাইপ করুন  START  স্পেস W এবং পাঠিয়ে দিন 22221 নম্বরে।সার্ভিসটি নিতে  এখানে ক্লিক করুন ∗ সার্ভিসটি বন্ধ করতে টাইপ করুন STOP স্পেস W এবং পাঠিয়ে দিন 22221 নম্বরে।∗ প্রতিদিন চার্জ ২ টাকা + ভ্যাট, সাপ্লিমেন্টারি ডিউটি ও সারচার্জ প্রযোজ্য'}\n",
            "{'author': '-1', 'category': '22221', 'category_bn': '২২২২১', 'published_date': '১৫ ফেব্রুয়ারি ২০১৫, ১৯:১৬', 'modification_date': '২৯ ডিসেম্বর ২০১৮, ১৫:১৩', 'tag': '-1', 'comment_count': 0, 'title': 'নামাজের সময়সূচি', 'url': 'http://www.prothom-alo.com/22221/article/452563', 'content': 'প্রতিদিন নামাজের সময়সূচি এবং পবিত্র রমজান মাসে সাহরি ও ইফতারের সময়সূচি জানতে আপনার গ্রামীণফোন, রবি, বাংলালিংক, এয়ারটেল ও টেলিটক মোবাইল থেকে টাইপ করুন START স্পেস NAMAZ এবং পাঠিয়ে দিন 22221 নম্বরে।টেলিটক ব্যাবহারকারীরা এসএমএস করুন ২২২১ নম্বরে।\\xa0সার্ভিসটি নিতে  এখানে ক্লিক করুন ∗ তথ্য: ইসলামিক ফাউন্ডেশন বাংলাদেশ∗ সার্ভিসটি বন্ধ করতে টাইপ করুন STOP স্পেস NAMAZ এবং পাঠিয়ে দিন 22221 নম্বরে।∗ প্রতিদিন চার্জ ২ টাকা + ভ্যাট, সাপ্লিমেন্টারি ডিউটি ও সারচার্জ প্রযোজ্য'}\n",
            "{'author': '-1', 'category': '22221', 'category_bn': '২২২২১', 'published_date': '১৫ ফেব্রুয়ারি ২০১৫, ১৯:১৩', 'modification_date': '২৪ মার্চ ২০১৯, ১১:৪২', 'tag': '-1', 'comment_count': 0, 'title': 'খেলার  আপডেট', 'url': 'http://www.prothom-alo.com/22221/article/452554', 'content': 'খেলার আপডেট পেতে আপনার মোবাইল থেকে টাইপ করুন START  (স্পেস) S  এবং পাঠিয়ে দিন 22221 নম্বরে।\\xa0সার্ভিসটি নিতে  এখানে ক্লিক করুন∗সার্ভিসটি বন্ধ করতে টাইপ করুন STOP (স্পেস) S এবং পাঠিয়ে দিন 22221 নম্বরে।∗ প্রতিদিন চার্জ ২ টাকা + ভ্যাট, সাপ্লিমেন্টারি ডিউটি ও সারচার্জ প্রযোজ্য'}\n",
            "{'author': '-1', 'category': '22221', 'category_bn': '২২২২১', 'published_date': '১৫ ফেব্রুয়ারি ২০১৫, ১৯:১২', 'modification_date': '২৯ ডিসেম্বর ২০১৮, ১৫:১৫', 'tag': '-1', 'comment_count': 0, 'title': 'প্রথম আলো সংবাদ', 'url': 'http://www.prothom-alo.com/22221/article/452551', 'content': 'প্রতিদিনের প্রথম আলো সংবাদ পেতে আপনার গ্রামীণফোন, রবি, বাংলালিংক, এয়ারটেল ও টেলিটক মোবাইল থেকে টাইপ করুন START স্পেস PA এবং পাঠিয়ে দিন 22221 নম্বরে।\\xa0\\xa0সার্ভিসটি নিতে  এখানে ক্লিক করুন ∗ সার্ভিসটি বন্ধ করতে টাইপ করুন STOP স্পেস PA এবং পাঠিয়ে দিন 22221 নম্বরে।∗  প্রতিদিন চার্জ ২ টাকা + ভ্যাট, সাপ্লিমেন্টারি ডিউটি ও সারচার্জ প্রযোজ্য।'}\n",
            "{'author': '-1', 'category': '22221', 'category_bn': '২২২২১', 'published_date': '১৫ ফেব্রুয়ারি ২০১৫, ১৯:০৯', 'modification_date': '০১ জুন ২০১৯, ১৩:৪৭', 'tag': '-1', 'comment_count': 0, 'title': 'ক্রিকেট আপডেট', 'url': 'http://www.prothom-alo.com/22221/article/452548', 'content': 'সার্ভিসটি পেতে আপনার মোবাইল থেকে টাইপ করুন START স্পেস C এবং পাঠিয়ে দিন 22221 নম্বরে।সার্ভিসটি নিতে  এখানে ক্লিক করুন ∗ সার্ভিসটি বন্ধ করতে টাইপ করুন STOP স্পেস C এবং পাঠিয়ে দিন 22221 নম্বরে।∗ প্রতিদিন চার্জ ২ টাকা + ভ্যাট, সাপ্লিমেন্টারি ডিউটি ও সারচার্জ প্রযোজ্য'}\n",
            "{'author': '-1', 'category': '22221', 'category_bn': '২২২২১', 'published_date': '১৫ ফেব্রুয়ারি ২০১৫, ১৯:০৫', 'modification_date': '২৯ ডিসেম্বর ২০১৮, ১৫:১৫', 'tag': '-1', 'comment_count': 0, 'title': 'ব্রেকিং নিউজ', 'url': 'http://www.prothom-alo.com/22221/article/452545', 'content': 'ব্রেকিং নিউজ পেতে আপনার গ্রামীণফোন, রবি, বাংলালিংক, এয়ারটেল এবং টেলিটক নম্বর থেকে টাইপ করুন START স্পেস B এবং পাঠিয়ে দিন 22221 নম্বরে।সার্ভিসটি নিতে  এখানে ক্লিক করুন ∗ সার্ভিসটি বন্ধ করতে আপনার গ্রামীণফোন, রবি, বাংলালিংক, এয়ারটেল এবং টেলিটক নম্বর থেকে টাইপ করুন  STOP স্পেস  B এবং পাঠিয়ে দিন 22221 নম্বরে।∗ প্রতিদিন চার্জ ২ টাকা + ভ্যাট, সাপ্লিমেন্টারি ডিউটি ও সারচার্জ প্রযোজ্য'}\n",
            "{'author': '-1', 'category': '22221', 'category_bn': '২২২২১', 'published_date': '১৬ এপ্রিল ২০১৫, ১৪:৩১', 'modification_date': '২৯ ডিসেম্বর ২০১৮, ১৫:১১', 'tag': '-1', 'comment_count': 0, 'title': 'রাজধানীর পথঘাটের সর্বশেষ খবর', 'url': 'http://www.prothom-alo.com/22221/article/504424', 'content': 'রাজধানীর পথঘাটের সর্বশেষ খবর জানতে আপনার গ্রামীণফোন, রবি, বাংলালিংক, এয়ারটেল ও টেলিটক মোবাইল থেকে টাইপ করুন  START  স্পেস TRA এবং পাঠিয়ে দিন 22221 নম্বরে।সার্ভিসটি নিতে  এখানে ক্লিক করুন ∗ সার্ভিসটি বন্ধ করতে টাইপ করুন STOP স্পেস TRA এবং পাঠিয়ে দিন 22221 নম্বরে।∗ প্রতিদিন চার্জ ২ টাকা + ভ্যাট, সাপ্লিমেন্টারি ডিউটি ও সারচার্জ প্রযোজ্য'}\n",
            "{'author': '-1', 'category': '22221', 'category_bn': '২২২২১', 'published_date': '১৬ এপ্রিল ২০১৫, ১৪:১৭', 'modification_date': '২৯ ডিসেম্বর ২০১৮, ১৫:১১', 'tag': '-1', 'comment_count': 0, 'title': 'প্রতিদিনের কাঁচাবাজারের  দর', 'url': 'http://www.prothom-alo.com/22221/article/504418', 'content': 'প্রতিদিনের কাঁচাবাজারের দর জানতে আপনার গ্রামীণফোন, রবি, বাংলালিংক, এয়ারটেল ও টেলিটক মোবাইল থেকে টাইপ করুন  START স্পেস KL  এবং পাঠিয়ে দিন 22221 নম্বরে।সার্ভিসটি নিতে  এখানে ক্লিক করুন ∗ সার্ভিসটি বন্ধ করতে টাইপ করুন STOP স্পেস KL এবং পাঠিয়ে দিন 22221 নম্বরে।∗ প্রতিদিন চার্জ ২ টাকা + ভ্যাট, সাপ্লিমেন্টারি ডিউটি ও সারচার্জ প্রযোজ্য'}\n",
            "{'author': '-1', 'category': '22221', 'category_bn': '২২২২১', 'published_date': '৩০ আগস্ট ২০১৫, ১২:৪৩', 'modification_date': '২৯ ডিসেম্বর ২০১৮, ১৫:১১', 'tag': '-1', 'comment_count': 0, 'title': 'সুপ্রভাত ঢাকা', 'url': 'http://www.prothom-alo.com/22221/article/617203', 'content': 'সুপ্রভাত ঢাকা সার্ভিসটি পেতে আপনার গ্রামীণফোন, রবি, বাংলালিংক, এয়ারটেল ও টেলিটক মোবাইল থেকে টাইপ করুন\\xa0START  স্পেস SD এবং পাঠিয়ে দিন 22221 নম্বরে।\\xa0টেলিটক ব্যাবহারকারীরা এসএমএস করুন ২২২১ নম্বরে।\\xa0সার্ভিসটি নিতে  এখানে ক্লিক করুন ∗ সার্ভিসটি বন্ধ করতে টাইপ করুন STOP স্পেস SD  এবং পাঠিয়ে দিন 22221 নম্বরে।∗ প্রতিদিন চার্জ ২ টাকা + ভ্যাট, সাপ্লিমেন্টারি ডিউটি ও সারচার্জ প্রযোজ্য'}\n",
            "{'author': '-1', 'category': '22221', 'category_bn': '২২২২১', 'published_date': '২৭ ফেব্রুয়ারি ২০১৭, ১৮:৩৭', 'modification_date': '২৯ ডিসেম্বর ২০১৮, ১৫:১০', 'tag': '-1', 'comment_count': 0, 'title': 'প্রথম আলো সংবাদ- বাংলায়', 'url': 'http://www.prothom-alo.com/22221/article/1092001', 'content': 'প্রতিমুহূর্তের প্রথম আলো সংবাদ বাংলায় পেতে আপনার গ্রামীণফোন, রবি ও বাংলালিংক মোবাইল থেকে টাইপ করুন \\xa0START  স্পেস BPA এবং পাঠিয়ে দিন 22221 নম্বরে।\\xa0\\xa0সার্ভিসটি নিতে  এখানে ক্লিক করুন ∗ সার্ভিসটি বন্ধ করতে টাইপ করুন STOP স্পেস BPA এবং পাঠিয়ে দিন 22221 নম্বরে।∗ প্রতিদিন চার্জ ২ টাকা + ভ্যাট, সাপ্লিমেন্টারি ডিউটি ও সারচার্জ প্রযোজ্য'}\n"
          ]
        }
      ],
      "source": [
        "\n",
        "for i in range(len(data)):\n",
        "    if (data[i]['category'] == '22221'):\n",
        "             print(data[i])\n",
        "        "
      ]
    },
    {
      "cell_type": "code",
      "execution_count": 16,
      "metadata": {
        "id": "s_btDJEcjCyQ",
        "colab": {
          "base_uri": "https://localhost:8080/"
        },
        "outputId": "6117eb83-cddb-4943-f9c5-3ab1ab299159"
      },
      "outputs": [
        {
          "output_type": "stream",
          "name": "stdout",
          "text": [
            "{'author': '-1', 'category': '-1', 'published_date': '-1', 'modification_date': '-1', 'tag': '-1', 'comment_count': 0, 'title': '-1', 'url': 'http://www.prothom-alo.com/bangladesh/article/23294', 'content': '-1'}\n",
            "{'author': '-1', 'category': '-1', 'published_date': '-1', 'modification_date': '-1', 'tag': '-1', 'comment_count': 0, 'title': '-1', 'url': 'http://www.prothom-alo.com/international/article/23508', 'content': '-1'}\n",
            "{'author': '-1', 'category': '-1', 'published_date': '-1', 'modification_date': '-1', 'tag': '-1', 'comment_count': 0, 'title': '-1', 'url': 'http://www.prothom-alo.com/education/article/54658', 'content': '-1'}\n",
            "{'author': '-1', 'category': '-1', 'published_date': '-1', 'modification_date': '-1', 'tag': '-1', 'comment_count': 0, 'title': '-1', 'url': 'http://www.prothom-alo.com/economy/article/54660', 'content': '-1'}\n",
            "{'author': '-1', 'category': '-1', 'published_date': '-1', 'modification_date': '-1', 'tag': '-1', 'comment_count': 0, 'title': '-1', 'url': 'http://www.prothom-alo.com/economy/article/54657', 'content': '-1'}\n",
            "{'author': '-1', 'category': '-1', 'published_date': '-1', 'modification_date': '-1', 'tag': '-1', 'comment_count': 0, 'title': '-1', 'url': 'http://www.prothom-alo.com/bangladesh/article/60289', 'content': '-1'}\n",
            "{'author': '-1', 'category': '-1', 'published_date': '-1', 'modification_date': '-1', 'tag': '-1', 'comment_count': 0, 'title': '-1', 'url': 'http://www.prothom-alo.com/opinion/article/150439', 'content': '-1'}\n",
            "{'author': '-1', 'category': '-1', 'published_date': '-1', 'modification_date': '-1', 'tag': '-1', 'comment_count': 0, 'title': '-1', 'url': 'http://www.prothom-alo.com/life-style/article/221245', 'content': '-1'}\n",
            "{'author': '-1', 'category': '-1', 'published_date': '-1', 'modification_date': '-1', 'tag': '-1', 'comment_count': 0, 'title': '-1', 'url': 'http://www.prothom-alo.com/life-style/article/221242', 'content': '-1'}\n",
            "{'author': '-1', 'category': '-1', 'published_date': '-1', 'modification_date': '-1', 'tag': '-1', 'comment_count': 0, 'title': '-1', 'url': 'http://www.prothom-alo.com/life-style/article/221239', 'content': '-1'}\n",
            "{'author': '-1', 'category': '-1', 'published_date': '-1', 'modification_date': '-1', 'tag': '-1', 'comment_count': 0, 'title': '-1', 'url': 'http://www.prothom-alo.com/life-style/article/221233', 'content': '-1'}\n",
            "{'author': '-1', 'category': '-1', 'published_date': '-1', 'modification_date': '-1', 'tag': '-1', 'comment_count': 0, 'title': '-1', 'url': 'http://www.prothom-alo.com/life-style/article/221230', 'content': '-1'}\n",
            "{'author': '-1', 'category': '-1', 'published_date': '-1', 'modification_date': '-1', 'tag': '-1', 'comment_count': 0, 'title': '-1', 'url': 'http://www.prothom-alo.com/international/article/221110', 'content': '-1'}\n",
            "{'author': '-1', 'category': '-1', 'published_date': '-1', 'modification_date': '-1', 'tag': '-1', 'comment_count': 0, 'title': '-1', 'url': 'http://www.prothom-alo.com/life-style/article/221227', 'content': '-1'}\n",
            "{'author': '-1', 'category': '-1', 'published_date': '-1', 'modification_date': '-1', 'tag': '-1', 'comment_count': 0, 'title': '-1', 'url': 'http://www.prothom-alo.com/international/article/221107', 'content': '-1'}\n",
            "{'author': '-1', 'category': '-1', 'published_date': '-1', 'modification_date': '-1', 'tag': '-1', 'comment_count': 0, 'title': '-1', 'url': 'http://www.prothom-alo.com/entertainment/article/221209', 'content': '-1'}\n",
            "{'author': '-1', 'category': '-1', 'published_date': '-1', 'modification_date': '-1', 'tag': '-1', 'comment_count': 0, 'title': '-1', 'url': 'http://www.prothom-alo.com/entertainment/article/221212', 'content': '-1'}\n",
            "{'author': '-1', 'category': '-1', 'published_date': '-1', 'modification_date': '-1', 'tag': '-1', 'comment_count': 0, 'title': '-1', 'url': 'http://www.prothom-alo.com/international/article/221098', 'content': '-1'}\n",
            "{'author': '-1', 'category': '-1', 'published_date': '-1', 'modification_date': '-1', 'tag': '-1', 'comment_count': 0, 'title': '-1', 'url': 'http://www.prothom-alo.com/opinion/article/221137', 'content': '-1'}\n",
            "{'author': '-1', 'category': '-1', 'published_date': '-1', 'modification_date': '-1', 'tag': '-1', 'comment_count': 0, 'title': '-1', 'url': 'http://www.prothom-alo.com/technology/article/221161', 'content': '-1'}\n",
            "{'author': '-1', 'category': '-1', 'published_date': '-1', 'modification_date': '-1', 'tag': '-1', 'comment_count': 0, 'title': '-1', 'url': 'http://www.prothom-alo.com/technology/article/221455', 'content': '-1'}\n",
            "{'author': '-1', 'category': '-1', 'published_date': '-1', 'modification_date': '-1', 'tag': '-1', 'comment_count': 0, 'title': '-1', 'url': 'http://www.prothom-alo.com/entertainment/article/221203', 'content': '-1'}\n",
            "{'author': '-1', 'category': '-1', 'published_date': '-1', 'modification_date': '-1', 'tag': '-1', 'comment_count': 0, 'title': '-1', 'url': 'http://www.prothom-alo.com/technology/article/221461', 'content': '-1'}\n",
            "{'author': '-1', 'category': '-1', 'published_date': '-1', 'modification_date': '-1', 'tag': '-1', 'comment_count': 0, 'title': '-1', 'url': 'http://www.prothom-alo.com/technology/article/221479', 'content': '-1'}\n",
            "{'author': '-1', 'category': '-1', 'published_date': '-1', 'modification_date': '-1', 'tag': '-1', 'comment_count': 0, 'title': '-1', 'url': 'http://www.prothom-alo.com/life-style/article/221224', 'content': '-1'}\n",
            "{'author': '-1', 'category': '-1', 'published_date': '-1', 'modification_date': '-1', 'tag': '-1', 'comment_count': 0, 'title': '-1', 'url': 'http://www.prothom-alo.com/technology/article/221494', 'content': '-1'}\n",
            "{'author': '-1', 'category': '-1', 'published_date': '-1', 'modification_date': '-1', 'tag': '-1', 'comment_count': 0, 'title': '-1', 'url': 'http://www.prothom-alo.com/sports/article/259372', 'content': '-1'}\n",
            "{'author': '-1', 'category': '-1', 'published_date': '-1', 'modification_date': '-1', 'tag': '-1', 'comment_count': 0, 'title': '-1', 'url': 'http://www.prothom-alo.com/entertainment/article/351076', 'content': '-1'}\n",
            "{'author': '-1', 'category': '-1', 'published_date': '-1', 'modification_date': '-1', 'tag': '-1', 'comment_count': 0, 'title': '-1', 'url': 'http://www.prothom-alo.com/opinion/article/351154', 'content': '-1'}\n",
            "{'author': '-1', 'category': '-1', 'published_date': '-1', 'modification_date': '-1', 'tag': '-1', 'comment_count': 0, 'title': '-1', 'url': 'http://www.prothom-alo.com/entertainment/article/351070', 'content': '-1'}\n",
            "{'author': '-1', 'category': '-1', 'published_date': '-1', 'modification_date': '-1', 'tag': '-1', 'comment_count': 0, 'title': '-1', 'url': 'http://www.prothom-alo.com/bangladesh/article/547420', 'content': '-1'}\n",
            "{'author': '-1', 'category': '-1', 'published_date': '-1', 'modification_date': '-1', 'tag': '-1', 'comment_count': 0, 'title': '-1', 'url': 'http://www.prothom-alo.com/bangladesh/article/547423', 'content': '-1'}\n",
            "{'author': '-1', 'category': '-1', 'published_date': '-1', 'modification_date': '-1', 'tag': '-1', 'comment_count': 0, 'title': '-1', 'url': 'http://www.prothom-alo.com/bangladesh/article/547414', 'content': '-1'}\n",
            "{'author': '-1', 'category': '-1', 'published_date': '-1', 'modification_date': '-1', 'tag': '-1', 'comment_count': 0, 'title': '-1', 'url': 'http://www.prothom-alo.com/bangladesh/article/547417', 'content': '-1'}\n",
            "{'author': '-1', 'category': '-1', 'published_date': '-1', 'modification_date': '-1', 'tag': '-1', 'comment_count': 0, 'title': '-1', 'url': 'http://www.prothom-alo.com/sports/article/547426', 'content': '-1'}\n",
            "{'author': '-1', 'category': '-1', 'published_date': '-1', 'modification_date': '-1', 'tag': '-1', 'comment_count': 0, 'title': '-1', 'url': 'http://www.prothom-alo.com/sports/article/547405', 'content': '-1'}\n",
            "{'author': '-1', 'category': '-1', 'published_date': '-1', 'modification_date': '-1', 'tag': '-1', 'comment_count': 0, 'title': '-1', 'url': 'http://www.prothom-alo.com/international/article/554236', 'content': '-1'}\n",
            "{'author': '-1', 'category': '-1', 'published_date': '-1', 'modification_date': '-1', 'tag': '-1', 'comment_count': 0, 'title': '-1', 'url': 'http://www.prothom-alo.com/bangladesh/article/554221', 'content': '-1'}\n",
            "{'author': '-1', 'category': '-1', 'published_date': '-1', 'modification_date': '-1', 'tag': '-1', 'comment_count': 0, 'title': '-1', 'url': 'http://www.prothom-alo.com/bangladesh/article/554218', 'content': '-1'}\n",
            "{'author': '-1', 'category': '-1', 'published_date': '-1', 'modification_date': '-1', 'tag': '-1', 'comment_count': 0, 'title': '-1', 'url': 'http://www.prothom-alo.com/sports/article/554200', 'content': '-1'}\n",
            "{'author': '-1', 'category': '-1', 'published_date': '-1', 'modification_date': '-1', 'tag': '-1', 'comment_count': 0, 'title': '-1', 'url': 'http://www.prothom-alo.com/entertainment/article/646482', 'content': '-1'}\n",
            "{'author': '-1', 'category': '-1', 'published_date': '-1', 'modification_date': '-1', 'tag': '-1', 'comment_count': 0, 'title': '-1', 'url': 'http://www.prothom-alo.com/kishoralo/article/1583484', 'content': '-1'}\n",
            "{'author': '-1', 'category': '-1', 'published_date': '-1', 'modification_date': '-1', 'tag': '-1', 'comment_count': 0, 'title': '-1', 'url': 'http://www.prothom-alo.com/economy/article/646543', 'content': '-1'}\n",
            "{'author': '-1', 'category': '-1', 'published_date': '-1', 'modification_date': '-1', 'tag': '-1', 'comment_count': 0, 'title': '-1', 'url': 'http://www.prothom-alo.com/economy/article/646546', 'content': '-1'}\n",
            "{'author': '-1', 'category': '-1', 'published_date': '-1', 'modification_date': '-1', 'tag': '-1', 'comment_count': 0, 'title': '-1', 'url': 'http://www.prothom-alo.com/economy/article/646552', 'content': '-1'}\n",
            "{'author': '-1', 'category': '-1', 'published_date': '-1', 'modification_date': '-1', 'tag': '-1', 'comment_count': 0, 'title': '-1', 'url': 'http://www.prothom-alo.com/kishoralo/article/1583795', 'content': '-1'}\n",
            "{'author': '-1', 'category': '-1', 'published_date': '-1', 'modification_date': '-1', 'tag': '-1', 'comment_count': 0, 'title': '-1', 'url': 'http://www.prothom-alo.com/kishoralo/article/1581508', 'content': '-1'}\n",
            "{'author': '-1', 'category': '-1', 'published_date': '-1', 'modification_date': '-1', 'tag': '-1', 'comment_count': 0, 'title': '-1', 'url': 'http://www.prothom-alo.com/kishoralo/article/1581511', 'content': '-1'}\n",
            "{'author': '-1', 'category': '-1', 'published_date': '-1', 'modification_date': '-1', 'tag': '-1', 'comment_count': 0, 'title': '-1', 'url': 'http://www.prothom-alo.com/kishoralo/article/1576405', 'content': '-1'}\n",
            "{'author': '-1', 'category': '-1', 'published_date': '-1', 'modification_date': '-1', 'tag': '-1', 'comment_count': 0, 'title': '-1', 'url': 'http://www.prothom-alo.com/bangladesh/article/769321', 'content': '-1'}\n",
            "{'author': '-1', 'category': '-1', 'published_date': '-1', 'modification_date': '-1', 'tag': '-1', 'comment_count': 0, 'title': '-1', 'url': 'http://www.prothom-alo.com/bangladesh/article/769354', 'content': '-1'}\n",
            "{'author': '-1', 'category': '-1', 'published_date': '-1', 'modification_date': '-1', 'tag': '-1', 'comment_count': 0, 'title': '-1', 'url': 'http://www.prothom-alo.com/bangladesh/article/846241', 'content': '-1'}\n",
            "{'author': '-1', 'category': '-1', 'published_date': '-1', 'modification_date': '-1', 'tag': '-1', 'comment_count': 0, 'title': '-1', 'url': 'http://www.prothom-alo.com/bangladesh/article/846229', 'content': '-1'}\n",
            "{'author': '-1', 'category': '-1', 'published_date': '-1', 'modification_date': '-1', 'tag': '-1', 'comment_count': 0, 'title': '-1', 'url': 'http://www.prothom-alo.com/bangladesh/article/846232', 'content': '-1'}\n",
            "{'author': '-1', 'category': '-1', 'published_date': '-1', 'modification_date': '-1', 'tag': '-1', 'comment_count': 0, 'title': '-1', 'url': 'http://www.prothom-alo.com/bangladesh/article/846220', 'content': '-1'}\n",
            "{'author': '-1', 'category': '-1', 'published_date': '-1', 'modification_date': '-1', 'tag': '-1', 'comment_count': 0, 'title': '-1', 'url': 'http://www.prothom-alo.com/bangladesh/article/846226', 'content': '-1'}\n",
            "{'author': '-1', 'category': '-1', 'published_date': '-1', 'modification_date': '-1', 'tag': '-1', 'comment_count': 0, 'title': '-1', 'url': 'http://www.prothom-alo.com/bangladesh/article/846247', 'content': '-1'}\n",
            "{'author': '-1', 'category': '-1', 'published_date': '-1', 'modification_date': '-1', 'tag': '-1', 'comment_count': 0, 'title': '-1', 'url': 'http://www.prothom-alo.com/bangladesh/article/866275', 'content': '-1'}\n",
            "{'author': '-1', 'category': '-1', 'published_date': '-1', 'modification_date': '-1', 'tag': '-1', 'comment_count': 0, 'title': '-1', 'url': 'http://www.prothom-alo.com/bangladesh/article/866266', 'content': '-1'}\n",
            "{'author': '-1', 'category': '-1', 'published_date': '-1', 'modification_date': '-1', 'tag': '-1', 'comment_count': 0, 'title': '-1', 'url': 'http://www.prothom-alo.com/sports/article/866260', 'content': '-1'}\n",
            "{'author': '-1', 'category': '-1', 'published_date': '-1', 'modification_date': '-1', 'tag': '-1', 'comment_count': 0, 'title': '-1', 'url': 'http://www.prothom-alo.com/sports/article/962557', 'content': '-1'}\n",
            "{'author': '-1', 'category': '-1', 'published_date': '-1', 'modification_date': '-1', 'tag': '-1', 'comment_count': 0, 'title': '-1', 'url': 'http://www.prothom-alo.com/bangladesh/article/962554', 'content': '-1'}\n",
            "{'author': '-1', 'category': '-1', 'published_date': '-1', 'modification_date': '-1', 'tag': '-1', 'comment_count': 0, 'title': '-1', 'url': 'http://www.prothom-alo.com/bangladesh/article/962551', 'content': '-1'}\n",
            "{'author': '-1', 'category': '-1', 'published_date': '-1', 'modification_date': '-1', 'tag': '-1', 'comment_count': 0, 'title': '-1', 'url': 'http://www.prothom-alo.com/entertainment/article/962548', 'content': '-1'}\n",
            "{'author': '-1', 'category': '-1', 'published_date': '-1', 'modification_date': '-1', 'tag': '-1', 'comment_count': 0, 'title': '-1', 'url': 'http://www.prothom-alo.com/bangladesh/article/962545', 'content': '-1'}\n",
            "{'author': '-1', 'category': '-1', 'published_date': '-1', 'modification_date': '-1', 'tag': '-1', 'comment_count': 0, 'title': '-1', 'url': 'http://www.prothom-alo.com/bangladesh/article/962542', 'content': '-1'}\n",
            "{'author': '-1', 'category': '-1', 'published_date': '-1', 'modification_date': '-1', 'tag': '-1', 'comment_count': 0, 'title': '-1', 'url': 'http://www.prothom-alo.com/international/article/962539', 'content': '-1'}\n",
            "{'author': '-1', 'category': '-1', 'published_date': '-1', 'modification_date': '-1', 'tag': '-1', 'comment_count': 0, 'title': '-1', 'url': 'http://www.prothom-alo.com/bangladesh/article/962533', 'content': '-1'}\n",
            "{'author': '-1', 'category': '-1', 'published_date': '-1', 'modification_date': '-1', 'tag': '-1', 'comment_count': 0, 'title': '-1', 'url': 'http://www.prothom-alo.com/bangladesh/article/962530', 'content': '-1'}\n",
            "{'author': '-1', 'category': '-1', 'published_date': '-1', 'modification_date': '-1', 'tag': '-1', 'comment_count': 0, 'title': '-1', 'url': 'http://www.prothom-alo.com/opinion/article/962518', 'content': '-1'}\n",
            "{'author': '-1', 'category': '-1', 'published_date': '-1', 'modification_date': '-1', 'tag': '-1', 'comment_count': 0, 'title': '-1', 'url': 'http://www.prothom-alo.com/bangladesh/article/962515', 'content': '-1'}\n",
            "{'author': '-1', 'category': '-1', 'published_date': '-1', 'modification_date': '-1', 'tag': '-1', 'comment_count': 0, 'title': '-1', 'url': 'http://www.prothom-alo.com/bangladesh/article/962509', 'content': '-1'}\n",
            "{'author': '-1', 'category': '-1', 'published_date': '-1', 'modification_date': '-1', 'tag': '-1', 'comment_count': 0, 'title': '-1', 'url': 'http://www.prothom-alo.com/sports/article/962506', 'content': '-1'}\n",
            "{'author': '-1', 'category': '-1', 'published_date': '-1', 'modification_date': '-1', 'tag': '-1', 'comment_count': 0, 'title': '-1', 'url': 'http://www.prothom-alo.com/entertainment/article/962524', 'content': '-1'}\n",
            "{'author': '-1', 'category': '-1', 'published_date': '-1', 'modification_date': '-1', 'tag': '-1', 'comment_count': 0, 'title': '-1', 'url': 'http://www.prothom-alo.com/bangladesh/article/962500', 'content': '-1'}\n",
            "{'author': '-1', 'category': '-1', 'published_date': '-1', 'modification_date': '-1', 'tag': '-1', 'comment_count': 0, 'title': '-1', 'url': 'http://www.prothom-alo.com/bangladesh/article/1080511', 'content': '-1'}\n",
            "{'author': '-1', 'category': '-1', 'published_date': '-1', 'modification_date': '-1', 'tag': '-1', 'comment_count': 0, 'title': '-1', 'url': 'http://www.prothom-alo.com/bangladesh/article/1080509', 'content': '-1'}\n",
            "{'author': '-1', 'category': '-1', 'published_date': '-1', 'modification_date': '-1', 'tag': '-1', 'comment_count': 0, 'title': '-1', 'url': 'http://www.prothom-alo.com/international/article/1209691', 'content': '-1'}\n",
            "{'author': '-1', 'category': '-1', 'published_date': '-1', 'modification_date': '-1', 'tag': '-1', 'comment_count': 0, 'title': '-1', 'url': 'http://www.prothom-alo.com/entertainment/article/1209296', 'content': '-1'}\n",
            "{'author': '-1', 'category': '-1', 'published_date': '-1', 'modification_date': '-1', 'tag': '-1', 'comment_count': 0, 'title': '-1', 'url': 'http://www.prothom-alo.com/entertainment/article/1209276', 'content': '-1'}\n",
            "{'author': '-1', 'category': '-1', 'published_date': '-1', 'modification_date': '-1', 'tag': '-1', 'comment_count': 0, 'title': '-1', 'url': 'http://www.prothom-alo.com/bangladesh/article/1209696', 'content': '-1'}\n",
            "{'author': '-1', 'category': '-1', 'published_date': '-1', 'modification_date': '-1', 'tag': '-1', 'comment_count': 0, 'title': '-1', 'url': 'http://www.prothom-alo.com/bangladesh/article/1209586', 'content': '-1'}\n",
            "{'author': '-1', 'category': '-1', 'published_date': '-1', 'modification_date': '-1', 'tag': '-1', 'comment_count': 0, 'title': '-1', 'url': 'http://www.prothom-alo.com/bangladesh/article/1209581', 'content': '-1'}\n",
            "{'author': '-1', 'category': '-1', 'published_date': '-1', 'modification_date': '-1', 'tag': '-1', 'comment_count': 0, 'title': '-1', 'url': 'http://www.prothom-alo.com/bangladesh/article/1209571', 'content': '-1'}\n",
            "{'author': '-1', 'category': '-1', 'published_date': '-1', 'modification_date': '-1', 'tag': '-1', 'comment_count': 0, 'title': '-1', 'url': 'http://www.prothom-alo.com/bangladesh/article/1209681', 'content': '-1'}\n",
            "{'author': '-1', 'category': '-1', 'published_date': '-1', 'modification_date': '-1', 'tag': '-1', 'comment_count': 0, 'title': '-1', 'url': 'http://www.prothom-alo.com/life-style/article/1209676', 'content': '-1'}\n",
            "{'author': '-1', 'category': '-1', 'published_date': '-1', 'modification_date': '-1', 'tag': '-1', 'comment_count': 0, 'title': '-1', 'url': 'http://www.prothom-alo.com/bangladesh/article/1209671', 'content': '-1'}\n",
            "{'author': '-1', 'category': '-1', 'published_date': '-1', 'modification_date': '-1', 'tag': '-1', 'comment_count': 0, 'title': '-1', 'url': 'http://www.prothom-alo.com/bangladesh/article/1209651', 'content': '-1'}\n",
            "{'author': '-1', 'category': '-1', 'published_date': '-1', 'modification_date': '-1', 'tag': '-1', 'comment_count': 0, 'title': '-1', 'url': 'http://www.prothom-alo.com/bangladesh/article/1209646', 'content': '-1'}\n",
            "{'author': '-1', 'category': '-1', 'published_date': '-1', 'modification_date': '-1', 'tag': '-1', 'comment_count': 0, 'title': '-1', 'url': 'http://www.prothom-alo.com/bangladesh/article/1209641', 'content': '-1'}\n",
            "{'author': '-1', 'category': '-1', 'published_date': '-1', 'modification_date': '-1', 'tag': '-1', 'comment_count': 0, 'title': '-1', 'url': 'http://www.prothom-alo.com/bangladesh/article/1209631', 'content': '-1'}\n",
            "{'author': '-1', 'category': '-1', 'published_date': '-1', 'modification_date': '-1', 'tag': '-1', 'comment_count': 0, 'title': '-1', 'url': 'http://www.prothom-alo.com/bangladesh/article/1209636', 'content': '-1'}\n",
            "{'author': '-1', 'category': '-1', 'published_date': '-1', 'modification_date': '-1', 'tag': '-1', 'comment_count': 0, 'title': '-1', 'url': 'http://www.prothom-alo.com/bangladesh/article/1209626', 'content': '-1'}\n",
            "{'author': '-1', 'category': '-1', 'published_date': '-1', 'modification_date': '-1', 'tag': '-1', 'comment_count': 0, 'title': '-1', 'url': 'http://www.prothom-alo.com/bangladesh/article/1209621', 'content': '-1'}\n",
            "{'author': '-1', 'category': '-1', 'published_date': '-1', 'modification_date': '-1', 'tag': '-1', 'comment_count': 0, 'title': '-1', 'url': 'http://www.prothom-alo.com/pachmisheli/article/1227541', 'content': '-1'}\n",
            "{'author': '-1', 'category': '-1', 'published_date': '-1', 'modification_date': '-1', 'tag': '-1', 'comment_count': 0, 'title': '-1', 'url': 'http://www.prothom-alo.com/bangladesh/article/1227086', 'content': '-1'}\n",
            "{'author': '-1', 'category': '-1', 'published_date': '-1', 'modification_date': '-1', 'tag': '-1', 'comment_count': 0, 'title': '-1', 'url': 'http://www.prothom-alo.com/bangladesh/article/1481641', 'content': '-1'}\n",
            "{'author': '-1', 'category': '-1', 'published_date': '-1', 'modification_date': '-1', 'tag': '-1', 'comment_count': 0, 'title': '-1', 'url': 'http://www.prothom-alo.com/entertainment/article/1481646', 'content': '-1'}\n",
            "{'author': '-1', 'category': '-1', 'published_date': '-1', 'modification_date': '-1', 'tag': '-1', 'comment_count': 0, 'title': '-1', 'url': 'http://www.prothom-alo.com/sports/article/1569104', 'content': '-1'}\n",
            "{'author': '-1', 'category': '-1', 'published_date': '-1', 'modification_date': '-1', 'tag': '-1', 'comment_count': 0, 'title': '-1', 'url': 'http://www.prothom-alo.com/opinion/article/1569105', 'content': '-1'}\n",
            "{'author': '-1', 'category': '-1', 'published_date': '-1', 'modification_date': '-1', 'tag': '-1', 'comment_count': 0, 'title': '-1', 'url': 'http://www.prothom-alo.com/bangladesh/article/1569103', 'content': '-1'}\n",
            "{'author': '-1', 'category': '-1', 'published_date': '-1', 'modification_date': '-1', 'tag': '-1', 'comment_count': 0, 'title': '-1', 'url': 'http://www.prothom-alo.com/bangladesh/article/1569102', 'content': '-1'}\n",
            "{'author': '-1', 'category': '-1', 'published_date': '-1', 'modification_date': '-1', 'tag': '-1', 'comment_count': 0, 'title': '-1', 'url': 'http://www.prothom-alo.com/bangladesh/article/1569100', 'content': '-1'}\n",
            "{'author': '-1', 'category': '-1', 'published_date': '-1', 'modification_date': '-1', 'tag': '-1', 'comment_count': 0, 'title': '-1', 'url': 'http://www.prothom-alo.com/bondhushava/article/1569110', 'content': '-1'}\n",
            "{'author': '-1', 'category': '-1', 'published_date': '-1', 'modification_date': '-1', 'tag': '-1', 'comment_count': 0, 'title': '-1', 'url': 'http://www.prothom-alo.com/bangladesh/article/1569099', 'content': '-1'}\n",
            "{'author': '-1', 'category': '-1', 'published_date': '-1', 'modification_date': '-1', 'tag': '-1', 'comment_count': 0, 'title': '-1', 'url': 'http://www.prothom-alo.com/bangladesh/article/1569094', 'content': '-1'}\n",
            "{'author': '-1', 'category': '-1', 'published_date': '-1', 'modification_date': '-1', 'tag': '-1', 'comment_count': 0, 'title': '-1', 'url': 'http://www.prothom-alo.com/bangladesh/article/1569093', 'content': '-1'}\n",
            "{'author': '-1', 'category': '-1', 'published_date': '-1', 'modification_date': '-1', 'tag': '-1', 'comment_count': 0, 'title': '-1', 'url': 'http://www.prothom-alo.com/opinion/article/1569095', 'content': '-1'}\n",
            "{'author': '-1', 'category': '-1', 'published_date': '-1', 'modification_date': '-1', 'tag': '-1', 'comment_count': 0, 'title': '-1', 'url': 'http://www.prothom-alo.com/bangladesh/article/1569091', 'content': '-1'}\n",
            "{'author': '-1', 'category': '-1', 'published_date': '-1', 'modification_date': '-1', 'tag': '-1', 'comment_count': 0, 'title': '-1', 'url': 'http://www.prothom-alo.com/opinion/article/1569089', 'content': '-1'}\n",
            "{'author': '-1', 'category': '-1', 'published_date': '-1', 'modification_date': '-1', 'tag': '-1', 'comment_count': 0, 'title': '-1', 'url': 'http://www.prothom-alo.com/bangladesh/article/1569092', 'content': '-1'}\n",
            "{'author': '-1', 'category': '-1', 'published_date': '-1', 'modification_date': '-1', 'tag': '-1', 'comment_count': 0, 'title': '-1', 'url': 'http://www.prothom-alo.com/entertainment/article/1569088', 'content': '-1'}\n",
            "{'author': '-1', 'category': '-1', 'published_date': '-1', 'modification_date': '-1', 'tag': '-1', 'comment_count': 0, 'title': '-1', 'url': 'http://www.prothom-alo.com/international/article/1572850', 'content': '-1'}\n",
            "{'author': '-1', 'category': '-1', 'published_date': '-1', 'modification_date': '-1', 'tag': '-1', 'comment_count': 0, 'title': '-1', 'url': 'http://www.prothom-alo.com/bangladesh/article/1572980', 'content': '-1'}\n",
            "{'author': '-1', 'category': '-1', 'published_date': '-1', 'modification_date': '-1', 'tag': '-1', 'comment_count': 0, 'title': '-1', 'url': 'http://www.prothom-alo.com/sports/article/1576436', 'content': '-1'}\n",
            "{'author': '-1', 'category': '-1', 'published_date': '-1', 'modification_date': '-1', 'tag': '-1', 'comment_count': 0, 'title': '-1', 'url': 'http://www.prothom-alo.com/bangladesh/article/1576986', 'content': '-1'}\n",
            "{'author': '-1', 'category': '-1', 'published_date': '-1', 'modification_date': '-1', 'tag': '-1', 'comment_count': 0, 'title': '-1', 'url': 'http://www.prothom-alo.com/entertainment/article/1576979', 'content': '-1'}\n",
            "{'author': '-1', 'category': '-1', 'published_date': '-1', 'modification_date': '-1', 'tag': '-1', 'comment_count': 0, 'title': '-1', 'url': 'http://www.prothom-alo.com/international/article/1576977', 'content': '-1'}\n",
            "{'author': '-1', 'category': '-1', 'published_date': '-1', 'modification_date': '-1', 'tag': '-1', 'comment_count': 0, 'title': '-1', 'url': 'http://www.prothom-alo.com/bangladesh/article/1576971', 'content': '-1'}\n",
            "{'author': '-1', 'category': '-1', 'published_date': '-1', 'modification_date': '-1', 'tag': '-1', 'comment_count': 0, 'title': '-1', 'url': 'http://www.prothom-alo.com/economy/article/1576973', 'content': '-1'}\n",
            "{'author': '-1', 'category': '-1', 'published_date': '-1', 'modification_date': '-1', 'tag': '-1', 'comment_count': 0, 'title': '-1', 'url': 'http://www.prothom-alo.com/international/article/1576944', 'content': '-1'}\n",
            "{'author': '-1', 'category': '-1', 'published_date': '-1', 'modification_date': '-1', 'tag': '-1', 'comment_count': 0, 'title': '-1', 'url': 'http://www.prothom-alo.com/international/article/1597352', 'content': '-1'}\n",
            "{'author': '-1', 'category': '-1', 'published_date': '-1', 'modification_date': '-1', 'tag': '-1', 'comment_count': 0, 'title': '-1', 'url': 'http://www.prothom-alo.com/sports/article/1597351', 'content': '-1'}\n"
          ]
        }
      ],
      "source": [
        "\n",
        "for i in range(len(data)):\n",
        "    if (data[i]['category'] == '-1'):\n",
        "             print(data[i])\n"
      ]
    },
    {
      "cell_type": "markdown",
      "metadata": {
        "id": "y_ezoHUsX8da"
      },
      "source": [
        "# ***Lemmatization***"
      ]
    },
    {
      "cell_type": "code",
      "execution_count": 17,
      "metadata": {
        "colab": {
          "base_uri": "https://localhost:8080/"
        },
        "id": "-G5wdm5cYBG0",
        "outputId": "a75728f8-8b16-47ed-e2fa-d42db5b8445b"
      },
      "outputs": [
        {
          "output_type": "stream",
          "name": "stdout",
          "text": [
            "Looking in indexes: https://pypi.org/simple, https://us-python.pkg.dev/colab-wheels/public/simple/\n",
            "Collecting bnlp_toolkit\n",
            "  Downloading bnlp_toolkit-3.2.0-py3-none-any.whl (19 kB)\n",
            "Requirement already satisfied: scipy in /usr/local/lib/python3.8/dist-packages (from bnlp_toolkit) (1.7.3)\n",
            "Requirement already satisfied: tqdm in /usr/local/lib/python3.8/dist-packages (from bnlp_toolkit) (4.64.1)\n",
            "Requirement already satisfied: wasabi in /usr/local/lib/python3.8/dist-packages (from bnlp_toolkit) (0.10.1)\n",
            "Requirement already satisfied: numpy in /usr/local/lib/python3.8/dist-packages (from bnlp_toolkit) (1.22.4)\n",
            "Collecting sklearn-crfsuite\n",
            "  Downloading sklearn_crfsuite-0.3.6-py2.py3-none-any.whl (12 kB)\n",
            "Collecting gensim==4.0.1\n",
            "  Downloading gensim-4.0.1-cp38-cp38-manylinux1_x86_64.whl (23.9 MB)\n",
            "\u001b[2K     \u001b[90m━━━━━━━━━━━━━━━━━━━━━━━━━━━━━━━━━━━━━━━━\u001b[0m \u001b[32m23.9/23.9 MB\u001b[0m \u001b[31m48.7 MB/s\u001b[0m eta \u001b[36m0:00:00\u001b[0m\n",
            "\u001b[?25hCollecting sentencepiece\n",
            "  Downloading sentencepiece-0.1.97-cp38-cp38-manylinux_2_17_x86_64.manylinux2014_x86_64.whl (1.3 MB)\n",
            "\u001b[2K     \u001b[90m━━━━━━━━━━━━━━━━━━━━━━━━━━━━━━━━━━━━━━━━\u001b[0m \u001b[32m1.3/1.3 MB\u001b[0m \u001b[31m45.7 MB/s\u001b[0m eta \u001b[36m0:00:00\u001b[0m\n",
            "\u001b[?25hRequirement already satisfied: nltk in /usr/local/lib/python3.8/dist-packages (from bnlp_toolkit) (3.7)\n",
            "Requirement already satisfied: smart-open>=1.8.1 in /usr/local/lib/python3.8/dist-packages (from gensim==4.0.1->bnlp_toolkit) (6.3.0)\n",
            "Requirement already satisfied: regex>=2021.8.3 in /usr/local/lib/python3.8/dist-packages (from nltk->bnlp_toolkit) (2022.6.2)\n",
            "Requirement already satisfied: click in /usr/local/lib/python3.8/dist-packages (from nltk->bnlp_toolkit) (7.1.2)\n",
            "Requirement already satisfied: joblib in /usr/local/lib/python3.8/dist-packages (from nltk->bnlp_toolkit) (1.2.0)\n",
            "Requirement already satisfied: tabulate in /usr/local/lib/python3.8/dist-packages (from sklearn-crfsuite->bnlp_toolkit) (0.8.10)\n",
            "Collecting python-crfsuite>=0.8.3\n",
            "  Downloading python_crfsuite-0.9.9-cp38-cp38-manylinux_2_17_x86_64.manylinux2014_x86_64.whl (1.0 MB)\n",
            "\u001b[2K     \u001b[90m━━━━━━━━━━━━━━━━━━━━━━━━━━━━━━━━━━━━━━━━\u001b[0m \u001b[32m1.0/1.0 MB\u001b[0m \u001b[31m59.3 MB/s\u001b[0m eta \u001b[36m0:00:00\u001b[0m\n",
            "\u001b[?25hRequirement already satisfied: six in /usr/local/lib/python3.8/dist-packages (from sklearn-crfsuite->bnlp_toolkit) (1.15.0)\n",
            "Installing collected packages: sentencepiece, python-crfsuite, sklearn-crfsuite, gensim, bnlp_toolkit\n",
            "  Attempting uninstall: gensim\n",
            "    Found existing installation: gensim 3.6.0\n",
            "    Uninstalling gensim-3.6.0:\n",
            "      Successfully uninstalled gensim-3.6.0\n",
            "Successfully installed bnlp_toolkit-3.2.0 gensim-4.0.1 python-crfsuite-0.9.9 sentencepiece-0.1.97 sklearn-crfsuite-0.3.6\n",
            "Looking in indexes: https://pypi.org/simple, https://us-python.pkg.dev/colab-wheels/public/simple/\n",
            "Collecting banglakit-lemmatizer\n",
            "  Cloning https://github.com/banglakit/lemmatizer.git to /tmp/pip-install-me7q5uu2/banglakit-lemmatizer_078cba4209fa4ce498019e1f6f469d3a\n",
            "  Running command git clone --filter=blob:none --quiet https://github.com/banglakit/lemmatizer.git /tmp/pip-install-me7q5uu2/banglakit-lemmatizer_078cba4209fa4ce498019e1f6f469d3a\n",
            "  Resolved https://github.com/banglakit/lemmatizer.git to commit f94d8f8dfe06fac70fa151a46069888acffe8870\n",
            "  Preparing metadata (setup.py) ... \u001b[?25l\u001b[?25hdone\n",
            "Building wheels for collected packages: banglakit-lemmatizer\n",
            "  Building wheel for banglakit-lemmatizer (setup.py) ... \u001b[?25l\u001b[?25hdone\n",
            "  Created wheel for banglakit-lemmatizer: filename=banglakit_lemmatizer-0.0.1-py3-none-any.whl size=117720 sha256=195a98eb7c8d19a4a44d4ce511ea02257c5afa75f94b3ffd067c9721a9d4b711\n",
            "  Stored in directory: /tmp/pip-ephem-wheel-cache-vqqh2ej_/wheels/5c/37/da/19d74ad562fbc1c185b4b43d702c7e0e1983289e9224a1fe1c\n",
            "Successfully built banglakit-lemmatizer\n",
            "Installing collected packages: banglakit-lemmatizer\n",
            "Successfully installed banglakit-lemmatizer-0.0.1\n",
            "punkt not found. downloading...\n"
          ]
        },
        {
          "output_type": "stream",
          "name": "stderr",
          "text": [
            "[nltk_data] Downloading package punkt to /root/nltk_data...\n",
            "[nltk_data]   Unzipping tokenizers/punkt.zip.\n",
            "/usr/local/lib/python3.8/dist-packages/gensim/similarities/__init__.py:15: UserWarning: The gensim.similarities.levenshtein submodule is disabled, because the optional Levenshtein package <https://pypi.org/project/python-Levenshtein/> is unavailable. Install Levenhstein (e.g. `pip install python-Levenshtein`) to suppress this warning.\n",
            "  warnings.warn(msg)\n"
          ]
        }
      ],
      "source": [
        "!pip install bnlp_toolkit\n",
        "!pip install git+https://github.com/banglakit/lemmatizer.git#egg=banglakit-lemmatizer\n",
        "\n",
        "from bnlp import NLTKTokenizer\n",
        "from banglakit import lemmatizer as lem\n",
        "from banglakit.lemmatizer import BengaliLemmatizer\n",
        "\n",
        "import nltk\n",
        "from nltk.stem import WordNetLemmatizer\n",
        "\n",
        "nltk_tokenizer = NLTKTokenizer()\n",
        "lemmatizer = BengaliLemmatizer()\n",
        "\n",
        "# text = \"আমার সোনার বাংলা, আমি তোমায় ভালবাসি।\"\n",
        "# tokens = nltk_tokenizer.word_tokenize(text)\n",
        "# lemmatized_text = [lemmatizer.lemmatize(token) for token in tokens]\n",
        "\n",
        "\n",
        "# Tokenize the list of text.\n",
        "tokens_list = [nltk_tokenizer.word_tokenize(content) for content in features]\n",
        "\n",
        "# Apply lemmatization to each token in each list.\n",
        "lemmatized_tokens_list = []\n",
        "for tokens in tokens_list:\n",
        "    lemmatized_tokens = []\n",
        "    for token in tokens:\n",
        "        lemmatized_tokens.append(lemmatizer.lemmatize(token))\n",
        "    lemmatized_tokens_list.append(lemmatized_tokens)\n",
        "\n",
        "# Join the tokens back into a single string for each text in the list.\n",
        "# lemmatized_text_list = [' '.join(tokens) for tokens in lemmatized_tokens_list]\n",
        "\n"
      ]
    },
    {
      "cell_type": "code",
      "execution_count": 18,
      "metadata": {
        "colab": {
          "base_uri": "https://localhost:8080/"
        },
        "id": "LPDBVszncjIj",
        "outputId": "732820bb-75d9-404e-9ccb-1444a3b44dfa"
      },
      "outputs": [
        {
          "output_type": "execute_result",
          "data": {
            "text/plain": [
              "['সাইকেলতাহমিনা',\n",
              " 'বেগম',\n",
              " 'স্বপ্নে',\n",
              " 'দেখ',\n",
              " ',',\n",
              " 'লিজার',\n",
              " 'বাবা',\n",
              " 'একটা',\n",
              " 'নতুন',\n",
              " 'সাইকেল',\n",
              " 'নিয়ে',\n",
              " 'ঢুকছেন',\n",
              " 'উঠানে',\n",
              " '।',\n",
              " 'তাঁকে',\n",
              " 'খুব',\n",
              " 'হাস্যোজ্জ্বল',\n",
              " 'আর',\n",
              " 'সুখী',\n",
              " 'দেখ',\n",
              " '।',\n",
              " 'লিজার',\n",
              " 'মাকে',\n",
              " 'দেখ',\n",
              " 'পেয়েই',\n",
              " 'বল',\n",
              " ',',\n",
              " '‘',\n",
              " 'লিজার',\n",
              " 'জন্য',\n",
              " 'কিনে',\n",
              " 'আনলাম',\n",
              " '।',\n",
              " 'কত',\n",
              " 'দিন',\n",
              " 'ধর',\n",
              " 'আবদার',\n",
              " 'কর',\n",
              " 'মেয়েটা',\n",
              " '।',\n",
              " '’',\n",
              " '‘',\n",
              " 'কিন্তু',\n",
              " 'লিজা',\n",
              " 'তো',\n",
              " 'নেই',\n",
              " '।',\n",
              " '-PRON-',\n",
              " 'যেন',\n",
              " 'কিছুই',\n",
              " 'জানো',\n",
              " 'না',\n",
              " '!',\n",
              " '’',\n",
              " 'লিজার',\n",
              " 'বাবাকে',\n",
              " 'খানিকটা',\n",
              " 'বিচলিত',\n",
              " 'দেখ',\n",
              " '।',\n",
              " '-PRON-',\n",
              " 'লিজার',\n",
              " 'মায়ের',\n",
              " 'ভুল',\n",
              " 'ভাঙ',\n",
              " 'চাইলেন',\n",
              " ',',\n",
              " '‘',\n",
              " '-PRON-',\n",
              " 'যেটা',\n",
              " 'বলতেছ',\n",
              " ',',\n",
              " 'সেটা',\n",
              " 'একটা',\n",
              " 'দুঃস্বপ্ন',\n",
              " 'ছিল',\n",
              " '।',\n",
              " 'এখন',\n",
              " 'সব',\n",
              " 'ঠিক',\n",
              " 'হয়ে',\n",
              " 'গেছে',\n",
              " '।',\n",
              " '’',\n",
              " '‘',\n",
              " 'কিন্তু',\n",
              " 'এখন',\n",
              " '-PRON-',\n",
              " '-PRON-',\n",
              " 'স্বপ্ন',\n",
              " 'দেখতেছি',\n",
              " 'না',\n",
              " '?',\n",
              " '’',\n",
              " '‘',\n",
              " '-PRON-',\n",
              " '-PRON-',\n",
              " ',',\n",
              " 'দেখো',\n",
              " 'লিজা',\n",
              " 'আসতেছে',\n",
              " '।',\n",
              " '’',\n",
              " 'স্কুলের',\n",
              " 'পোশাক',\n",
              " 'পর',\n",
              " 'লিজা',\n",
              " 'বেরোল',\n",
              " 'ঘর',\n",
              " 'থেকে',\n",
              " '।',\n",
              " '-PRON-',\n",
              " 'উঠানে',\n",
              " 'এসে',\n",
              " 'সাইকেলসহ',\n",
              " 'বাবাকে',\n",
              " 'দেখ',\n",
              " 'খুশি',\n",
              " 'হলো',\n",
              " 'এবং',\n",
              " 'সাইকেলটা',\n",
              " 'নিয়ে',\n",
              " 'উঠানের',\n",
              " 'আয়তাকার',\n",
              " 'জায়গাটাতে',\n",
              " 'চাল',\n",
              " 'চেষ্টা',\n",
              " 'করল।তাহমিনা',\n",
              " 'বেগম',\n",
              " 'লক্ষ',\n",
              " 'কর',\n",
              " 'মেয়ের',\n",
              " 'মাথার',\n",
              " 'চুল',\n",
              " 'এলোমেলোভাবে',\n",
              " 'কাট',\n",
              " '।',\n",
              " 'হাত',\n",
              " 'ও',\n",
              " 'মুখে',\n",
              " 'আঘাতের',\n",
              " 'চিহ্ন',\n",
              " '।',\n",
              " 'জঙ্গলে',\n",
              " 'ওর',\n",
              " 'মৃতদেহ',\n",
              " 'পাওয়ার',\n",
              " 'আগে',\n",
              " 'কাট',\n",
              " 'চুলগুলো',\n",
              " 'পাওয়া',\n",
              " 'যাওয়া',\n",
              " 'খালের',\n",
              " 'পাড়ে',\n",
              " '।',\n",
              " 'তাহমিনা',\n",
              " 'বেগম',\n",
              " 'মেয়ের',\n",
              " 'এই',\n",
              " 'হাল',\n",
              " 'দেখ',\n",
              " 'উদ্বিগ্ন',\n",
              " 'হলেন',\n",
              " '।',\n",
              " '‘',\n",
              " 'তাহলে',\n",
              " 'সেটা',\n",
              " '-PRON-',\n",
              " 'সত্যিই',\n",
              " 'দুঃস্বপ্ন',\n",
              " 'ছিল',\n",
              " '?',\n",
              " '’',\n",
              " '‘',\n",
              " 'হ্যাঁ',\n",
              " '।',\n",
              " '’',\n",
              " '‘',\n",
              " 'কী',\n",
              " 'দেখছিলা',\n",
              " '-PRON-',\n",
              " '?',\n",
              " '’',\n",
              " '‘',\n",
              " 'ঠিক',\n",
              " '-PRON-',\n",
              " 'দুঃস্বপ্নটার',\n",
              " 'মতো',\n",
              " '।',\n",
              " 'সব',\n",
              " 'ঘটনাই',\n",
              " 'এক',\n",
              " '।',\n",
              " '’',\n",
              " '‘',\n",
              " 'কিন্তু',\n",
              " 'স্বপ্ন',\n",
              " 'দুটো',\n",
              " 'একই',\n",
              " 'রকম',\n",
              " 'ছিল',\n",
              " '-PRON-',\n",
              " 'না',\n",
              " ',',\n",
              " '-PRON-',\n",
              " 'তো',\n",
              " 'মিলায়া',\n",
              " 'দেখ',\n",
              " 'নাই',\n",
              " '।',\n",
              " '’',\n",
              " '‘',\n",
              " '-PRON-',\n",
              " 'জানি',\n",
              " ',',\n",
              " 'সবকিছুই',\n",
              " 'ছিল',\n",
              " 'এক',\n",
              " '।',\n",
              " '-PRON-',\n",
              " 'উদ্বেগ',\n",
              " ',',\n",
              " 'লিজাকে',\n",
              " 'খুঁজতে',\n",
              " 'বেরোনো',\n",
              " ',',\n",
              " 'জঙ্গলে',\n",
              " 'মৃতদেহ',\n",
              " 'পাওয়া',\n",
              " ',',\n",
              " 'থানা-পুলিশ',\n",
              " ',',\n",
              " 'গোয়েন্দা-পুলিশ',\n",
              " 'তারপর',\n",
              " 'অপরাধ',\n",
              " 'তদন্ত',\n",
              " 'বিভাগ',\n",
              " ',',\n",
              " 'প্রচুর',\n",
              " 'জেরা',\n",
              " ',',\n",
              " 'ডিএনএ',\n",
              " 'টেস্ট',\n",
              " ',',\n",
              " 'মৃতদেহ',\n",
              " 'কবর',\n",
              " 'থেকে',\n",
              " 'তোলা',\n",
              " ',',\n",
              " 'কয়েকবার',\n",
              " 'পোস্টমর্টেম',\n",
              " ',',\n",
              " 'কিন্তু',\n",
              " 'ফরেনসিক',\n",
              " 'বিভাগের',\n",
              " 'কোনো',\n",
              " 'রিপোর্টেই',\n",
              " 'মৃত্যুর',\n",
              " 'কারণ',\n",
              " 'লেখা',\n",
              " 'না',\n",
              " 'থাকা',\n",
              " '...',\n",
              " '।',\n",
              " 'তখন',\n",
              " 'কেউ',\n",
              " 'একজন',\n",
              " 'বল',\n",
              " ',',\n",
              " '“',\n",
              " 'লিজা',\n",
              " 'মরেনি',\n",
              " '।',\n",
              " 'মৃত্যুর',\n",
              " 'কারণ',\n",
              " 'না',\n",
              " 'থাকলে',\n",
              " '-PRON-',\n",
              " 'মর',\n",
              " 'যাওয়া',\n",
              " 'কেন',\n",
              " '?',\n",
              " '”',\n",
              " 'আবার',\n",
              " 'কেউ',\n",
              " 'বল',\n",
              " ',',\n",
              " '“',\n",
              " 'জীবন্ত',\n",
              " 'মেয়েকে',\n",
              " 'কবর',\n",
              " 'দেওয়া',\n",
              " 'ঠিক',\n",
              " 'হয়',\n",
              " 'নাই',\n",
              " '।',\n",
              " '”',\n",
              " '...',\n",
              " 'এসব',\n",
              " 'নিয়া',\n",
              " 'হুলুস্থুল',\n",
              " 'কাণ্ড',\n",
              " ',',\n",
              " 'তারপর',\n",
              " 'হুমকি-ধমকি',\n",
              " '...',\n",
              " '।',\n",
              " '’',\n",
              " '‘',\n",
              " 'হ্যাঁ',\n",
              " ',',\n",
              " 'একদম',\n",
              " 'তাই',\n",
              " '।',\n",
              " '’',\n",
              " '‘',\n",
              " 'কিন্তু',\n",
              " 'দুঃস্বপ্নটা',\n",
              " '-PRON-',\n",
              " '-PRON-',\n",
              " 'একসঙ্গে',\n",
              " 'দেখতেছিলাম',\n",
              " '?',\n",
              " '’',\n",
              " '‘',\n",
              " 'হ্যাঁ',\n",
              " '।',\n",
              " '’',\n",
              " '‘',\n",
              " 'এখন',\n",
              " '?',\n",
              " '’',\n",
              " 'লিজার',\n",
              " 'বাবাকে',\n",
              " 'আনমনা',\n",
              " 'দেখ',\n",
              " '।',\n",
              " 'তাহমিনা',\n",
              " 'বেগম',\n",
              " 'জিজ্ঞেস',\n",
              " 'কর',\n",
              " ',',\n",
              " '‘',\n",
              " 'এখন',\n",
              " '-PRON-',\n",
              " 'স্বপ্নটা',\n",
              " '-PRON-',\n",
              " 'দেখতেছ',\n",
              " 'না',\n",
              " '-PRON-',\n",
              " '?',\n",
              " '’',\n",
              " 'লিজার',\n",
              " 'বাবা',\n",
              " 'কী',\n",
              " 'যেন',\n",
              " 'খুঁজতে',\n",
              " 'ঘরের',\n",
              " 'ভেতর',\n",
              " 'যাওয়া',\n",
              " '।',\n",
              " 'তাহমিনা',\n",
              " 'বেগম',\n",
              " 'দেখ',\n",
              " ',',\n",
              " 'মেয়ে',\n",
              " 'সাইকেল',\n",
              " 'নিয়ে',\n",
              " 'বেরিয়ে',\n",
              " 'যাওয়া',\n",
              " '।',\n",
              " '-PRON-',\n",
              " 'কিছু',\n",
              " 'একটা',\n",
              " 'আঁচ',\n",
              " 'কর',\n",
              " 'আর',\n",
              " 'মেয়েকে',\n",
              " 'পেছন',\n",
              " 'থেকে',\n",
              " 'অনুসরণ',\n",
              " 'কর',\n",
              " 'যাওয়া',\n",
              " '।',\n",
              " 'লিজা',\n",
              " 'আঙিনার',\n",
              " 'পাশে',\n",
              " 'কাঁঠালগাছের',\n",
              " 'গোড়ায়',\n",
              " 'সাইকেল',\n",
              " 'ঠেস',\n",
              " 'দিয়ে',\n",
              " 'রেখে',\n",
              " 'পেছন',\n",
              " 'ফিরে',\n",
              " 'দাঁড়িয়ে',\n",
              " 'আছে',\n",
              " '।',\n",
              " 'কাছে',\n",
              " 'যেতেই',\n",
              " 'মায়ের',\n",
              " 'দিকে',\n",
              " 'ফিরে',\n",
              " 'জিজ্ঞেস',\n",
              " 'কর',\n",
              " ',',\n",
              " '‘',\n",
              " '-PRON-',\n",
              " '-PRON-',\n",
              " 'সত্যিই',\n",
              " '-PRON-',\n",
              " 'কবর',\n",
              " 'দিয়েছ',\n",
              " '?',\n",
              " '’',\n",
              " 'সাধুআজমত',\n",
              " 'মাঝেমধ্যে',\n",
              " 'সাধু-সঙ্গ',\n",
              " 'কর',\n",
              " 'যেত।একবার',\n",
              " 'পরীক্ষা',\n",
              " 'চলছে',\n",
              " ',',\n",
              " '-PRON-',\n",
              " 'সময়ে',\n",
              " 'উধাও',\n",
              " 'হয়ে',\n",
              " 'যাওয়া',\n",
              " '।',\n",
              " 'হলে',\n",
              " 'ফিরল',\n",
              " 'দীর্ঘদিন',\n",
              " 'পর',\n",
              " '।',\n",
              " 'জানা',\n",
              " 'যাওয়া',\n",
              " ',',\n",
              " 'এত',\n",
              " 'দিন',\n",
              " 'ভারতবর্ষের',\n",
              " 'নানা',\n",
              " 'জায়গায়',\n",
              " ',',\n",
              " 'নানা',\n",
              " 'তীর্থে',\n",
              " 'আর',\n",
              " 'আস্তানায়',\n",
              " 'সাধু-সন্ন্যাসীদের',\n",
              " 'সঙ্গে',\n",
              " 'ঘুরেছে',\n",
              " 'সে।ড্রপ-আউট',\n",
              " 'এড়াতে',\n",
              " '-PRON-',\n",
              " 'অনেক',\n",
              " 'দিন',\n",
              " 'ধর',\n",
              " 'ক্লাস-পরীক্ষা',\n",
              " 'চালিয়ে',\n",
              " 'যাওয়া',\n",
              " 'হলো',\n",
              " '।',\n",
              " 'তাই',\n",
              " 'দীর্ঘদিন',\n",
              " 'ধর',\n",
              " 'হলে',\n",
              " 'থাকতে',\n",
              " '-PRON-',\n",
              " 'বাধ্য',\n",
              " 'হলো।ক্যাম্পাসে',\n",
              " 'থাকতে',\n",
              " 'থাকতে',\n",
              " 'হাঁপিয়ে',\n",
              " 'উঠ',\n",
              " '-PRON-',\n",
              " '।',\n",
              " 'বল',\n",
              " ',',\n",
              " 'নাগরিক',\n",
              " 'মানুষ',\n",
              " '-PRON-',\n",
              " 'ক্লান্ত',\n",
              " 'কর',\n",
              " '।',\n",
              " 'বাসনাতাড়িত',\n",
              " ',',\n",
              " 'লোভী',\n",
              " 'আর',\n",
              " 'কুটিল',\n",
              " 'মানুষগুলোর',\n",
              " 'মধ্যে',\n",
              " 'থাকতে',\n",
              " '-PRON-',\n",
              " 'দমবন্ধ',\n",
              " 'লাগে।একদিন',\n",
              " 'দেখ',\n",
              " 'যাওয়া',\n",
              " 'কাঠের',\n",
              " 'বাক্সে',\n",
              " 'কর',\n",
              " 'একটা',\n",
              " 'সাপ',\n",
              " 'নিয়ে',\n",
              " 'এসেছে',\n",
              " '।',\n",
              " 'সাপটাকে',\n",
              " '-PRON-',\n",
              " 'টিকটিকি',\n",
              " 'কিংবা',\n",
              " 'পোকা',\n",
              " 'ধর',\n",
              " 'খাওয়ায়',\n",
              " '।',\n",
              " 'শীতল',\n",
              " 'রক্তের',\n",
              " 'এই',\n",
              " 'মৌনী',\n",
              " 'প্রাণীটির',\n",
              " 'সঙ্গে',\n",
              " 'এক',\n",
              " 'দুর্বোধ্য',\n",
              " 'যোগাযোগ',\n",
              " 'গড়',\n",
              " 'তোলে',\n",
              " 'সে।মাঝেমধ্য',\n",
              " '-PRON-',\n",
              " 'জিমনেসিয়ামের',\n",
              " 'পেছনের',\n",
              " 'জঙ্গলে',\n",
              " 'একা',\n",
              " 'একা',\n",
              " 'হাঁটাহাঁটি',\n",
              " 'কর',\n",
              " 'দেখ',\n",
              " 'যাওয়া',\n",
              " '।',\n",
              " 'কখনো',\n",
              " 'শণে',\n",
              " 'ঢাকা',\n",
              " 'হাঁটাপথের',\n",
              " 'ধারে',\n",
              " 'বস',\n",
              " 'থাকে',\n",
              " 'একা',\n",
              " '।',\n",
              " 'কেউ',\n",
              " 'কেউ',\n",
              " 'বল',\n",
              " ',',\n",
              " 'জঙ্গলে',\n",
              " 'থাকা',\n",
              " 'শিয়ালগুলোকে',\n",
              " '-PRON-',\n",
              " 'ডেকে',\n",
              " 'আনতে',\n",
              " 'পারে।প্রাণিজগতের',\n",
              " 'সঙ্গে',\n",
              " 'যোগাযোগ',\n",
              " 'বাড়ানোর',\n",
              " 'চেষ্টা',\n",
              " 'থেকে',\n",
              " 'কিংবা',\n",
              " 'মৌনী',\n",
              " 'প্রাণীটির',\n",
              " 'অত্যধিক',\n",
              " 'নীরবতায়',\n",
              " 'কিছুটা',\n",
              " 'ক্লান্ত',\n",
              " 'হয়েই',\n",
              " '-PRON-',\n",
              " 'একদিন',\n",
              " 'একটি',\n",
              " 'পাখির',\n",
              " 'খাঁচা',\n",
              " 'নিয়ে',\n",
              " 'হলে',\n",
              " 'ঢোকে',\n",
              " '।',\n",
              " 'খাঁচার',\n",
              " 'ভেতর',\n",
              " 'দুটি',\n",
              " 'নীল-সাদা',\n",
              " 'বাজরিগার',\n",
              " '।',\n",
              " 'কিচিরমিচির',\n",
              " 'শব্দে',\n",
              " 'ঘরের',\n",
              " 'নীরবতা',\n",
              " 'খাওয়া',\n",
              " 'খাওয়া',\n",
              " '।',\n",
              " 'পাখি',\n",
              " 'দুটিকে',\n",
              " '-PRON-',\n",
              " 'তিল-তিসি',\n",
              " 'খাওয়ায়',\n",
              " 'আর',\n",
              " '-PRON-',\n",
              " 'দুর্বোধ্য',\n",
              " 'ভাষা',\n",
              " 'রপ্ত',\n",
              " 'করার',\n",
              " 'চেষ্টা',\n",
              " 'করে।কিছুদিনের',\n",
              " 'মাথায়',\n",
              " 'দুটি',\n",
              " 'ঘটনা',\n",
              " 'ঘটল',\n",
              " '।',\n",
              " 'একদিন',\n",
              " 'ক্লাস',\n",
              " 'থেকে',\n",
              " 'ফিরে',\n",
              " '-PRON-',\n",
              " 'দেখ',\n",
              " ',',\n",
              " 'সাপটা',\n",
              " 'বাক্সের',\n",
              " 'বাইরে',\n",
              " 'আর',\n",
              " 'সেটা',\n",
              " 'বাজরিগার',\n",
              " 'দুটিকে',\n",
              " 'হত্যা',\n",
              " 'কর',\n",
              " '।',\n",
              " 'দ্বিতীয়',\n",
              " 'ঘটনাটি',\n",
              " 'একই',\n",
              " 'রকম',\n",
              " 'মর্মান্তিক—একদল',\n",
              " 'পিঁপড়ের',\n",
              " 'আক্রমণে',\n",
              " 'সাপটির',\n",
              " 'মৃত্যু',\n",
              " 'হয়েছে।এরপর',\n",
              " 'থেকে',\n",
              " 'একেবারে',\n",
              " 'চুপচাপ',\n",
              " 'হয়ে',\n",
              " 'যাওয়া',\n",
              " '-PRON-',\n",
              " '।',\n",
              " 'ক্লাসে',\n",
              " 'নেই',\n",
              " ',',\n",
              " 'চায়ের',\n",
              " 'দোকানগুলোতে',\n",
              " 'নেই',\n",
              " ',',\n",
              " 'জিমনেসিয়ামের',\n",
              " 'পেছনের',\n",
              " 'জঙ্গলেও',\n",
              " '-PRON-',\n",
              " 'ঘুরতে',\n",
              " 'দেখ',\n",
              " 'যাওয়া',\n",
              " 'না',\n",
              " '।',\n",
              " 'জানা',\n",
              " 'যাওয়া',\n",
              " ',',\n",
              " '-PRON-',\n",
              " 'আবার',\n",
              " 'উধাও',\n",
              " 'হয়েছে।বহুদিন',\n",
              " 'পর',\n",
              " 'এক',\n",
              " 'সন্ধ্যাবেলা',\n",
              " '-PRON-',\n",
              " 'ফিরে',\n",
              " 'এল',\n",
              " '।',\n",
              " '-PRON-',\n",
              " 'দৃষ্টি',\n",
              " 'অত্যধিক',\n",
              " 'শান্ত',\n",
              " 'আর',\n",
              " 'অন্তর্ভেদী',\n",
              " '।',\n",
              " 'মুখে',\n",
              " 'অদ্ভুত',\n",
              " 'রকম',\n",
              " 'দীপ্তি',\n",
              " '।',\n",
              " '-PRON-',\n",
              " 'বিস্ময়',\n",
              " 'নিয়ে',\n",
              " '-PRON-',\n",
              " 'দিকে',\n",
              " 'তাকিয়ে',\n",
              " 'আছি',\n",
              " 'আর',\n",
              " '-PRON-',\n",
              " 'দৃষ্টির',\n",
              " 'হেঁয়ালি',\n",
              " '-PRON-',\n",
              " 'বিদ্ধ',\n",
              " 'কর',\n",
              " '।',\n",
              " 'মৃদু',\n",
              " 'হেসে',\n",
              " '-PRON-',\n",
              " 'গুনগুন',\n",
              " 'কর',\n",
              " 'গাইল—ভাব',\n",
              " 'আছে',\n",
              " 'যার',\n",
              " 'গায়',\n",
              " ',',\n",
              " 'দেখ',\n",
              " 'তারে',\n",
              " 'চেন',\n",
              " 'যাওয়া',\n",
              " ',',\n",
              " 'সর্ব',\n",
              " 'অঙ্গ',\n",
              " '-PRON-',\n",
              " 'পোড়',\n",
              " 'রে',\n",
              " '!']"
            ]
          },
          "metadata": {},
          "execution_count": 18
        }
      ],
      "source": [
        "lemmatized_tokens_list[-1]"
      ]
    },
    {
      "cell_type": "code",
      "execution_count": 19,
      "metadata": {
        "colab": {
          "base_uri": "https://localhost:8080/"
        },
        "id": "bvEaAZnAcpxS",
        "outputId": "6d3de4aa-ce8e-4d50-a8d4-4f168f54ddce"
      },
      "outputs": [
        {
          "output_type": "execute_result",
          "data": {
            "text/plain": [
              "3581"
            ]
          },
          "metadata": {},
          "execution_count": 19
        }
      ],
      "source": [
        "len(features[-1])"
      ]
    },
    {
      "cell_type": "markdown",
      "metadata": {
        "id": "h61_hix1yZUZ"
      },
      "source": [
        "# **Label Encoding**"
      ]
    },
    {
      "cell_type": "code",
      "execution_count": 20,
      "metadata": {
        "colab": {
          "base_uri": "https://localhost:8080/"
        },
        "id": "Pl0iS4OSyhRo",
        "outputId": "8c52b7b2-3003-4b6e-df68-a95ae525aa2f"
      },
      "outputs": [
        {
          "output_type": "execute_result",
          "data": {
            "text/plain": [
              "{0, 1, 2, 3, 4, 5, 6, 7, 8, 9, 10, 11, 12, 13}"
            ]
          },
          "metadata": {},
          "execution_count": 20
        }
      ],
      "source": [
        "\n",
        "from sklearn.preprocessing import LabelEncoder\n",
        "le = LabelEncoder()\n",
        "\n",
        "en_target=le.fit_transform(target)\n",
        "\n",
        "set(en_target)\n"
      ]
    },
    {
      "cell_type": "markdown",
      "metadata": {
        "id": "Roxz-BqKzk5h"
      },
      "source": [
        "# **Split data**\n",
        "*make train and test data*"
      ]
    },
    {
      "cell_type": "code",
      "execution_count": 21,
      "metadata": {
        "colab": {
          "base_uri": "https://localhost:8080/"
        },
        "id": "updcYm0UzxJr",
        "outputId": "de7b1646-2f53-4f5b-b373-649c6a31b4c1"
      },
      "outputs": [
        {
          "output_type": "stream",
          "name": "stdout",
          "text": [
            "28000\n",
            "7000\n"
          ]
        }
      ],
      "source": [
        "from sklearn.model_selection import train_test_split\n",
        "\n",
        "\n",
        "train_content, test_content, train_category, test_category = train_test_split(lemmatized_tokens_list, en_target, \n",
        "                                                    train_size=0.8,\n",
        "                                                    test_size=0.2,\n",
        "                                                    random_state=100)\n",
        "\n",
        "\n",
        "print(len(train_content))\n",
        "print(len(test_content))"
      ]
    },
    {
      "cell_type": "markdown",
      "metadata": {
        "id": "Mqz-NrWJ3KA9"
      },
      "source": [
        "# **Tokenization**"
      ]
    },
    {
      "cell_type": "code",
      "execution_count": 22,
      "metadata": {
        "colab": {
          "base_uri": "https://localhost:8080/"
        },
        "id": "0PH1Qvfl3Rur",
        "outputId": "ecae5ed5-ecd6-424d-b5b8-6ae593b48e1a"
      },
      "outputs": [
        {
          "output_type": "execute_result",
          "data": {
            "text/plain": [
              "[('<OOV>', 1),\n",
              " ('।', 2),\n",
              " (',', 3),\n",
              " ('-pron-', 4),\n",
              " ('কর', 5),\n",
              " ('ও', 6),\n",
              " ('বল', 7),\n",
              " ('না', 8),\n",
              " ('.', 9),\n",
              " ('’', 10),\n",
              " ('‘', 11),\n",
              " ('যাওয়া', 12),\n",
              " ('থেকে', 13),\n",
              " ('এই', 14),\n",
              " (')', 15)]"
            ]
          },
          "metadata": {},
          "execution_count": 22
        }
      ],
      "source": [
        "import tensorflow as tf\n",
        "\n",
        "from tensorflow.keras.preprocessing.text import Tokenizer\n",
        "from tensorflow.keras.preprocessing.sequence import pad_sequences\n",
        "\n",
        "tokenizer = Tokenizer(oov_token=\"<OOV>\")\n",
        "tokenizer.fit_on_texts(train_content)\n",
        "\n",
        "list(tokenizer.word_index.items()) [:15] #print first 15"
      ]
    },
    {
      "cell_type": "code",
      "execution_count": 23,
      "metadata": {
        "colab": {
          "base_uri": "https://localhost:8080/"
        },
        "id": "6Q2TnWbk8qHZ",
        "outputId": "3524d01c-db88-4069-da12-4213a9da4379"
      },
      "outputs": [
        {
          "output_type": "stream",
          "name": "stdout",
          "text": [
            "487222\n"
          ]
        }
      ],
      "source": [
        "vocabulary_size = len(tokenizer.word_index) + 1\n",
        "print(vocabulary_size)"
      ]
    },
    {
      "cell_type": "markdown",
      "metadata": {
        "id": "zCAj7S0I88B6"
      },
      "source": [
        "# ***Padding***"
      ]
    },
    {
      "cell_type": "code",
      "execution_count": 24,
      "metadata": {
        "id": "7POFKFDC8_UI"
      },
      "outputs": [],
      "source": [
        "\n",
        "max_length = 500\n",
        "truncate_type = 'post'\n",
        "padding_type = 'post'\n",
        "\n",
        "train_sequences = tokenizer.texts_to_sequences(train_content)\n",
        "train_padded = pad_sequences(train_sequences, maxlen=max_length, padding=padding_type, truncating=truncate_type)\n",
        "\n",
        "test_sequences = tokenizer.texts_to_sequences(test_content)\n",
        "test_padded = pad_sequences(test_sequences, maxlen=max_length, padding=padding_type, truncating=truncate_type)"
      ]
    },
    {
      "cell_type": "code",
      "execution_count": 25,
      "metadata": {
        "colab": {
          "base_uri": "https://localhost:8080/"
        },
        "id": "4Rgk8O4O_WhF",
        "outputId": "950d6bd7-83d0-43e9-f40e-23b4fa9fd6c9"
      },
      "outputs": [
        {
          "output_type": "execute_result",
          "data": {
            "text/plain": [
              "['ফিলিপাইনে',\n",
              " 'ঘূর্ণিঝড়',\n",
              " '‘',\n",
              " 'হাইয়ান',\n",
              " '’',\n",
              " '-এর',\n",
              " 'আঘাতে',\n",
              " 'কমপক্ষে',\n",
              " 'এক',\n",
              " 'হাজার',\n",
              " '২০০',\n",
              " 'মানুষ',\n",
              " 'নিহত',\n",
              " 'হয়েছে',\n",
              " '।',\n",
              " '-PRON-',\n",
              " 'মধ্যে',\n",
              " 'একটি',\n",
              " 'শহরেই',\n",
              " 'নিহত',\n",
              " 'হয়েছে',\n",
              " 'সহস্রাধিক',\n",
              " 'মানুষ',\n",
              " '।',\n",
              " 'আজ',\n",
              " 'শনিবার',\n",
              " 'রেডক্রসের',\n",
              " 'বরাত',\n",
              " 'দিয়ে',\n",
              " 'বার্তা',\n",
              " 'সংস্থা',\n",
              " 'রয়টার্স',\n",
              " 'এই',\n",
              " 'খবর',\n",
              " 'প্রকাশ',\n",
              " 'কর',\n",
              " '।',\n",
              " 'প্রাণহানির',\n",
              " 'সংখ্যা',\n",
              " 'আরও',\n",
              " 'বাড়তে',\n",
              " 'পারে',\n",
              " 'বল',\n",
              " 'জানিয়েছে',\n",
              " 'রেডক্রস।ঘূর্ণিঝড়',\n",
              " 'হাইয়ানের',\n",
              " 'কারণে',\n",
              " 'ফিলিপাইনের',\n",
              " 'উপকূলবর্তী',\n",
              " 'এলাকায়',\n",
              " 'ভূমিধস',\n",
              " 'ও',\n",
              " 'রাস্তাঘাট',\n",
              " 'ভেঙে',\n",
              " 'পড়',\n",
              " 'এবং',\n",
              " 'গাছপালা',\n",
              " 'রাস্তার',\n",
              " 'ওপর',\n",
              " 'ভেঙে',\n",
              " 'পড়',\n",
              " 'উদ্ধারকাজ',\n",
              " 'বিঘ্নিত',\n",
              " 'হচ্ছে',\n",
              " 'বল',\n",
              " 'জানা',\n",
              " 'গেছে',\n",
              " '।',\n",
              " 'ফিলিপাইনে',\n",
              " 'রেডক্রসের',\n",
              " 'মহাসচিব',\n",
              " 'গেনডোলিন',\n",
              " 'প্যাং',\n",
              " 'বল',\n",
              " ',',\n",
              " 'ঘূর্ণিঝড়',\n",
              " 'হাইয়ান',\n",
              " 'বিশেষ',\n",
              " 'কর',\n",
              " 'দেশটির',\n",
              " 'কেন্দ্রীয়',\n",
              " 'লেইট',\n",
              " 'প্রদেশের',\n",
              " 'উপকূলবর্তী',\n",
              " 'এলাকা',\n",
              " 'ট্যাকলোবানে',\n",
              " 'আঘাত',\n",
              " 'হেনেছে',\n",
              " '।',\n",
              " 'এই',\n",
              " 'অঞ্চল',\n",
              " 'থেকেই',\n",
              " 'রেডক্রসের',\n",
              " 'উদ্ধার',\n",
              " 'কর্মীরা',\n",
              " 'প্রায়',\n",
              " 'এক',\n",
              " 'হাজার',\n",
              " 'লাশ',\n",
              " 'উদ্ধার',\n",
              " 'কর',\n",
              " '।',\n",
              " '-PRON-',\n",
              " 'ছাড়া',\n",
              " 'সামার',\n",
              " 'অঞ্চল',\n",
              " 'থেকে',\n",
              " 'আরও',\n",
              " '২০০',\n",
              " 'জনের',\n",
              " 'লাশ',\n",
              " 'উদ্ধার',\n",
              " 'কর',\n",
              " 'হয়েছে।প্রত্যক্ষদর্শী',\n",
              " 'সূত্রে',\n",
              " 'জানা',\n",
              " 'গেছে',\n",
              " ',',\n",
              " '-PRON-',\n",
              " 'অঞ্চলের',\n",
              " 'মানুষ',\n",
              " 'বর্তমানে',\n",
              " 'ঘরবাড়ি',\n",
              " 'ছেড়ে',\n",
              " 'পলিথিন',\n",
              " 'গায়ে',\n",
              " 'দিয়ে',\n",
              " 'রাস্তার',\n",
              " 'ওপর',\n",
              " 'শুয়ে',\n",
              " 'পড়েছে।জাতিসংঘের',\n",
              " 'দুর্যোগ',\n",
              " 'পর্যবেক্ষণ',\n",
              " 'সমন্বয়ক',\n",
              " 'দলের',\n",
              " 'প্রধান',\n",
              " 'সেবাস্তিয়ান',\n",
              " 'রোডস',\n",
              " 'স্ট্যামপা',\n",
              " 'বল',\n",
              " ',',\n",
              " '‘',\n",
              " 'এই',\n",
              " 'ঘূর্ণিঝড়ে',\n",
              " 'ব্যাপক',\n",
              " 'ক্ষয়ক্ষতি',\n",
              " 'হয়েছে',\n",
              " '।',\n",
              " 'এর',\n",
              " 'আগে',\n",
              " '-PRON-',\n",
              " '-PRON-',\n",
              " 'ধরনের',\n",
              " 'ক্ষয়ক্ষতি',\n",
              " 'ভারত',\n",
              " 'মহাসাগর',\n",
              " 'থেকে',\n",
              " 'প্রবাহিত',\n",
              " '“',\n",
              " 'সুনামি',\n",
              " '”',\n",
              " 'র',\n",
              " 'সময়ই',\n",
              " 'দেখ',\n",
              " '।',\n",
              " '’',\n",
              " 'জানা',\n",
              " 'গেছে',\n",
              " ',',\n",
              " 'ঘূর্ণিঝড়',\n",
              " 'হাইয়ান',\n",
              " 'ফিলিপাইনে',\n",
              " 'আঘাত',\n",
              " 'হেনে',\n",
              " 'এখন',\n",
              " 'পার্শ্ববর্তী',\n",
              " 'দেশ',\n",
              " 'ভিয়েতনামের',\n",
              " 'দিকে',\n",
              " 'যাওয়া',\n",
              " '।',\n",
              " 'তবে',\n",
              " 'ভিয়েতনাম',\n",
              " 'সরকারের',\n",
              " 'ওয়েবসাইট',\n",
              " 'থেকে',\n",
              " 'জানা',\n",
              " 'গেছে',\n",
              " ',',\n",
              " 'দেশটির',\n",
              " '১৫টি',\n",
              " 'প্রদেশের',\n",
              " 'কর্তৃপক্ষ',\n",
              " 'সতর্ক',\n",
              " 'সংকেত',\n",
              " 'দিয়ে',\n",
              " 'সমুদ্র',\n",
              " 'থেকে',\n",
              " 'নৌকাগুলোকে',\n",
              " 'দ্রুত',\n",
              " 'তীরে',\n",
              " 'ফিরে',\n",
              " 'আসার',\n",
              " 'আহ্বান',\n",
              " 'জানিয়েছে',\n",
              " '।',\n",
              " '-PRON-',\n",
              " 'ছাড়া',\n",
              " 'দেশটির',\n",
              " 'দা',\n",
              " 'নাং',\n",
              " 'ও',\n",
              " 'কুয়াং',\n",
              " 'নাম',\n",
              " 'প্রদেশের',\n",
              " 'অন্তত',\n",
              " '৩০',\n",
              " 'হাজার',\n",
              " 'মানুষকে',\n",
              " 'নিরাপদ',\n",
              " 'আশ্রয়ে',\n",
              " 'নিয়ে',\n",
              " 'যাওয়া',\n",
              " 'হয়েছে।গতকাল',\n",
              " 'শুক্রবার',\n",
              " 'ভোরে',\n",
              " 'ফিলিপাইনের',\n",
              " 'মধ্যাঞ্চলে',\n",
              " 'ঘূর্ণিঝড়',\n",
              " 'হাইয়ান',\n",
              " 'আঘাত',\n",
              " 'হানে',\n",
              " '।',\n",
              " 'এটিকে',\n",
              " 'ফিলিপাইনে',\n",
              " 'আঘাত',\n",
              " 'হানা',\n",
              " 'অন্যতম',\n",
              " 'শক্তিশালী',\n",
              " 'ঘূর্ণিঝড়',\n",
              " 'হিসেবে',\n",
              " 'বিবেচনা',\n",
              " 'কর',\n",
              " 'হচ্ছে',\n",
              " '।',\n",
              " 'ঘূর্ণিঝড়টির',\n",
              " 'সর্বোচ্চ',\n",
              " 'গতি',\n",
              " 'ছিল',\n",
              " 'ঘণ্টায়',\n",
              " '৫৮০',\n",
              " 'কিলোমিটার।ঘূর্ণিঝড়ের',\n",
              " 'কারণে',\n",
              " 'ব্যাপক',\n",
              " 'ক্ষয়ক্ষতি',\n",
              " 'হয়েছে',\n",
              " '।',\n",
              " 'ঘরবাড়ি',\n",
              " 'বিধ্বস্ত',\n",
              " 'হয়েছে',\n",
              " '।',\n",
              " 'গাছ',\n",
              " 'উপড়ে',\n",
              " 'পড়',\n",
              " '।',\n",
              " 'বিভিন্ন',\n",
              " 'প্রদেশের',\n",
              " 'বিদ্যুত্',\n",
              " 'ও',\n",
              " 'যোগাযোগব্যবস্থা',\n",
              " 'ব্যাহত',\n",
              " 'হয়েছে',\n",
              " '।',\n",
              " 'গুরুতর',\n",
              " 'ক্ষয়ক্ষতির',\n",
              " 'আশঙ্কা',\n",
              " 'থেকে',\n",
              " 'লাখ',\n",
              " 'লাখ',\n",
              " 'মানুষকে',\n",
              " 'নিরাপদ',\n",
              " 'আশ্রয়ে',\n",
              " 'সরিয়ে',\n",
              " 'নেওয়া',\n",
              " 'হয়েছে',\n",
              " '।',\n",
              " 'এই',\n",
              " 'ঘূর্ণিঝড়ের',\n",
              " 'কারণে',\n",
              " 'দেশটির',\n",
              " 'ফেরি',\n",
              " 'ও',\n",
              " 'বিমান',\n",
              " 'চলাচল',\n",
              " 'আপাতত',\n",
              " 'স্থগিত',\n",
              " 'কর',\n",
              " 'হয়েছে।দেশটির',\n",
              " 'আবহাওয়া',\n",
              " 'অধিদপ্তর',\n",
              " 'বল',\n",
              " ',',\n",
              " 'যতটা',\n",
              " 'ভয়',\n",
              " 'কর',\n",
              " 'হচ্ছে',\n",
              " 'ঘূর্ণিঝড়',\n",
              " 'হাইয়ানের',\n",
              " 'প্রভাব',\n",
              " 'ঠিক',\n",
              " 'ততটা',\n",
              " 'হবে',\n",
              " 'না',\n",
              " '।',\n",
              " 'কারণ',\n",
              " ',',\n",
              " 'এটা',\n",
              " 'দ্রুত',\n",
              " 'অন্যদিকে',\n",
              " 'সর',\n",
              " 'যাওয়া',\n",
              " '।',\n",
              " '-PRON-',\n",
              " 'ক্ষতি',\n",
              " 'হওয়ার',\n",
              " 'তা',\n",
              " 'হয়ে',\n",
              " 'গেছে',\n",
              " '।']"
            ]
          },
          "metadata": {},
          "execution_count": 25
        }
      ],
      "source": [
        "train_content[-1]\n",
        "#print(len(train_content[1000]))"
      ]
    },
    {
      "cell_type": "code",
      "execution_count": 26,
      "metadata": {
        "colab": {
          "base_uri": "https://localhost:8080/"
        },
        "id": "KXOn65Rw_ika",
        "outputId": "5e49191f-b5ce-48f2-ac4b-6d40c7b8c0b9"
      },
      "outputs": [
        {
          "output_type": "stream",
          "name": "stdout",
          "text": [
            "329\n",
            "[14016, 11012, 11, 70692, 10, 886, 5883, 2564, 24, 91, 1237, 110, 614, 52, 2, 4, 36, 28, 11911, 614, 52, 15797, 110, 2, 82, 655, 32982, 3445, 56, 1134, 777, 11227, 14, 339, 206, 5, 2, 11659, 402, 71, 3767, 43, 7, 1130, 487214, 36589, 128, 11241, 34541, 1104, 22159, 6, 6988, 480, 58, 26, 6471, 1560, 96, 480, 58, 23740, 8980, 73, 7, 241, 101, 2, 14016, 32982, 3013, 487215, 487216, 7, 3, 11012, 70692, 153, 5, 867, 1602, 145069, 3052, 34541, 1401, 487217, 1806, 27470, 2, 14, 2800, 226, 32982, 1131, 2832, 199, 24, 91, 2050, 1131, 5, 2, 4, 205, 11270, 2800, 13, 71, 1237, 1492, 2050, 1131, 5, 163538, 1053, 241, 101, 3, 4, 1339, 110, 488, 9975, 751, 13651, 1489, 56, 1560, 96, 2534, 487218, 4592, 2892, 10427, 162, 142, 57533, 31114, 487219, 7, 3, 11, 14, 52513, 857, 16184, 52, 2, 51, 75, 4, 4, 117, 16184, 626, 14590, 13, 6842, 1243, 18136, 1150, 1055, 2403, 21, 2, 10, 241, 101, 3, 11012, 70692, 14016, 1806, 54583, 59, 6415, 233, 22107, 115, 12, 2, 50, 10649, 179, 3038, 13, 241, 101, 3, 867, 4979, 3052, 804, 1368, 5077, 56, 3170, 13, 487220, 503, 5041, 270, 615, 616, 1130, 2, 4, 205, 867, 8091, 145826, 6, 154970, 136, 3052, 612, 478, 91, 716, 1664, 18553, 35, 12, 39949, 784, 2972, 11241, 35669, 11012, 70692, 1806, 15826, 2, 5511, 14016, 1806, 7610, 471, 1317, 11012, 74, 1265, 5, 73, 2, 92451, 694, 2107, 34, 5931, 43763, 487221, 128, 857, 16184, 52, 2, 9975, 6433, 52, 2, 1394, 16589, 58, 2, 84, 3052, 11599, 6, 16451, 4476, 52, 2, 2227, 26061, 1183, 13, 193, 193, 716, 1664, 18553, 2611, 380, 52, 2, 14, 24541, 128, 867, 7522, 6, 1901, 2518, 2438, 2429, 5, 154372, 5402, 6800, 7, 3, 2407, 1054, 5, 73, 11012, 36589, 637, 189, 5991, 23, 8, 2, 127, 3, 140, 503, 869, 689, 12, 2, 4, 854, 238, 40, 39, 101, 2]\n"
          ]
        }
      ],
      "source": [
        "# print a single text sequence\n",
        "print(len(train_sequences[-1]))\n",
        "print(train_sequences[-1])"
      ]
    },
    {
      "cell_type": "code",
      "execution_count": 27,
      "metadata": {
        "colab": {
          "base_uri": "https://localhost:8080/"
        },
        "id": "_E6i-nmSBLGz",
        "outputId": "d6274d42-e9f0-4f0a-e120-177c55eef9ce"
      },
      "outputs": [
        {
          "output_type": "execute_result",
          "data": {
            "text/plain": [
              "(28000, 500)"
            ]
          },
          "metadata": {},
          "execution_count": 27
        }
      ],
      "source": [
        "import numpy as np\n",
        "\n",
        "# convert into array\n",
        "training_padded = np.array(train_padded)\n",
        "training_labels = np.array(train_category)\n",
        "testing_padded = np.array(test_padded)\n",
        "testing_labels = np.array(test_category)\n",
        "\n",
        "# now the Shape of train content data\n",
        "training_padded.shape"
      ]
    },
    {
      "cell_type": "markdown",
      "metadata": {
        "id": "Q8sjkgZ2BtpY"
      },
      "source": []
    },
    {
      "cell_type": "markdown",
      "metadata": {
        "id": "2H8fOIgwBtty"
      },
      "source": [
        "## **Build Model**"
      ]
    },
    {
      "cell_type": "code",
      "execution_count": 28,
      "metadata": {
        "id": "GMRvQEgfB4c1"
      },
      "outputs": [],
      "source": [
        "model =tf.keras.Sequential([tf.keras.layers.Embedding(input_dim=vocabulary_size,output_dim=14, input_length=max_length),\n",
        "                            tf.keras.layers.Bidirectional(tf.keras.layers.LSTM(64, return_sequences=True)),\n",
        "                            tf.keras.layers.Bidirectional(tf.keras.layers.LSTM(128, return_sequences=True)),\n",
        "                            tf.keras.layers.Bidirectional(tf.keras.layers.LSTM(128, return_sequences=True)),\n",
        "                            tf.keras.layers.Bidirectional(tf.keras.layers.LSTM(32)),\n",
        "                            tf.keras.layers.Dense(14, activation='softmax')\n",
        "])"
      ]
    },
    {
      "cell_type": "code",
      "execution_count": 29,
      "metadata": {
        "id": "NLFbXEhr_GSj"
      },
      "outputs": [],
      "source": [
        "model.compile(loss='sparse_categorical_crossentropy',optimizer='adam',metrics=['accuracy'])"
      ]
    },
    {
      "cell_type": "code",
      "execution_count": 30,
      "metadata": {
        "colab": {
          "base_uri": "https://localhost:8080/"
        },
        "id": "2dNyIDHlByq2",
        "outputId": "2f953789-d2d7-42d7-fffe-28a3e7ab4bb7"
      },
      "outputs": [
        {
          "output_type": "stream",
          "name": "stdout",
          "text": [
            "Model: \"sequential\"\n",
            "_________________________________________________________________\n",
            " Layer (type)                Output Shape              Param #   \n",
            "=================================================================\n",
            " embedding (Embedding)       (None, 500, 14)           6821108   \n",
            "                                                                 \n",
            " bidirectional (Bidirectiona  (None, 500, 128)         40448     \n",
            " l)                                                              \n",
            "                                                                 \n",
            " bidirectional_1 (Bidirectio  (None, 500, 256)         263168    \n",
            " nal)                                                            \n",
            "                                                                 \n",
            " bidirectional_2 (Bidirectio  (None, 500, 256)         394240    \n",
            " nal)                                                            \n",
            "                                                                 \n",
            " bidirectional_3 (Bidirectio  (None, 64)               73984     \n",
            " nal)                                                            \n",
            "                                                                 \n",
            " dense (Dense)               (None, 14)                910       \n",
            "                                                                 \n",
            "=================================================================\n",
            "Total params: 7,593,858\n",
            "Trainable params: 7,593,858\n",
            "Non-trainable params: 0\n",
            "_________________________________________________________________\n"
          ]
        }
      ],
      "source": [
        "model.summary()"
      ]
    },
    {
      "cell_type": "code",
      "execution_count": 31,
      "metadata": {
        "id": "3JEyafZBDUOX"
      },
      "outputs": [],
      "source": [
        "tensorboard_callback = tf.keras.callbacks.TensorBoard(log_dir=\"logs\")"
      ]
    },
    {
      "cell_type": "code",
      "execution_count": null,
      "metadata": {
        "colab": {
          "base_uri": "https://localhost:8080/"
        },
        "id": "IP3FWyrKDcEQ",
        "outputId": "c972364e-1d3d-4484-df39-2bd82e7cae81"
      },
      "outputs": [
        {
          "output_type": "stream",
          "name": "stdout",
          "text": [
            "Epoch 1/25\n",
            "621/875 [====================>.........] - ETA: 1:04 - loss: 1.9458 - accuracy: 0.3169"
          ]
        }
      ],
      "source": [
        "history = model.fit(training_padded, training_labels, epochs= 15, validation_data=(testing_padded, testing_labels), callbacks=[tensorboard_callback])"
      ]
    },
    {
      "cell_type": "code",
      "execution_count": null,
      "metadata": {
        "id": "BwCPHeuHEmB6"
      },
      "outputs": [],
      "source": [
        "model.save('news_category_lstm_classifier.h5')"
      ]
    },
    {
      "cell_type": "markdown",
      "metadata": {
        "id": "_6CZGbffFICu"
      },
      "source": [
        "# ***Accuracy and Plotting***"
      ]
    },
    {
      "cell_type": "code",
      "execution_count": null,
      "metadata": {
        "id": "mS3Od_hWFO_9"
      },
      "outputs": [],
      "source": [
        "import matplotlib.pyplot as plt\n",
        "from google.colab import files\n",
        "\n",
        "# Plot the training and validation accuracy\n",
        "plt.plot(history.history['accuracy'])\n",
        "plt.plot(history.history['val_accuracy'])\n",
        "plt.title('Model Accuracy')\n",
        "plt.ylabel('Accuracy')\n",
        "plt.xlabel('Epoch')\n",
        "plt.legend(['Train', 'Validation'], loc='upper right')\n",
        "plt.savefig(\"LSTM_Accuracy1.png\")\n",
        "files.download('LSTM_Accuracy1.png')\n",
        "plt.show()\n",
        "\n",
        "# Plot the training and validation loss\n",
        "plt.plot(history.history['loss'])\n",
        "plt.plot(history.history['val_loss'])\n",
        "plt.title('Model Loss')\n",
        "plt.ylabel('Loss')\n",
        "plt.xlabel('Epoch')\n",
        "plt.legend(['Train', 'Validation'], loc='upper right')\n",
        "plt.savefig(\"LSTM_LOSS1.png\")\n",
        "files.download('LSTM_LOSS1.png')\n",
        "plt.show()"
      ]
    },
    {
      "cell_type": "code",
      "source": [
        "from sklearn.metrics import classification_report\n",
        "\n",
        "# make predictions on test set\n",
        "y_pred = model.predict(testing_padded)\n",
        "\n",
        "# convert predictions to class labels\n",
        "y_pred_labels = np.argmax(y_pred, axis=1)\n",
        "\n",
        "# generate classification report\n",
        "report = classification_report(testing_labels, y_pred_labels)\n",
        "\n",
        "# print classification report\n",
        "print(report)"
      ],
      "metadata": {
        "id": "mD8rcBbwLDxr"
      },
      "execution_count": null,
      "outputs": []
    },
    {
      "cell_type": "code",
      "execution_count": null,
      "metadata": {
        "id": "nJIEG5pNFW0B"
      },
      "outputs": [],
      "source": [
        "# Making testing function\n",
        "def test(sentence):\n",
        "    sequences = tokenizer.texts_to_sequences(sentence_1)\n",
        "    padded = pad_sequences(sequences, maxlen=max_length, padding=padding_type, truncating=truncate_type)\n",
        "    pred=model.predict(padded)\n",
        "    pred_index=np.argmax(pred)\n",
        "#     print(pred_index)\n",
        "    return pred_index"
      ]
    },
    {
      "cell_type": "code",
      "execution_count": null,
      "metadata": {
        "id": "AKdLSE5IFjQX"
      },
      "outputs": [],
      "source": [
        "test_content[780]"
      ]
    },
    {
      "cell_type": "code",
      "execution_count": null,
      "metadata": {
        "id": "lkErTT50SRlJ"
      },
      "outputs": [],
      "source": [
        "selected_category_list[test_category[780]]"
      ]
    },
    {
      "cell_type": "code",
      "execution_count": null,
      "metadata": {
        "id": "NYwTL7ctFsgt"
      },
      "outputs": [],
      "source": [
        "sentence_1=['অগ্নিনিরাপত্তা নিশ্চিত করতে তৈরি পোশাক শিল্প-কারখানায় ব্যবহূত অগ্নিনির্বাপণ যন্ত্রের ওপর শুল্কহার কমানো হয়েছে। এর ফলে ২০১৩-১৪ অর্থবছর থেকে এসব পণ্য আমদানিতে মোট পাঁচ শতাংশ হারে শুল্ক প্রদান করলেই হবে।এত দিন অগ্নিনির্বাপণ যন্ত্রপাতি কিনতে ১২ শতাংশ আমদানি শুল্কসহ ৩৯ দশমিক ৪৭ শতাংশ শুল্ককর প্রযোজ্য ছিল। কিন্তু পোশাকশিল্পে অগ্নিকাণ্ডে হতাহতের ঘটনা বেড়ে যাওয়ায় সরকার এ উদ্যোগ নিয়েছে।']\n",
        "result=test(sentence_1)\n",
        "if result is not None:\n",
        "    print('Text Category is: '+selected_category_list[result])\n",
        "else:\n",
        "    print('Model is not working well')"
      ]
    },
    {
      "cell_type": "code",
      "execution_count": null,
      "metadata": {
        "id": "feg0fXdoFy5R"
      },
      "outputs": [],
      "source": [
        "weights = model.get_layer('embedding').get_weights()[0]\n",
        "weights.shape"
      ]
    },
    {
      "cell_type": "code",
      "source": [
        "import matplotlib.pyplot as plt\n",
        "from google.colab import files\n",
        "\n",
        "models = ['LSTM', 'Multinomial NB', 'XGBoost']\n",
        "val_accuracy = [75, 73, 81]\n",
        "\n",
        "plt.bar(models, val_accuracy, color=['#1f77b4', '#ff7f0e', '#2ca02c'])\n",
        "plt.title('Precision Comparison')\n",
        "plt.xlabel('Models')\n",
        "plt.ylabel('Accuracy')\n",
        "plt.ylim(0, 100)\n",
        "\n",
        "for i, v in enumerate(val_accuracy):\n",
        "    plt.text(i, v+2, str(v)+'%', ha='center')\n",
        "\n",
        "plt.savefig(\"comparison_Precision.png\")\n",
        "files.download(\"comparison_Precision.png\")\n",
        "plt.show()"
      ],
      "metadata": {
        "id": "zh36obONsavZ"
      },
      "execution_count": null,
      "outputs": []
    }
  ],
  "metadata": {
    "colab": {
      "provenance": [],
      "authorship_tag": "ABX9TyNwG9tgNQEqPv/zSAc8CEv4",
      "include_colab_link": true
    },
    "gpuClass": "standard",
    "kernelspec": {
      "display_name": "Python 3",
      "name": "python3"
    },
    "language_info": {
      "name": "python"
    },
    "accelerator": "GPU"
  },
  "nbformat": 4,
  "nbformat_minor": 0
}