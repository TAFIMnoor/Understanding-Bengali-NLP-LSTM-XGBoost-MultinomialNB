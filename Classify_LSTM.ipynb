{
  "cells": [
    {
      "cell_type": "markdown",
      "metadata": {
        "id": "view-in-github",
        "colab_type": "text"
      },
      "source": [
        "<a href=\"https://colab.research.google.com/github/TAFIMnoor/Understanding-Bengali-NLP-LSTM-XGBoost-MultinomialNB/blob/main/Classify_LSTM.ipynb\" target=\"_parent\"><img src=\"https://colab.research.google.com/assets/colab-badge.svg\" alt=\"Open In Colab\"/></a>"
      ]
    },
    {
      "cell_type": "code",
      "execution_count": 1,
      "metadata": {
        "colab": {
          "base_uri": "https://localhost:8080/"
        },
        "id": "KJnl1kye13X6",
        "outputId": "312e932e-f921-4bff-fe58-9f7d2845c731"
      },
      "outputs": [
        {
          "output_type": "stream",
          "name": "stdout",
          "text": [
            "Mounted at /content/drive\n"
          ]
        }
      ],
      "source": [
        "import numpy as np\n",
        "import pandas as pd\n",
        "import matplotlib.pyplot as plt\n",
        "import csv\n",
        "import numpy as np\n",
        "import seaborn as sns\n",
        "from google.colab import drive\n",
        "drive.mount('/content/drive')"
      ]
    },
    {
      "cell_type": "code",
      "execution_count": 2,
      "metadata": {
        "id": "Yautko3QxYE3"
      },
      "outputs": [],
      "source": [
        "import json\n",
        "dataPath='/content/drive/MyDrive/banglaData/data.json'\n",
        "with open(dataPath, encoding='utf-8') as dataPath:\n",
        "    data=json.load(dataPath)\n"
      ]
    },
    {
      "cell_type": "code",
      "execution_count": 3,
      "metadata": {
        "colab": {
          "base_uri": "https://localhost:8080/"
        },
        "id": "-HONXG5ntxCY",
        "outputId": "cc2473be-fc3d-4db3-e611-b98c895118d3"
      },
      "outputs": [
        {
          "output_type": "execute_result",
          "data": {
            "text/plain": [
              "[{'author': 'অনলাইন ডেস্ক',\n",
              "  'category': 'sports',\n",
              "  'category_bn': 'খেলা',\n",
              "  'published_date': '০৪ জুলাই ২০১৩, ২৩:০৯',\n",
              "  'modification_date': '০৪ জুলাই ২০১৩, ২৩:১১',\n",
              "  'tag': ['টেনিস'],\n",
              "  'comment_count': 0,\n",
              "  'title': 'সেমিফাইনাল বাধাও পেরিয়ে গেলেন লিসিকি',\n",
              "  'url': 'http://www.prothom-alo.com/sports/article/19028',\n",
              "  'content': 'এবারের উইম্বলডনটা স্মরণীয় করে রাখার মিশনেই যেন নেমেছেন সাবিনা লিসিকি। চতুর্থ রাউন্ডের লড়াইয়ে সেরেনা উইলিয়ামসকে হারিয়ে শুরু করেছিলেন স্বপ্নযাত্রা। কোয়ার্টার ফাইনালে কাইয়া কানেপিকে হারাতে খুব একটা বেগ পেতে হয়নি। তবে সেমিফাইনালে কঠিন প্রতিপক্ষের মুখেই পড়তে হয়েছিল লিসিকিকে। র্যাঙ্কিংয়ের চার নম্বরে থাকা আগ্নিয়েস্কা রাদভানস্কাই ছিলেন আজকের ম্যাচের ফেবারিট। কিন্তু অঘটনের উইম্বলডনে উল্টোটাই ঘটবে, এটাই যেন স্বাভাবিক। হলোই তা-ই। উত্তেজনাপূর্ণ সেমিফাইনালে ৬-৪, ২-৬, ৯-৭ গেমের জয় দিয়ে লিসিকি প্রথমবারের মতো পা রাখলেন উইম্বলডনের ফাইনালে।প্রথম সেটে ৬-৪ গেমের জয় দিয়ে শুরুটা দারুণভাবে করেছিলেন জার্মান তারকা লিসিকি। দ্বিতীয় সেটে ঘুরে দাঁড়ান রাদভানস্কা। খেলায় সমতা ফেরান ২-৬ গেমের জয় দিয়ে। ফলাফল নির্ধারণী তৃতীয় সেটের শুরুতেও বেশ খানিকটা সময় এগিয়ে ছিলেন রাদভানস্কা। কিন্তু ৩-০ ব্যবধানে পিছিয়ে পড়ার পর যেন মরিয়া হয়ে ওঠেন লিসিকি। ঘুরে দাঁড়াতে থাকেন নাটকীয়ভাবে। দুই ঘণ্টা ১৮ মিনিটের শ্বাসরুদ্ধকর লড়াইয়ের পর শেষ হাসিটাও হেসেছেন ২৩ বছর বয়সী লিসিকি।উইম্বলডনের অপর সেমিফাইনালে মারিওন বারতোলি অনায়াসেই হারিয়েছেন বেলজিয়ামের কারস্টেন ফ্লিপকেনসকে। ৬-১, ৬-২ গেমের জয় দিয়ে ফাইনাল নিশ্চিত করেছেন বারতোলি।শিরোপা জয়ের চূড়ান্ত লড়াইয়ে আগামী শনিবার মুখোমুখি হবেন বারতোলি ও লিসিকি।— রয়টার্স'}]"
            ]
          },
          "metadata": {},
          "execution_count": 3
        }
      ],
      "source": [
        "data[1:2]\n",
        "\n",
        "# a[start:stop]  ~ items start through stop-1\n",
        "# a[start:]      ~ items start through the rest of the array\n",
        "# a[:stop]       ~ items from the beginning through stop-1\n",
        "# a[:]           ~ a copy of the whole array"
      ]
    },
    {
      "cell_type": "markdown",
      "metadata": {
        "id": "D4pMhoJsVoqA"
      },
      "source": [
        "# **Tokenization**"
      ]
    },
    {
      "cell_type": "code",
      "execution_count": 4,
      "metadata": {
        "id": "sKMLHh9hv1p_"
      },
      "outputs": [],
      "source": [
        "from tensorflow.keras.preprocessing.text import Tokenizer\n",
        "\n",
        "\n",
        "tokenizer = Tokenizer(num_words = 1000)   #maximum word limit 1000\n",
        "tokenizer.fit_on_texts(data[6]['content']) # fit sentence\n"
      ]
    },
    {
      "cell_type": "code",
      "execution_count": 5,
      "metadata": {
        "colab": {
          "base_uri": "https://localhost:8080/"
        },
        "id": "4e3FokWDV6gL",
        "outputId": "75c597da-34c2-4646-eaf8-2d717cd5937c"
      },
      "outputs": [
        {
          "output_type": "stream",
          "name": "stdout",
          "text": [
            "{'র': 1, 'া': 2, 'ে': 3, '্': 4, 'ন': 5, 'ি': 6, 'ব': 7, 'ল': 8, 'ত': 9, 'য': 10, 'প': 11, 'ম': 12, 'ক': 13, 'স': 14, 'দ': 15, '়': 16, 'ী': 17, 'জ': 18, 'গ': 19, 'ু': 20, 'আ': 21, 'ো': 22, 'হ': 23, 'চ': 24, 'ট': 25, 'ও': 26, 'এ': 27, 'ধ': 28, '।': 29, 'ই': 30, 'শ': 31, 'ষ': 32, 'ণ': 33, 'ভ': 34, 'উ': 35, 'থ': 36, 'ঙ': 37, 'খ': 38, 'ছ': 39, 'ং': 40, 'ঁ': 41, 'ৌ': 42, '‘': 43, '’': 44, 'ূ': 45, 'ৃ': 46, 'ঠ': 47, 'অ': 48, 'ঞ': 49, '২': 50, 'ফ': 51, 'ঈ': 52, 'ড': 53}\n"
          ]
        }
      ],
      "source": [
        "word_index = tokenizer.word_index\n",
        "print(word_index) # word index of tokenized sentence\n",
        "#tokenizer.word_counts # word count of tokenized sentence"
      ]
    },
    {
      "cell_type": "code",
      "execution_count": null,
      "metadata": {
        "id": "Rr0ZM-fXY-YA"
      },
      "outputs": [],
      "source": [
        "tokenizer.get_config()"
      ]
    },
    {
      "cell_type": "code",
      "execution_count": 7,
      "metadata": {
        "colab": {
          "base_uri": "https://localhost:8080/"
        },
        "id": "bmf1TCnPZdXg",
        "outputId": "6f73b8a8-5d65-4a3e-b8a7-cf413b6ca62e"
      },
      "outputs": [
        {
          "output_type": "stream",
          "name": "stdout",
          "text": [
            "3133\n",
            "3133\n"
          ]
        },
        {
          "output_type": "execute_result",
          "data": {
            "text/plain": [
              "434784"
            ]
          },
          "metadata": {},
          "execution_count": 7
        }
      ],
      "source": [
        "from numpy.lib.arraysetops import unique\n",
        "\n",
        "category_list = []\n",
        "filterData = []\n",
        "garbageCategory = []\n",
        "garbageContent = []\n",
        "for i in range(len(data)):\n",
        "    category = data[i]['category']\n",
        "    category_list.append(category);\n",
        "    if category == '-1' or category == '22221' or category == 'we-are' :\n",
        "      garbageCategory.append(data[i])\n",
        "      continue\n",
        "    if data[i]['content'] == '-1' :\n",
        "      garbageContent.append(data[i])\n",
        "      continue\n",
        "    filterData.append(data[i])\n",
        "\n",
        "print(len(garbageCategory))\n",
        "print(len(garbageCategory))\n",
        "len(filterData)"
      ]
    },
    {
      "cell_type": "code",
      "execution_count": 8,
      "metadata": {
        "colab": {
          "base_uri": "https://localhost:8080/"
        },
        "id": "C02fbBYB2q_G",
        "outputId": "3298a8ee-70a4-4900-eb63-1023501ceb05"
      },
      "outputs": [
        {
          "output_type": "stream",
          "name": "stdout",
          "text": [
            "27\n",
            "['AskEditor' 'bangladesh' 'bondhushava' 'chakri-bakri' 'demo-content'\n",
            " 'diverse' 'durporobash' 'economy' 'education' 'entertainment' 'events'\n",
            " 'international' 'kishoralo' 'life-style' 'mpaward1' 'nagorik-kantho'\n",
            " 'northamerica' 'onnoalo' 'opinion' 'pachmisheli' 'protichinta' 'roshalo'\n",
            " 'special-supplement' 'sports' 'tarunno' 'technology' 'trust']\n"
          ]
        }
      ],
      "source": [
        "\n",
        "new_category_list = []\n",
        "\n",
        "for i in range(len(filterData)):\n",
        "    new_category_list.append(filterData[i]['category'])\n",
        "\n",
        "\n",
        "unique_category_list = np.unique(np.array(new_category_list))\n",
        "print(len(unique_category_list))\n",
        "print(unique_category_list)\n"
      ]
    },
    {
      "cell_type": "code",
      "execution_count": null,
      "metadata": {
        "id": "C9gtgqrPb8cv"
      },
      "outputs": [],
      "source": [
        "from collections import Counter\n",
        "Counter(new_category_list)"
      ]
    },
    {
      "cell_type": "code",
      "execution_count": 10,
      "metadata": {
        "colab": {
          "base_uri": "https://localhost:8080/"
        },
        "id": "auGOzux3ggAh",
        "outputId": "b3fbb16f-867f-418e-c4c0-0abcfcbe009d"
      },
      "outputs": [
        {
          "output_type": "execute_result",
          "data": {
            "text/plain": [
              "[('AskEditor', 1),\n",
              " ('bangladesh', 232504),\n",
              " ('bondhushava', 990),\n",
              " ('chakri-bakri', 75),\n",
              " ('demo-content', 2),\n",
              " ('diverse', 2),\n",
              " ('durporobash', 7402),\n",
              " ('economy', 17245),\n",
              " ('education', 9721),\n",
              " ('entertainment', 30466),\n",
              " ('events', 2),\n",
              " ('international', 30856),\n",
              " ('kishoralo', 508),\n",
              " ('life-style', 10852),\n",
              " ('mpaward1', 17),\n",
              " ('nagorik-kantho', 83),\n",
              " ('northamerica', 6990),\n",
              " ('onnoalo', 2702),\n",
              " ('opinion', 15699),\n",
              " ('pachmisheli', 3443),\n",
              " ('protichinta', 170),\n",
              " ('roshalo', 2604),\n",
              " ('special-supplement', 859),\n",
              " ('sports', 49012),\n",
              " ('tarunno', 40),\n",
              " ('technology', 12116),\n",
              " ('trust', 443)]"
            ]
          },
          "metadata": {},
          "execution_count": 10
        }
      ],
      "source": [
        "\n",
        "category_count = []\n",
        "for each_category in unique_category_list:\n",
        "    count_of_each_category = category_list.count(each_category)\n",
        "    category_count.append((each_category,count_of_each_category))\n",
        "\n",
        "category_count.sort();\n",
        "category_count\n"
      ]
    },
    {
      "cell_type": "code",
      "execution_count": 11,
      "metadata": {
        "colab": {
          "base_uri": "https://localhost:8080/",
          "height": 312
        },
        "id": "_314jg0tXAKr",
        "outputId": "0d6f3d60-b10e-410b-c1bd-692b081cba45"
      },
      "outputs": [
        {
          "output_type": "stream",
          "name": "stderr",
          "text": [
            "WARNING:matplotlib.legend:No handles with labels found to put in legend.\n"
          ]
        },
        {
          "output_type": "display_data",
          "data": {
            "text/plain": [
              "<Figure size 432x288 with 1 Axes>"
            ],
            "image/png": "[encoded data removed]"
          },
          "metadata": {
            "needs_background": "light"
          }
        }
      ],
      "source": [
        "import matplotlib.pyplot as plt\n",
        "from google.colab import files\n",
        "\n",
        "sections = []\n",
        "labels = []\n",
        " \n",
        "for each_category in category_count:\n",
        "    sections.append(each_category[1]%50)\n",
        "\n",
        "for i in range (27):\n",
        "    labels.append(i+1);\n",
        " \n",
        "plt.plot(labels,sections)\n",
        "\n",
        "plt.xlabel(\"Categories\")\n",
        "plt.ylabel(\"Per Category Data\")\n",
        "plt.title(\"Data Distribution Graph\")\n",
        "plt.legend()\n",
        "plt.show()\n"
      ]
    },
    {
      "cell_type": "code",
      "execution_count": 12,
      "metadata": {
        "colab": {
          "base_uri": "https://localhost:8080/"
        },
        "id": "-FcpoLmehqIX",
        "outputId": "1e324627-f8db-4dbd-9c5a-5e8e37bbece1"
      },
      "outputs": [
        {
          "output_type": "stream",
          "name": "stdout",
          "text": [
            "14\n"
          ]
        },
        {
          "output_type": "execute_result",
          "data": {
            "text/plain": [
              "['bangladesh',\n",
              " 'durporobash',\n",
              " 'economy',\n",
              " 'education',\n",
              " 'entertainment',\n",
              " 'international',\n",
              " 'life-style',\n",
              " 'northamerica',\n",
              " 'onnoalo',\n",
              " 'opinion',\n",
              " 'pachmisheli',\n",
              " 'roshalo',\n",
              " 'sports',\n",
              " 'technology']"
            ]
          },
          "metadata": {},
          "execution_count": 12
        }
      ],
      "source": [
        "selected_category_list = []\n",
        "\n",
        "for i in category_count:\n",
        "     if( i[1] > 2500 ):\n",
        "         selected_category_list.append(i[0])\n",
        "\n",
        "print(len(selected_category_list))\n",
        "selected_category_list"
      ]
    },
    {
      "cell_type": "markdown",
      "metadata": {
        "id": "-oHWcNQqnVG5"
      },
      "source": [
        "# **Target & Features**"
      ]
    },
    {
      "cell_type": "code",
      "execution_count": 13,
      "metadata": {
        "colab": {
          "base_uri": "https://localhost:8080/"
        },
        "id": "LgqCRElwmL2Y",
        "outputId": "a83f7b03-52eb-4d1d-cad8-0f583b0df990"
      },
      "outputs": [
        {
          "output_type": "stream",
          "name": "stdout",
          "text": [
            "35000\n",
            "35000\n",
            "Category: -- onnoalo\n",
            "Content: -- সাইকেলতাহমিনা বেগম স্বপ্নে দেখেন, লিজার বাবা একটা নতুন সাইকেল নিয়ে ঢুকছেন উঠানে। তাঁকে খুব হাস্যোজ্জ্বল আর সুখী দেখাচ্ছে। লিজার মাকে দেখতে পেয়েই বললেন, ‘লিজার জন্য কিনে আনলাম। কত দিন ধরে আবদার করছে মেয়েটা।’‘কিন্তু লিজা তো নেই। তুমি যেন কিছুই জানো না!’লিজার বাবাকে খানিকটা বিচলিত দেখাল। তিনি লিজার মায়ের ভুল ভাঙাতে চাইলেন, ‘তুমি যেটা বলতেছ, সেটা একটা দুঃস্বপ্ন ছিল। এখন সব ঠিক হয়ে গেছে।’‘কিন্তু এখন কি আমি স্বপ্ন দেখতেছি না?’‘ওই যে, দেখো লিজা আসতেছে।’স্কুলের পোশাক পরা লিজা বেরোল ঘর থেকে। সে উঠানে এসে সাইকেলসহ বাবাকে দেখে খুশি হলো এবং সাইকেলটা নিয়ে উঠানের আয়তাকার জায়গাটাতে চালাতে চেষ্টা করল।তাহমিনা বেগম লক্ষ করলেন মেয়ের মাথার চুল এলোমেলোভাবে কাটা। হাত ও মুখে আঘাতের চিহ্ন। জঙ্গলে ওর মৃতদেহ পাওয়ার আগে কাটা চুলগুলো পাওয়া গিয়েছিল খালের পাড়ে। তাহমিনা বেগম মেয়ের এই হাল দেখে উদ্বিগ্ন হলেন।‘তাহলে সেটা কি সত্যিই দুঃস্বপ্ন ছিল?’‘হ্যাঁ।’‘কী দেখছিলা তুমি?’‘ঠিক তোমার দুঃস্বপ্নটার মতো। সব ঘটনাই এক।’‘কিন্তু স্বপ্ন দুটো একই রকম ছিল কি না, আমরা তো মিলায়া দেখি নাই।’‘আমি জানি, সবকিছুই ছিল এক। আমাদের উদ্বেগ, লিজাকে খুঁজতে বেরোনো, জঙ্গলে মৃতদেহ পাওয়া, থানা-পুলিশ, গোয়েন্দা-পুলিশ তারপর অপরাধ তদন্ত বিভাগ, প্রচুর জেরা, ডিএনএ টেস্ট, মৃতদেহ কবর থেকে তোলা, কয়েকবার পোস্টমর্টেম, কিন্তু ফরেনসিক বিভাগের কোনো রিপোর্টেই মৃত্যুর কারণ লেখা না থাকা...। তখন কেউ একজন বলবে, “লিজা মরেনি। মৃত্যুর কারণ না থাকলে সে মরতে যাবে কেন?” আবার কেউ বলবে, “জীবন্ত মেয়েকে কবর দেওয়া ঠিক হয় নাই।”... এসব নিয়া হুলুস্থুল কাণ্ড, তারপর হুমকি-ধমকি...।’‘হ্যাঁ, একদম তাই।’‘কিন্তু দুঃস্বপ্নটা কি আমরা একসঙ্গে দেখতেছিলাম?’‘হ্যাঁ।’‘এখন?’লিজার বাবাকে আনমনা দেখায়। তাহমিনা বেগম জিজ্ঞেস করেন, ‘এখন কি স্বপ্নটা তুমি দেখতেছ না আমি?’লিজার বাবা কী যেন খুঁজতে ঘরের ভেতর গেলেন। তাহমিনা বেগম দেখলেন, মেয়ে সাইকেল নিয়ে বেরিয়ে যাচ্ছে। তিনি কিছু একটা আঁচ করলেন আর মেয়েকে পেছন থেকে অনুসরণ করে গেলেন। লিজা আঙিনার পাশে কাঁঠালগাছের গোড়ায় সাইকেল ঠেস দিয়ে রেখে পেছন ফিরে দাঁড়িয়ে আছে। কাছে যেতেই মায়ের দিকে ফিরে জিজ্ঞেস করল, ‘তোমরা কি সত্যিই আমাকে কবর দিয়েছ?’সাধুআজমত মাঝেমধ্যে সাধু-সঙ্গ করতে যেত।একবার পরীক্ষা চলছে, ওই সময়ে উধাও হয়ে গেল। হলে ফিরল দীর্ঘদিন পর। জানা গেল, এত দিন ভারতবর্ষের নানা জায়গায়, নানা তীর্থে আর আস্তানায় সাধু-সন্ন্যাসীদের সঙ্গে ঘুরেছে সে।ড্রপ-আউট এড়াতে তাকে অনেক দিন ধরে ক্লাস-পরীক্ষা চালিয়ে যেতে হলো। তাই দীর্ঘদিন ধরে হলে থাকতে সে বাধ্য হলো।ক্যাম্পাসে থাকতে থাকতে হাঁপিয়ে উঠল সে। বলল, নাগরিক মানুষ তাকে ক্লান্ত করে। বাসনাতাড়িত, লোভী আর কুটিল মানুষগুলোর মধ্যে থাকতে তার দমবন্ধ লাগে।একদিন দেখা গেল কাঠের বাক্সে করে একটা সাপ নিয়ে এসেছে। সাপটাকে সে টিকটিকি কিংবা পোকা ধরে খাওয়ায়। শীতল রক্তের এই মৌনী প্রাণীটির সঙ্গে এক দুর্বোধ্য যোগাযোগ গড়ে তোলে সে।মাঝেমধ্য তাকে জিমনেসিয়ামের পেছনের জঙ্গলে একা একা হাঁটাহাঁটি করতে দেখা যায়। কখনো শণে ঢাকা হাঁটাপথের ধারে বসে থাকে একা। কেউ কেউ বলল, জঙ্গলে থাকা শিয়ালগুলোকে সে ডেকে আনতে পারে।প্রাণিজগতের সঙ্গে যোগাযোগ বাড়ানোর চেষ্টা থেকে কিংবা মৌনী প্রাণীটির অত্যধিক নীরবতায় কিছুটা ক্লান্ত হয়েই সে একদিন একটি পাখির খাঁচা নিয়ে হলে ঢোকে। খাঁচার ভেতর দুটি নীল-সাদা বাজরিগার। কিচিরমিচির শব্দে ঘরের নীরবতা খান খান। পাখি দুটিকে সে তিল-তিসি খাওয়ায় আর তাদের দুর্বোধ্য ভাষা রপ্ত করার চেষ্টা করে।কিছুদিনের মাথায় দুটি ঘটনা ঘটল। একদিন ক্লাস থেকে ফিরে সে দেখল, সাপটা বাক্সের বাইরে আর সেটা বাজরিগার দুটিকে হত্যা করেছে। দ্বিতীয় ঘটনাটি একই রকম মর্মান্তিক—একদল পিঁপড়ের আক্রমণে সাপটির মৃত্যু হয়েছে।এরপর থেকে একেবারে চুপচাপ হয়ে গেল সে। ক্লাসে নেই, চায়ের দোকানগুলোতে নেই, জিমনেসিয়ামের পেছনের জঙ্গলেও তাকে ঘুরতে দেখা যায় না। জানা গেল, সে আবার উধাও হয়েছে।বহুদিন পর এক সন্ধ্যাবেলা সে ফিরে এল। তার দৃষ্টি অত্যধিক শান্ত আর অন্তর্ভেদী। মুখে অদ্ভুত রকম দীপ্তি। আমি বিস্ময় নিয়ে তার দিকে তাকিয়ে আছি আর তার দৃষ্টির হেঁয়ালি আমাকে বিদ্ধ করছে। মৃদু হেসে সে গুনগুন করে গাইল—ভাব আছে যার গায়, দেখলে তারে চেনা যায়, সর্ব অঙ্গ তাহার পোড়া রে!\n"
          ]
        }
      ],
      "source": [
        "\n",
        "features = []\n",
        "target = []\n",
        "\n",
        "\n",
        "for i in filterData:\n",
        "    if i['category'] in selected_category_list:\n",
        "        if target.count(i['category']) < 2500:\n",
        "          features.append(i['content'])\n",
        "          target.append(i['category'])\n",
        "\n",
        "\n",
        "print(len(features))\n",
        "print(len(target))\n",
        "\n",
        "# Check dataset\n",
        "print(\"Category: --\",target[-1])\n",
        "print(\"Content: --\",features[-1])\n"
      ]
    },
    {
      "cell_type": "code",
      "execution_count": 14,
      "metadata": {
        "colab": {
          "base_uri": "https://localhost:8080/",
          "height": 264
        },
        "id": "ap5SFZspvx9I",
        "outputId": "b69836ed-a509-4184-c70d-c42e05770cb9"
      },
      "outputs": [
        {
          "output_type": "display_data",
          "data": {
            "text/plain": [
              "<Figure size 432x288 with 1 Axes>"
            ],
            "image/png": "[encoded data removed]"
          },
          "metadata": {}
        }
      ],
      "source": [
        "import matplotlib.pyplot as plt\n",
        "\n",
        "sections = []\n",
        "y = []\n",
        " \n",
        "labels = []\n",
        " \n",
        "for each_category in selected_category_list:\n",
        "    sections.append(target.count(each_category))\n",
        "\n",
        "colors = ['c', 'g', 'lavender', 'turquoise', 'tan', 'salmon', 'crimson', 'plum', 'orchid', 'orange', 'brown', 'gray', 'olive', 'purple']\n",
        "labels = ['{}'.format(each_category) for each_category in selected_category_list]\n",
        "\n",
        "plt.pie(sections, labels=labels, colors=colors,\n",
        "        startangle=90,\n",
        "        explode=[0.1 if i == max(sections) else 0 for i in sections],  # Explode the section with the highest value.\n",
        "        autopct='%1.2f%%')\n",
        "\n",
        "# plt.axis('equal')\n",
        "plt.title('Category Distribution Graph')\n",
        "plt.show()\n",
        "\n"
      ]
    },
    {
      "cell_type": "code",
      "execution_count": null,
      "metadata": {
        "id": "VjSqZ-a-nP3E"
      },
      "outputs": [],
      "source": [
        "\n",
        "for i in range(len(data)):\n",
        "    if (data[i]['category'] == '22221'):\n",
        "             print(data[i])\n",
        "        "
      ]
    },
    {
      "cell_type": "code",
      "execution_count": null,
      "metadata": {
        "id": "s_btDJEcjCyQ"
      },
      "outputs": [],
      "source": [
        "\n",
        "for i in range(len(data)):\n",
        "    if (data[i]['category'] == '-1'):\n",
        "             print(data[i])\n"
      ]
    },
    {
      "cell_type": "markdown",
      "metadata": {
        "id": "y_ezoHUsX8da"
      },
      "source": [
        "# ***Lemmatization***"
      ]
    },
    {
      "cell_type": "code",
      "execution_count": null,
      "metadata": {
        "id": "-G5wdm5cYBG0"
      },
      "outputs": [],
      "source": [
        "!pip install bnlp_toolkit\n",
        "!pip install git+https://github.com/banglakit/lemmatizer.git#egg=banglakit-lemmatizer\n",
        "\n",
        "from bnlp import NLTKTokenizer\n",
        "from banglakit import lemmatizer as lem\n",
        "from banglakit.lemmatizer import BengaliLemmatizer\n",
        "\n",
        "import nltk\n",
        "from nltk.stem import WordNetLemmatizer\n",
        "\n",
        "nltk_tokenizer = NLTKTokenizer()\n",
        "lemmatizer = BengaliLemmatizer()\n",
        "\n",
        "# text = \"আমার সোনার বাংলা, আমি তোমায় ভালবাসি।\"\n",
        "# tokens = nltk_tokenizer.word_tokenize(text)\n",
        "# lemmatized_text = [lemmatizer.lemmatize(token) for token in tokens]\n",
        "\n",
        "\n",
        "# Tokenize the list of text.\n",
        "tokens_list = [nltk_tokenizer.word_tokenize(content) for content in features]\n",
        "\n",
        "# Apply lemmatization to each token in each list.\n",
        "lemmatized_tokens_list = []\n",
        "for tokens in tokens_list:\n",
        "    lemmatized_tokens = []\n",
        "    for token in tokens:\n",
        "        lemmatized_tokens.append(lemmatizer.lemmatize(token))\n",
        "    lemmatized_tokens_list.append(lemmatized_tokens)\n",
        "\n",
        "# Join the tokens back into a single string for each text in the list.\n",
        "# lemmatized_text_list = [' '.join(tokens) for tokens in lemmatized_tokens_list]\n",
        "\n"
      ]
    },
    {
      "cell_type": "code",
      "execution_count": null,
      "metadata": {
        "id": "LPDBVszncjIj"
      },
      "outputs": [],
      "source": [
        "len(lemmatized_tokens_list[-1])"
      ]
    },
    {
      "cell_type": "code",
      "execution_count": 19,
      "metadata": {
        "colab": {
          "base_uri": "https://localhost:8080/"
        },
        "id": "bvEaAZnAcpxS",
        "outputId": "6d3de4aa-ce8e-4d50-a8d4-4f168f54ddce"
      },
      "outputs": [
        {
          "output_type": "execute_result",
          "data": {
            "text/plain": [
              "3581"
            ]
          },
          "metadata": {},
          "execution_count": 19
        }
      ],
      "source": [
        "len(features[-1])"
      ]
    },
    {
      "cell_type": "markdown",
      "metadata": {
        "id": "h61_hix1yZUZ"
      },
      "source": [
        "# **Label Encoding**"
      ]
    },
    {
      "cell_type": "code",
      "execution_count": 20,
      "metadata": {
        "colab": {
          "base_uri": "https://localhost:8080/"
        },
        "id": "Pl0iS4OSyhRo",
        "outputId": "8c52b7b2-3003-4b6e-df68-a95ae525aa2f"
      },
      "outputs": [
        {
          "output_type": "execute_result",
          "data": {
            "text/plain": [
              "{0, 1, 2, 3, 4, 5, 6, 7, 8, 9, 10, 11, 12, 13}"
            ]
          },
          "metadata": {},
          "execution_count": 20
        }
      ],
      "source": [
        "\n",
        "from sklearn.preprocessing import LabelEncoder\n",
        "le = LabelEncoder()\n",
        "\n",
        "en_target=le.fit_transform(target)\n",
        "\n",
        "set(en_target)\n"
      ]
    },
    {
      "cell_type": "markdown",
      "metadata": {
        "id": "Roxz-BqKzk5h"
      },
      "source": [
        "# **Split data**\n",
        "*make train and test data*"
      ]
    },
    {
      "cell_type": "code",
      "execution_count": 21,
      "metadata": {
        "colab": {
          "base_uri": "https://localhost:8080/"
        },
        "id": "updcYm0UzxJr",
        "outputId": "de7b1646-2f53-4f5b-b373-649c6a31b4c1"
      },
      "outputs": [
        {
          "output_type": "stream",
          "name": "stdout",
          "text": [
            "28000\n",
            "7000\n"
          ]
        }
      ],
      "source": [
        "from sklearn.model_selection import train_test_split\n",
        "\n",
        "\n",
        "train_content, test_content, train_category, test_category = train_test_split(lemmatized_tokens_list, en_target, \n",
        "                                                    train_size=0.8,\n",
        "                                                    test_size=0.2,\n",
        "                                                    random_state=100)\n",
        "\n",
        "\n",
        "print(len(train_content))\n",
        "print(len(test_content))"
      ]
    },
    {
      "cell_type": "markdown",
      "metadata": {
        "id": "Mqz-NrWJ3KA9"
      },
      "source": [
        "# **Tokenization**"
      ]
    },
    {
      "cell_type": "code",
      "execution_count": 22,
      "metadata": {
        "colab": {
          "base_uri": "https://localhost:8080/"
        },
        "id": "0PH1Qvfl3Rur",
        "outputId": "ecae5ed5-ecd6-424d-b5b8-6ae593b48e1a"
      },
      "outputs": [
        {
          "output_type": "execute_result",
          "data": {
            "text/plain": [
              "[('<OOV>', 1),\n",
              " ('।', 2),\n",
              " (',', 3),\n",
              " ('-pron-', 4),\n",
              " ('কর', 5),\n",
              " ('ও', 6),\n",
              " ('বল', 7),\n",
              " ('না', 8),\n",
              " ('.', 9),\n",
              " ('’', 10),\n",
              " ('‘', 11),\n",
              " ('যাওয়া', 12),\n",
              " ('থেকে', 13),\n",
              " ('এই', 14),\n",
              " (')', 15)]"
            ]
          },
          "metadata": {},
          "execution_count": 22
        }
      ],
      "source": [
        "import tensorflow as tf\n",
        "\n",
        "from tensorflow.keras.preprocessing.text import Tokenizer\n",
        "from tensorflow.keras.preprocessing.sequence import pad_sequences\n",
        "\n",
        "tokenizer = Tokenizer(oov_token=\"<OOV>\")\n",
        "tokenizer.fit_on_texts(train_content)\n",
        "\n",
        "list(tokenizer.word_index.items()) [:15] #print first 15"
      ]
    },
    {
      "cell_type": "code",
      "execution_count": 23,
      "metadata": {
        "colab": {
          "base_uri": "https://localhost:8080/"
        },
        "id": "6Q2TnWbk8qHZ",
        "outputId": "3524d01c-db88-4069-da12-4213a9da4379"
      },
      "outputs": [
        {
          "output_type": "stream",
          "name": "stdout",
          "text": [
            "487222\n"
          ]
        }
      ],
      "source": [
        "vocabulary_size = len(tokenizer.word_index) + 1\n",
        "print(vocabulary_size)"
      ]
    },
    {
      "cell_type": "markdown",
      "metadata": {
        "id": "zCAj7S0I88B6"
      },
      "source": [
        "# ***Padding***"
      ]
    },
    {
      "cell_type": "code",
      "execution_count": 24,
      "metadata": {
        "id": "7POFKFDC8_UI"
      },
      "outputs": [],
      "source": [
        "\n",
        "max_length = 500\n",
        "truncate_type = 'post'\n",
        "padding_type = 'post'\n",
        "\n",
        "train_sequences = tokenizer.texts_to_sequences(train_content)\n",
        "train_padded = pad_sequences(train_sequences, maxlen=max_length, padding=padding_type, truncating=truncate_type)\n",
        "\n",
        "test_sequences = tokenizer.texts_to_sequences(test_content)\n",
        "test_padded = pad_sequences(test_sequences, maxlen=max_length, padding=padding_type, truncating=truncate_type)"
      ]
    },
    {
      "cell_type": "code",
      "execution_count": 25,
      "metadata": {
        "colab": {
          "base_uri": "https://localhost:8080/"
        },
        "id": "4Rgk8O4O_WhF",
        "outputId": "950d6bd7-83d0-43e9-f40e-23b4fa9fd6c9"
      },
      "outputs": [
        {
          "output_type": "execute_result",
          "data": {
            "text/plain": [
              "['ফিলিপাইনে',\n",
              " 'ঘূর্ণিঝড়',\n",
              " '‘',\n",
              " 'হাইয়ান',\n",
              " '’',\n",
              " '-এর',\n",
              " 'আঘাতে',\n",
              " 'কমপক্ষে',\n",
              " 'এক',\n",
              " 'হাজার',\n",
              " '২০০',\n",
              " 'মানুষ',\n",
              " 'নিহত',\n",
              " 'হয়েছে',\n",
              " '।',\n",
              " '-PRON-',\n",
              " 'মধ্যে',\n",
              " 'একটি',\n",
              " 'শহরেই',\n",
              " 'নিহত',\n",
              " 'হয়েছে',\n",
              " 'সহস্রাধিক',\n",
              " 'মানুষ',\n",
              " '।',\n",
              " 'আজ',\n",
              " 'শনিবার',\n",
              " 'রেডক্রসের',\n",
              " 'বরাত',\n",
              " 'দিয়ে',\n",
              " 'বার্তা',\n",
              " 'সংস্থা',\n",
              " 'রয়টার্স',\n",
              " 'এই',\n",
              " 'খবর',\n",
              " 'প্রকাশ',\n",
              " 'কর',\n",
              " '।',\n",
              " 'প্রাণহানির',\n",
              " 'সংখ্যা',\n",
              " 'আরও',\n",
              " 'বাড়তে',\n",
              " 'পারে',\n",
              " 'বল',\n",
              " 'জানিয়েছে',\n",
              " 'রেডক্রস।ঘূর্ণিঝড়',\n",
              " 'হাইয়ানের',\n",
              " 'কারণে',\n",
              " 'ফিলিপাইনের',\n",
              " 'উপকূলবর্তী',\n",
              " 'এলাকায়',\n",
              " 'ভূমিধস',\n",
              " 'ও',\n",
              " 'রাস্তাঘাট',\n",
              " 'ভেঙে',\n",
              " 'পড়',\n",
              " 'এবং',\n",
              " 'গাছপালা',\n",
              " 'রাস্তার',\n",
              " 'ওপর',\n",
              " 'ভেঙে',\n",
              " 'পড়',\n",
              " 'উদ্ধারকাজ',\n",
              " 'বিঘ্নিত',\n",
              " 'হচ্ছে',\n",
              " 'বল',\n",
              " 'জানা',\n",
              " 'গেছে',\n",
              " '।',\n",
              " 'ফিলিপাইনে',\n",
              " 'রেডক্রসের',\n",
              " 'মহাসচিব',\n",
              " 'গেনডোলিন',\n",
              " 'প্যাং',\n",
              " 'বল',\n",
              " ',',\n",
              " 'ঘূর্ণিঝড়',\n",
              " 'হাইয়ান',\n",
              " 'বিশেষ',\n",
              " 'কর',\n",
              " 'দেশটির',\n",
              " 'কেন্দ্রীয়',\n",
              " 'লেইট',\n",
              " 'প্রদেশের',\n",
              " 'উপকূলবর্তী',\n",
              " 'এলাকা',\n",
              " 'ট্যাকলোবানে',\n",
              " 'আঘাত',\n",
              " 'হেনেছে',\n",
              " '।',\n",
              " 'এই',\n",
              " 'অঞ্চল',\n",
              " 'থেকেই',\n",
              " 'রেডক্রসের',\n",
              " 'উদ্ধার',\n",
              " 'কর্মীরা',\n",
              " 'প্রায়',\n",
              " 'এক',\n",
              " 'হাজার',\n",
              " 'লাশ',\n",
              " 'উদ্ধার',\n",
              " 'কর',\n",
              " '।',\n",
              " '-PRON-',\n",
              " 'ছাড়া',\n",
              " 'সামার',\n",
              " 'অঞ্চল',\n",
              " 'থেকে',\n",
              " 'আরও',\n",
              " '২০০',\n",
              " 'জনের',\n",
              " 'লাশ',\n",
              " 'উদ্ধার',\n",
              " 'কর',\n",
              " 'হয়েছে।প্রত্যক্ষদর্শী',\n",
              " 'সূত্রে',\n",
              " 'জানা',\n",
              " 'গেছে',\n",
              " ',',\n",
              " '-PRON-',\n",
              " 'অঞ্চলের',\n",
              " 'মানুষ',\n",
              " 'বর্তমানে',\n",
              " 'ঘরবাড়ি',\n",
              " 'ছেড়ে',\n",
              " 'পলিথিন',\n",
              " 'গায়ে',\n",
              " 'দিয়ে',\n",
              " 'রাস্তার',\n",
              " 'ওপর',\n",
              " 'শুয়ে',\n",
              " 'পড়েছে।জাতিসংঘের',\n",
              " 'দুর্যোগ',\n",
              " 'পর্যবেক্ষণ',\n",
              " 'সমন্বয়ক',\n",
              " 'দলের',\n",
              " 'প্রধান',\n",
              " 'সেবাস্তিয়ান',\n",
              " 'রোডস',\n",
              " 'স্ট্যামপা',\n",
              " 'বল',\n",
              " ',',\n",
              " '‘',\n",
              " 'এই',\n",
              " 'ঘূর্ণিঝড়ে',\n",
              " 'ব্যাপক',\n",
              " 'ক্ষয়ক্ষতি',\n",
              " 'হয়েছে',\n",
              " '।',\n",
              " 'এর',\n",
              " 'আগে',\n",
              " '-PRON-',\n",
              " '-PRON-',\n",
              " 'ধরনের',\n",
              " 'ক্ষয়ক্ষতি',\n",
              " 'ভারত',\n",
              " 'মহাসাগর',\n",
              " 'থেকে',\n",
              " 'প্রবাহিত',\n",
              " '“',\n",
              " 'সুনামি',\n",
              " '”',\n",
              " 'র',\n",
              " 'সময়ই',\n",
              " 'দেখ',\n",
              " '।',\n",
              " '’',\n",
              " 'জানা',\n",
              " 'গেছে',\n",
              " ',',\n",
              " 'ঘূর্ণিঝড়',\n",
              " 'হাইয়ান',\n",
              " 'ফিলিপাইনে',\n",
              " 'আঘাত',\n",
              " 'হেনে',\n",
              " 'এখন',\n",
              " 'পার্শ্ববর্তী',\n",
              " 'দেশ',\n",
              " 'ভিয়েতনামের',\n",
              " 'দিকে',\n",
              " 'যাওয়া',\n",
              " '।',\n",
              " 'তবে',\n",
              " 'ভিয়েতনাম',\n",
              " 'সরকারের',\n",
              " 'ওয়েবসাইট',\n",
              " 'থেকে',\n",
              " 'জানা',\n",
              " 'গেছে',\n",
              " ',',\n",
              " 'দেশটির',\n",
              " '১৫টি',\n",
              " 'প্রদেশের',\n",
              " 'কর্তৃপক্ষ',\n",
              " 'সতর্ক',\n",
              " 'সংকেত',\n",
              " 'দিয়ে',\n",
              " 'সমুদ্র',\n",
              " 'থেকে',\n",
              " 'নৌকাগুলোকে',\n",
              " 'দ্রুত',\n",
              " 'তীরে',\n",
              " 'ফিরে',\n",
              " 'আসার',\n",
              " 'আহ্বান',\n",
              " 'জানিয়েছে',\n",
              " '।',\n",
              " '-PRON-',\n",
              " 'ছাড়া',\n",
              " 'দেশটির',\n",
              " 'দা',\n",
              " 'নাং',\n",
              " 'ও',\n",
              " 'কুয়াং',\n",
              " 'নাম',\n",
              " 'প্রদেশের',\n",
              " 'অন্তত',\n",
              " '৩০',\n",
              " 'হাজার',\n",
              " 'মানুষকে',\n",
              " 'নিরাপদ',\n",
              " 'আশ্রয়ে',\n",
              " 'নিয়ে',\n",
              " 'যাওয়া',\n",
              " 'হয়েছে।গতকাল',\n",
              " 'শুক্রবার',\n",
              " 'ভোরে',\n",
              " 'ফিলিপাইনের',\n",
              " 'মধ্যাঞ্চলে',\n",
              " 'ঘূর্ণিঝড়',\n",
              " 'হাইয়ান',\n",
              " 'আঘাত',\n",
              " 'হানে',\n",
              " '।',\n",
              " 'এটিকে',\n",
              " 'ফিলিপাইনে',\n",
              " 'আঘাত',\n",
              " 'হানা',\n",
              " 'অন্যতম',\n",
              " 'শক্তিশালী',\n",
              " 'ঘূর্ণিঝড়',\n",
              " 'হিসেবে',\n",
              " 'বিবেচনা',\n",
              " 'কর',\n",
              " 'হচ্ছে',\n",
              " '।',\n",
              " 'ঘূর্ণিঝড়টির',\n",
              " 'সর্বোচ্চ',\n",
              " 'গতি',\n",
              " 'ছিল',\n",
              " 'ঘণ্টায়',\n",
              " '৫৮০',\n",
              " 'কিলোমিটার।ঘূর্ণিঝড়ের',\n",
              " 'কারণে',\n",
              " 'ব্যাপক',\n",
              " 'ক্ষয়ক্ষতি',\n",
              " 'হয়েছে',\n",
              " '।',\n",
              " 'ঘরবাড়ি',\n",
              " 'বিধ্বস্ত',\n",
              " 'হয়েছে',\n",
              " '।',\n",
              " 'গাছ',\n",
              " 'উপড়ে',\n",
              " 'পড়',\n",
              " '।',\n",
              " 'বিভিন্ন',\n",
              " 'প্রদেশের',\n",
              " 'বিদ্যুত্',\n",
              " 'ও',\n",
              " 'যোগাযোগব্যবস্থা',\n",
              " 'ব্যাহত',\n",
              " 'হয়েছে',\n",
              " '।',\n",
              " 'গুরুতর',\n",
              " 'ক্ষয়ক্ষতির',\n",
              " 'আশঙ্কা',\n",
              " 'থেকে',\n",
              " 'লাখ',\n",
              " 'লাখ',\n",
              " 'মানুষকে',\n",
              " 'নিরাপদ',\n",
              " 'আশ্রয়ে',\n",
              " 'সরিয়ে',\n",
              " 'নেওয়া',\n",
              " 'হয়েছে',\n",
              " '।',\n",
              " 'এই',\n",
              " 'ঘূর্ণিঝড়ের',\n",
              " 'কারণে',\n",
              " 'দেশটির',\n",
              " 'ফেরি',\n",
              " 'ও',\n",
              " 'বিমান',\n",
              " 'চলাচল',\n",
              " 'আপাতত',\n",
              " 'স্থগিত',\n",
              " 'কর',\n",
              " 'হয়েছে।দেশটির',\n",
              " 'আবহাওয়া',\n",
              " 'অধিদপ্তর',\n",
              " 'বল',\n",
              " ',',\n",
              " 'যতটা',\n",
              " 'ভয়',\n",
              " 'কর',\n",
              " 'হচ্ছে',\n",
              " 'ঘূর্ণিঝড়',\n",
              " 'হাইয়ানের',\n",
              " 'প্রভাব',\n",
              " 'ঠিক',\n",
              " 'ততটা',\n",
              " 'হবে',\n",
              " 'না',\n",
              " '।',\n",
              " 'কারণ',\n",
              " ',',\n",
              " 'এটা',\n",
              " 'দ্রুত',\n",
              " 'অন্যদিকে',\n",
              " 'সর',\n",
              " 'যাওয়া',\n",
              " '।',\n",
              " '-PRON-',\n",
              " 'ক্ষতি',\n",
              " 'হওয়ার',\n",
              " 'তা',\n",
              " 'হয়ে',\n",
              " 'গেছে',\n",
              " '।']"
            ]
          },
          "metadata": {},
          "execution_count": 25
        }
      ],
      "source": [
        "train_content[-1]\n",
        "#print(len(train_content[1000]))"
      ]
    },
    {
      "cell_type": "code",
      "execution_count": 26,
      "metadata": {
        "colab": {
          "base_uri": "https://localhost:8080/"
        },
        "id": "KXOn65Rw_ika",
        "outputId": "5e49191f-b5ce-48f2-ac4b-6d40c7b8c0b9"
      },
      "outputs": [
        {
          "output_type": "stream",
          "name": "stdout",
          "text": [
            "329\n",
            "[14016, 11012, 11, 70692, 10, 886, 5883, 2564, 24, 91, 1237, 110, 614, 52, 2, 4, 36, 28, 11911, 614, 52, 15797, 110, 2, 82, 655, 32982, 3445, 56, 1134, 777, 11227, 14, 339, 206, 5, 2, 11659, 402, 71, 3767, 43, 7, 1130, 487214, 36589, 128, 11241, 34541, 1104, 22159, 6, 6988, 480, 58, 26, 6471, 1560, 96, 480, 58, 23740, 8980, 73, 7, 241, 101, 2, 14016, 32982, 3013, 487215, 487216, 7, 3, 11012, 70692, 153, 5, 867, 1602, 145069, 3052, 34541, 1401, 487217, 1806, 27470, 2, 14, 2800, 226, 32982, 1131, 2832, 199, 24, 91, 2050, 1131, 5, 2, 4, 205, 11270, 2800, 13, 71, 1237, 1492, 2050, 1131, 5, 163538, 1053, 241, 101, 3, 4, 1339, 110, 488, 9975, 751, 13651, 1489, 56, 1560, 96, 2534, 487218, 4592, 2892, 10427, 162, 142, 57533, 31114, 487219, 7, 3, 11, 14, 52513, 857, 16184, 52, 2, 51, 75, 4, 4, 117, 16184, 626, 14590, 13, 6842, 1243, 18136, 1150, 1055, 2403, 21, 2, 10, 241, 101, 3, 11012, 70692, 14016, 1806, 54583, 59, 6415, 233, 22107, 115, 12, 2, 50, 10649, 179, 3038, 13, 241, 101, 3, 867, 4979, 3052, 804, 1368, 5077, 56, 3170, 13, 487220, 503, 5041, 270, 615, 616, 1130, 2, 4, 205, 867, 8091, 145826, 6, 154970, 136, 3052, 612, 478, 91, 716, 1664, 18553, 35, 12, 39949, 784, 2972, 11241, 35669, 11012, 70692, 1806, 15826, 2, 5511, 14016, 1806, 7610, 471, 1317, 11012, 74, 1265, 5, 73, 2, 92451, 694, 2107, 34, 5931, 43763, 487221, 128, 857, 16184, 52, 2, 9975, 6433, 52, 2, 1394, 16589, 58, 2, 84, 3052, 11599, 6, 16451, 4476, 52, 2, 2227, 26061, 1183, 13, 193, 193, 716, 1664, 18553, 2611, 380, 52, 2, 14, 24541, 128, 867, 7522, 6, 1901, 2518, 2438, 2429, 5, 154372, 5402, 6800, 7, 3, 2407, 1054, 5, 73, 11012, 36589, 637, 189, 5991, 23, 8, 2, 127, 3, 140, 503, 869, 689, 12, 2, 4, 854, 238, 40, 39, 101, 2]\n"
          ]
        }
      ],
      "source": [
        "# print a single text sequence\n",
        "print(len(train_sequences[-1]))\n",
        "print(train_sequences[-1])"
      ]
    },
    {
      "cell_type": "code",
      "execution_count": 27,
      "metadata": {
        "colab": {
          "base_uri": "https://localhost:8080/"
        },
        "id": "_E6i-nmSBLGz",
        "outputId": "d6274d42-e9f0-4f0a-e120-177c55eef9ce"
      },
      "outputs": [
        {
          "output_type": "execute_result",
          "data": {
            "text/plain": [
              "(28000, 500)"
            ]
          },
          "metadata": {},
          "execution_count": 27
        }
      ],
      "source": [
        "import numpy as np\n",
        "\n",
        "# convert into array\n",
        "training_padded = np.array(train_padded)\n",
        "training_labels = np.array(train_category)\n",
        "testing_padded = np.array(test_padded)\n",
        "testing_labels = np.array(test_category)\n",
        "\n",
        "# now the Shape of train content data\n",
        "training_padded.shape"
      ]
    },
    {
      "cell_type": "markdown",
      "metadata": {
        "id": "Q8sjkgZ2BtpY"
      },
      "source": []
    },
    {
      "cell_type": "markdown",
      "metadata": {
        "id": "2H8fOIgwBtty"
      },
      "source": [
        "## **Build Model**"
      ]
    },
    {
      "cell_type": "code",
      "execution_count": 28,
      "metadata": {
        "id": "GMRvQEgfB4c1"
      },
      "outputs": [],
      "source": [
        "model =tf.keras.Sequential([tf.keras.layers.Embedding(input_dim=vocabulary_size,output_dim=14, input_length=max_length),\n",
        "                            tf.keras.layers.Bidirectional(tf.keras.layers.LSTM(64, return_sequences=True)),\n",
        "                            tf.keras.layers.Bidirectional(tf.keras.layers.LSTM(128, return_sequences=True)),\n",
        "                            tf.keras.layers.Bidirectional(tf.keras.layers.LSTM(128, return_sequences=True)),\n",
        "                            tf.keras.layers.Bidirectional(tf.keras.layers.LSTM(32)),\n",
        "                            tf.keras.layers.Dense(14, activation='softmax')\n",
        "])"
      ]
    },
    {
      "cell_type": "code",
      "execution_count": 29,
      "metadata": {
        "id": "NLFbXEhr_GSj"
      },
      "outputs": [],
      "source": [
        "model.compile(loss='sparse_categorical_crossentropy',optimizer='adam',metrics=['accuracy'])"
      ]
    },
    {
      "cell_type": "code",
      "execution_count": 30,
      "metadata": {
        "colab": {
          "base_uri": "https://localhost:8080/"
        },
        "id": "2dNyIDHlByq2",
        "outputId": "2f953789-d2d7-42d7-fffe-28a3e7ab4bb7"
      },
      "outputs": [
        {
          "output_type": "stream",
          "name": "stdout",
          "text": [
            "Model: \"sequential\"\n",
            "_________________________________________________________________\n",
            " Layer (type)                Output Shape              Param #   \n",
            "=================================================================\n",
            " embedding (Embedding)       (None, 500, 14)           6821108   \n",
            "                                                                 \n",
            " bidirectional (Bidirectiona  (None, 500, 128)         40448     \n",
            " l)                                                              \n",
            "                                                                 \n",
            " bidirectional_1 (Bidirectio  (None, 500, 256)         263168    \n",
            " nal)                                                            \n",
            "                                                                 \n",
            " bidirectional_2 (Bidirectio  (None, 500, 256)         394240    \n",
            " nal)                                                            \n",
            "                                                                 \n",
            " bidirectional_3 (Bidirectio  (None, 64)               73984     \n",
            " nal)                                                            \n",
            "                                                                 \n",
            " dense (Dense)               (None, 14)                910       \n",
            "                                                                 \n",
            "=================================================================\n",
            "Total params: 7,593,858\n",
            "Trainable params: 7,593,858\n",
            "Non-trainable params: 0\n",
            "_________________________________________________________________\n"
          ]
        }
      ],
      "source": [
        "model.summary()"
      ]
    },
    {
      "cell_type": "code",
      "execution_count": 31,
      "metadata": {
        "id": "3JEyafZBDUOX"
      },
      "outputs": [],
      "source": [
        "tensorboard_callback = tf.keras.callbacks.TensorBoard(log_dir=\"logs\")"
      ]
    },
    {
      "cell_type": "code",
      "execution_count": 32,
      "metadata": {
        "colab": {
          "base_uri": "https://localhost:8080/"
        },
        "id": "IP3FWyrKDcEQ",
        "outputId": "c972364e-1d3d-4484-df39-2bd82e7cae81"
      },
      "outputs": [
        {
          "output_type": "stream",
          "name": "stdout",
          "text": [
            "Epoch 1/25\n",
            "875/875 [==============================] - 254s 257ms/step - loss: 1.8153 - accuracy: 0.3651 - val_loss: 1.3869 - val_accuracy: 0.5279\n",
            "Epoch 2/25\n",
            "875/875 [==============================] - 186s 213ms/step - loss: 1.0867 - accuracy: 0.6380 - val_loss: 1.1182 - val_accuracy: 0.6339\n",
            "Epoch 3/25\n",
            "875/875 [==============================] - 149s 171ms/step - loss: 0.7280 - accuracy: 0.7652 - val_loss: 1.0884 - val_accuracy: 0.6701\n",
            "Epoch 4/25\n",
            "875/875 [==============================] - 147s 169ms/step - loss: 0.4784 - accuracy: 0.8538 - val_loss: 1.0676 - val_accuracy: 0.6879\n",
            "Epoch 5/25\n",
            "875/875 [==============================] - 142s 163ms/step - loss: 0.3434 - accuracy: 0.9007 - val_loss: 1.0909 - val_accuracy: 0.6979\n",
            "Epoch 6/25\n",
            "875/875 [==============================] - 132s 151ms/step - loss: 0.2187 - accuracy: 0.9373 - val_loss: 1.2362 - val_accuracy: 0.6859\n",
            "Epoch 7/25\n",
            "875/875 [==============================] - 145s 166ms/step - loss: 0.1570 - accuracy: 0.9558 - val_loss: 1.2562 - val_accuracy: 0.6907\n",
            "Epoch 8/25\n",
            "875/875 [==============================] - 132s 151ms/step - loss: 0.1197 - accuracy: 0.9667 - val_loss: 1.3210 - val_accuracy: 0.7009\n",
            "Epoch 9/25\n",
            "875/875 [==============================] - 138s 158ms/step - loss: 0.1132 - accuracy: 0.9675 - val_loss: 1.3717 - val_accuracy: 0.6869\n",
            "Epoch 10/25\n",
            "875/875 [==============================] - 140s 160ms/step - loss: 0.0872 - accuracy: 0.9758 - val_loss: 1.3854 - val_accuracy: 0.6960\n",
            "Epoch 11/25\n",
            "875/875 [==============================] - 137s 157ms/step - loss: 0.0710 - accuracy: 0.9805 - val_loss: 1.4298 - val_accuracy: 0.6950\n",
            "Epoch 12/25\n",
            "875/875 [==============================] - 138s 158ms/step - loss: 0.0672 - accuracy: 0.9809 - val_loss: 1.4310 - val_accuracy: 0.6947\n",
            "Epoch 13/25\n",
            "875/875 [==============================] - 139s 158ms/step - loss: 0.0486 - accuracy: 0.9868 - val_loss: 1.4362 - val_accuracy: 0.7057\n",
            "Epoch 14/25\n",
            "875/875 [==============================] - 138s 158ms/step - loss: 0.0367 - accuracy: 0.9907 - val_loss: 1.5753 - val_accuracy: 0.6960\n",
            "Epoch 15/25\n",
            "875/875 [==============================] - 138s 158ms/step - loss: 0.0427 - accuracy: 0.9884 - val_loss: 1.4468 - val_accuracy: 0.7103\n",
            "Epoch 16/25\n",
            "875/875 [==============================] - 138s 158ms/step - loss: 0.0358 - accuracy: 0.9908 - val_loss: 1.5560 - val_accuracy: 0.7154\n",
            "Epoch 17/25\n",
            "875/875 [==============================] - 137s 157ms/step - loss: 0.0345 - accuracy: 0.9906 - val_loss: 1.5188 - val_accuracy: 0.7084\n",
            "Epoch 18/25\n",
            "875/875 [==============================] - 138s 158ms/step - loss: 0.0277 - accuracy: 0.9921 - val_loss: 1.5669 - val_accuracy: 0.7139\n",
            "Epoch 19/25\n",
            "875/875 [==============================] - 138s 158ms/step - loss: 0.0234 - accuracy: 0.9932 - val_loss: 1.5770 - val_accuracy: 0.7051\n",
            "Epoch 20/25\n",
            "875/875 [==============================] - 138s 157ms/step - loss: 0.0307 - accuracy: 0.9909 - val_loss: 1.5899 - val_accuracy: 0.7169\n",
            "Epoch 21/25\n",
            "875/875 [==============================] - 139s 159ms/step - loss: 0.0196 - accuracy: 0.9945 - val_loss: 1.6149 - val_accuracy: 0.7179\n",
            "Epoch 22/25\n",
            "875/875 [==============================] - 139s 159ms/step - loss: 0.0201 - accuracy: 0.9946 - val_loss: 1.5930 - val_accuracy: 0.7224\n",
            "Epoch 23/25\n",
            "875/875 [==============================] - 138s 158ms/step - loss: 0.0171 - accuracy: 0.9952 - val_loss: 1.6793 - val_accuracy: 0.7156\n",
            "Epoch 24/25\n",
            "875/875 [==============================] - 137s 157ms/step - loss: 0.0257 - accuracy: 0.9926 - val_loss: 1.6009 - val_accuracy: 0.7217\n",
            "Epoch 25/25\n",
            "875/875 [==============================] - 139s 158ms/step - loss: 0.0163 - accuracy: 0.9955 - val_loss: 1.6681 - val_accuracy: 0.7121\n"
          ]
        }
      ],
      "source": [
        "history = model.fit(training_padded, training_labels, epochs= 15, validation_data=(testing_padded, testing_labels), callbacks=[tensorboard_callback])"
      ]
    },
    {
      "cell_type": "code",
      "execution_count": 33,
      "metadata": {
        "id": "BwCPHeuHEmB6"
      },
      "outputs": [],
      "source": [
        "model.save('news_category_lstm_classifier.h5')"
      ]
    },
    {
      "cell_type": "markdown",
      "metadata": {
        "id": "_6CZGbffFICu"
      },
      "source": [
        "# ***Accuracy and Plotting***"
      ]
    },
    {
      "cell_type": "code",
      "execution_count": 34,
      "metadata": {
        "id": "mS3Od_hWFO_9",
        "colab": {
          "base_uri": "https://localhost:8080/",
          "height": 573
        },
        "outputId": "71fd10a7-dd11-473d-ef7f-5cbc4838f7c1"
      },
      "outputs": [
        {
          "output_type": "display_data",
          "data": {
            "text/plain": [
              "<IPython.core.display.Javascript object>"
            ],
            "application/javascript": [
              "\n",
              "    async function download(id, filename, size) {\n",
              "      if (!google.colab.kernel.accessAllowed) {\n",
              "        return;\n",
              "      }\n",
              "      const div = document.createElement('div');\n",
              "      const label = document.createElement('label');\n",
              "      label.textContent = `Downloading \"${filename}\": `;\n",
              "      div.appendChild(label);\n",
              "      const progress = document.createElement('progress');\n",
              "      progress.max = size;\n",
              "      div.appendChild(progress);\n",
              "      document.body.appendChild(div);\n",
              "\n",
              "      const buffers = [];\n",
              "      let downloaded = 0;\n",
              "\n",
              "      const channel = await google.colab.kernel.comms.open(id);\n",
              "      // Send a message to notify the kernel that we're ready.\n",
              "      channel.send({})\n",
              "\n",
              "      for await (const message of channel.messages) {\n",
              "        // Send a message to notify the kernel that we're ready.\n",
              "        channel.send({})\n",
              "        if (message.buffers) {\n",
              "          for (const buffer of message.buffers) {\n",
              "            buffers.push(buffer);\n",
              "            downloaded += buffer.byteLength;\n",
              "            progress.value = downloaded;\n",
              "          }\n",
              "        }\n",
              "      }\n",
              "      const blob = new Blob(buffers, {type: 'application/binary'});\n",
              "      const a = document.createElement('a');\n",
              "      a.href = window.URL.createObjectURL(blob);\n",
              "      a.download = filename;\n",
              "      div.appendChild(a);\n",
              "      a.click();\n",
              "      div.remove();\n",
              "    }\n",
              "  "
            ]
          },
          "metadata": {}
        },
        {
          "output_type": "display_data",
          "data": {
            "text/plain": [
              "<IPython.core.display.Javascript object>"
            ],
            "application/javascript": [
              "download(\"download_d20cb368-e008-4efe-bcfa-8077cca4b932\", \"LSTM_Accuracy1.png\", 15712)"
            ]
          },
          "metadata": {}
        },
        {
          "output_type": "display_data",
          "data": {
            "text/plain": [
              "<Figure size 432x288 with 1 Axes>"
            ],
            "image/png": "[encoded data removed]"
          },
          "metadata": {
            "needs_background": "light"
          }
        },
        {
          "output_type": "display_data",
          "data": {
            "text/plain": [
              "<IPython.core.display.Javascript object>"
            ],
            "application/javascript": [
              "\n",
              "    async function download(id, filename, size) {\n",
              "      if (!google.colab.kernel.accessAllowed) {\n",
              "        return;\n",
              "      }\n",
              "      const div = document.createElement('div');\n",
              "      const label = document.createElement('label');\n",
              "      label.textContent = `Downloading \"${filename}\": `;\n",
              "      div.appendChild(label);\n",
              "      const progress = document.createElement('progress');\n",
              "      progress.max = size;\n",
              "      div.appendChild(progress);\n",
              "      document.body.appendChild(div);\n",
              "\n",
              "      const buffers = [];\n",
              "      let downloaded = 0;\n",
              "\n",
              "      const channel = await google.colab.kernel.comms.open(id);\n",
              "      // Send a message to notify the kernel that we're ready.\n",
              "      channel.send({})\n",
              "\n",
              "      for await (const message of channel.messages) {\n",
              "        // Send a message to notify the kernel that we're ready.\n",
              "        channel.send({})\n",
              "        if (message.buffers) {\n",
              "          for (const buffer of message.buffers) {\n",
              "            buffers.push(buffer);\n",
              "            downloaded += buffer.byteLength;\n",
              "            progress.value = downloaded;\n",
              "          }\n",
              "        }\n",
              "      }\n",
              "      const blob = new Blob(buffers, {type: 'application/binary'});\n",
              "      const a = document.createElement('a');\n",
              "      a.href = window.URL.createObjectURL(blob);\n",
              "      a.download = filename;\n",
              "      div.appendChild(a);\n",
              "      a.click();\n",
              "      div.remove();\n",
              "    }\n",
              "  "
            ]
          },
          "metadata": {}
        },
        {
          "output_type": "display_data",
          "data": {
            "text/plain": [
              "<IPython.core.display.Javascript object>"
            ],
            "application/javascript": [
              "download(\"download_2c355143-743c-4489-99d0-7101c83a3d43\", \"LSTM_LOSS1.png\", 16643)"
            ]
          },
          "metadata": {}
        },
        {
          "output_type": "display_data",
          "data": {
            "text/plain": [
              "<Figure size 432x288 with 1 Axes>"
            ],
            "image/png": "[encoded data removed]"
          },
          "metadata": {
            "needs_background": "light"
          }
        }
      ],
      "source": [
        "import matplotlib.pyplot as plt\n",
        "from google.colab import files\n",
        "\n",
        "# Plot the training and validation accuracy\n",
        "plt.plot(history.history['accuracy'])\n",
        "plt.plot(history.history['val_accuracy'])\n",
        "plt.title('Model Accuracy')\n",
        "plt.ylabel('Accuracy')\n",
        "plt.xlabel('Epoch')\n",
        "plt.legend(['Train', 'Validation'], loc='upper right')\n",
        "plt.savefig(\"LSTM_Accuracy1.png\")\n",
        "files.download('LSTM_Accuracy1.png')\n",
        "plt.show()\n",
        "\n",
        "# Plot the training and validation loss\n",
        "plt.plot(history.history['loss'])\n",
        "plt.plot(history.history['val_loss'])\n",
        "plt.title('Model Loss')\n",
        "plt.ylabel('Loss')\n",
        "plt.xlabel('Epoch')\n",
        "plt.legend(['Train', 'Validation'], loc='upper right')\n",
        "plt.savefig(\"LSTM_LOSS1.png\")\n",
        "files.download('LSTM_LOSS1.png')\n",
        "plt.show()"
      ]
    },
    {
      "cell_type": "code",
      "source": [
        "from sklearn.metrics import classification_report\n",
        "\n",
        "# make predictions on test set\n",
        "y_pred = model.predict(testing_padded)\n",
        "\n",
        "# convert predictions to class labels\n",
        "y_pred_labels = np.argmax(y_pred, axis=1)\n",
        "\n",
        "# generate classification report\n",
        "report = classification_report(testing_labels, y_pred_labels)\n",
        "\n",
        "# print classification report\n",
        "print(report)"
      ],
      "metadata": {
        "colab": {
          "base_uri": "https://localhost:8080/"
        },
        "id": "mD8rcBbwLDxr",
        "outputId": "b3295ef6-3d28-401f-9ded-61154ac35ec4"
      },
      "execution_count": 35,
      "outputs": [
        {
          "output_type": "stream",
          "name": "stdout",
          "text": [
            "219/219 [==============================] - 15s 58ms/step\n",
            "              precision    recall  f1-score   support\n",
            "\n",
            "           0       0.77      0.81      0.79       478\n",
            "           1       0.56      0.63      0.59       490\n",
            "           2       0.79      0.84      0.82       506\n",
            "           3       0.88      0.89      0.88       505\n",
            "           4       0.92      0.76      0.84       553\n",
            "           5       0.88      0.71      0.79       513\n",
            "           6       0.71      0.74      0.73       475\n",
            "           7       0.69      0.71      0.70       467\n",
            "           8       0.60      0.34      0.43       492\n",
            "           9       0.49      0.63      0.55       495\n",
            "          10       0.37      0.66      0.48       507\n",
            "          11       0.87      0.54      0.67       502\n",
            "          12       0.96      0.95      0.96       491\n",
            "          13       0.89      0.75      0.81       526\n",
            "\n",
            "    accuracy                           0.71      7000\n",
            "   macro avg       0.74      0.71      0.72      7000\n",
            "weighted avg       0.74      0.71      0.72      7000\n",
            "\n"
          ]
        }
      ]
    },
    {
      "cell_type": "code",
      "execution_count": 36,
      "metadata": {
        "id": "nJIEG5pNFW0B"
      },
      "outputs": [],
      "source": [
        "# Making testing function\n",
        "def test(sentence):\n",
        "    sequences = tokenizer.texts_to_sequences(sentence_1)\n",
        "    padded = pad_sequences(sequences, maxlen=max_length, padding=padding_type, truncating=truncate_type)\n",
        "    pred=model.predict(padded)\n",
        "    pred_index=np.argmax(pred)\n",
        "#     print(pred_index)\n",
        "    return pred_index"
      ]
    },
    {
      "cell_type": "code",
      "source": [
        "data[12045]"
      ],
      "metadata": {
        "colab": {
          "base_uri": "https://localhost:8080/"
        },
        "id": "zbU4o-tkFBTL",
        "outputId": "194acbf8-8604-4820-89d9-821f61c1fd9f"
      },
      "execution_count": 45,
      "outputs": [
        {
          "output_type": "execute_result",
          "data": {
            "text/plain": [
              "{'author': '-1',\n",
              " 'category': 'technology',\n",
              " 'category_bn': 'বিজ্ঞান ও প্রযুক্তি',\n",
              " 'published_date': '২৪ আগস্ট ২০১৩, ০১:৪৫',\n",
              " 'modification_date': '২৪ আগস্ট ২০১৩, ০১:৪৮',\n",
              " 'tag': ['বিজ্ঞান-প্রযুক্তি', 'খবরাখবর'],\n",
              " 'comment_count': 0,\n",
              " 'title': 'নতুন ল্যাপটপ বাজারে',\n",
              " 'url': 'http://www.prothom-alo.com/technology/article/41508',\n",
              " 'content': 'আসুসের কে৫৬সিএ মডেলের নতুন একটি ল্যাপটপ কম্পিউটার পাওয়া যাচ্ছে। ২১ মিলিমিটার পুরু ও ২ কেজি ওজনের এ কম্পিউটারে রয়েছে ১.৮ গিগাহার্টজ ইন্টেল কোরআইথ্রি প্রসেসর, ৪ গিগাবাইট র\\u200c্যাম, ৭৫০ গিগাবাইট হার্ডডিস্ক ড্রাইভ, ১৫.৬-ইঞ্চি পর্দা, ডিভিডি রাইটার, এইচডি ৪০০০ গ্রাফিক্স, এইচডি ওয়েবক্যাম, এইচডিএমআই পোর্ট, ভিজিএ পোর্ট, ৩টি ইউএসবি পোর্ট ইত্যাদি। গ্লোবাল ব্র্যান্ড (প্রা.) লিমিটেডের আনা নোটবুকটির দাম ৪৩ হাজার ৫০০ টাকা।—বিজ্ঞপ্তি'}"
            ]
          },
          "metadata": {},
          "execution_count": 45
        }
      ]
    },
    {
      "cell_type": "code",
      "execution_count": 46,
      "metadata": {
        "id": "NYwTL7ctFsgt",
        "colab": {
          "base_uri": "https://localhost:8080/"
        },
        "outputId": "27578604-8b5b-4301-a465-34e11585d140"
      },
      "outputs": [
        {
          "output_type": "stream",
          "name": "stdout",
          "text": [
            "1/1 [==============================] - 0s 72ms/step\n",
            "Text Category is: technology\n"
          ]
        }
      ],
      "source": [
        "sentence_1=['আসুসের কে৫৬সিএ মডেলের নতুন একটি ল্যাপটপ কম্পিউটার পাওয়া যাচ্ছে। ২১ মিলিমিটার পুরু ও ২ কেজি ওজনের এ কম্পিউটারে রয়েছে ১.৮ গিগাহার্টজ ইন্টেল কোরআইথ্রি প্রসেসর, ৪ গিগাবাইট র\\u200c্যাম, ৭৫০ গিগাবাইট হার্ডডিস্ক ড্রাইভ, ১৫.৬-ইঞ্চি পর্দা, ডিভিডি রাইটার, এইচডি ৪০০০ গ্রাফিক্স, এইচডি ওয়েবক্যাম, এইচডিএমআই পোর্ট, ভিজিএ পোর্ট, ৩টি ইউএসবি পোর্ট ইত্যাদি। গ্লোবাল ব্র্যান্ড (প্রা.) লিমিটেডের আনা নোটবুকটির দাম ৪৩ হাজার ৫০০ টাকা।—বিজ্ঞপ্তি']\n",
        "result=test(sentence_1)\n",
        "if result is not None:\n",
        "    print('Text Category is: '+selected_category_list[result])\n",
        "else:\n",
        "    print('Model is not working well')"
      ]
    },
    {
      "cell_type": "code",
      "execution_count": 40,
      "metadata": {
        "id": "feg0fXdoFy5R",
        "colab": {
          "base_uri": "https://localhost:8080/"
        },
        "outputId": "5ea219a4-f835-4288-fe6f-327bbbc9b810"
      },
      "outputs": [
        {
          "output_type": "execute_result",
          "data": {
            "text/plain": [
              "(487222, 14)"
            ]
          },
          "metadata": {},
          "execution_count": 40
        }
      ],
      "source": [
        "weights = model.get_layer('embedding').get_weights()[0]\n",
        "weights.shape"
      ]
    },
    {
      "cell_type": "code",
      "source": [
        "import matplotlib.pyplot as plt\n",
        "from google.colab import files\n",
        "\n",
        "models = ['LSTM', 'Multinomial NB', 'XGBoost']\n",
        "val_accuracy = [75, 73, 81]\n",
        "\n",
        "plt.bar(models, val_accuracy, color=['#1f77b4', '#ff7f0e', '#2ca02c'])\n",
        "plt.title('Precision Comparison')\n",
        "plt.xlabel('Models')\n",
        "plt.ylabel('Accuracy')\n",
        "plt.ylim(0, 100)\n",
        "\n",
        "for i, v in enumerate(val_accuracy):\n",
        "    plt.text(i, v+2, str(v)+'%', ha='center')\n",
        "\n",
        "plt.savefig(\"comparison_Precision.png\")\n",
        "files.download(\"comparison_Precision.png\")\n",
        "plt.show()"
      ],
      "metadata": {
        "colab": {
          "base_uri": "https://localhost:8080/",
          "height": 295
        },
        "id": "zh36obONsavZ",
        "outputId": "6ce68c5a-eee2-4e42-ce8f-dba72df342df"
      },
      "execution_count": 41,
      "outputs": [
        {
          "output_type": "display_data",
          "data": {
            "text/plain": [
              "<IPython.core.display.Javascript object>"
            ],
            "application/javascript": [
              "\n",
              "    async function download(id, filename, size) {\n",
              "      if (!google.colab.kernel.accessAllowed) {\n",
              "        return;\n",
              "      }\n",
              "      const div = document.createElement('div');\n",
              "      const label = document.createElement('label');\n",
              "      label.textContent = `Downloading \"${filename}\": `;\n",
              "      div.appendChild(label);\n",
              "      const progress = document.createElement('progress');\n",
              "      progress.max = size;\n",
              "      div.appendChild(progress);\n",
              "      document.body.appendChild(div);\n",
              "\n",
              "      const buffers = [];\n",
              "      let downloaded = 0;\n",
              "\n",
              "      const channel = await google.colab.kernel.comms.open(id);\n",
              "      // Send a message to notify the kernel that we're ready.\n",
              "      channel.send({})\n",
              "\n",
              "      for await (const message of channel.messages) {\n",
              "        // Send a message to notify the kernel that we're ready.\n",
              "        channel.send({})\n",
              "        if (message.buffers) {\n",
              "          for (const buffer of message.buffers) {\n",
              "            buffers.push(buffer);\n",
              "            downloaded += buffer.byteLength;\n",
              "            progress.value = downloaded;\n",
              "          }\n",
              "        }\n",
              "      }\n",
              "      const blob = new Blob(buffers, {type: 'application/binary'});\n",
              "      const a = document.createElement('a');\n",
              "      a.href = window.URL.createObjectURL(blob);\n",
              "      a.download = filename;\n",
              "      div.appendChild(a);\n",
              "      a.click();\n",
              "      div.remove();\n",
              "    }\n",
              "  "
            ]
          },
          "metadata": {}
        },
        {
          "output_type": "display_data",
          "data": {
            "text/plain": [
              "<IPython.core.display.Javascript object>"
            ],
            "application/javascript": [
              "download(\"download_ab28a9d6-0136-43e7-90dd-252e1f646865\", \"comparison_Precision.png\", 10330)"
            ]
          },
          "metadata": {}
        },
        {
          "output_type": "display_data",
          "data": {
            "text/plain": [
              "<Figure size 432x288 with 1 Axes>"
            ],
            "image/png": "[encoded data removed]"
          },
          "metadata": {
            "needs_background": "light"
          }
        }
      ]
    }
  ],
  "metadata": {
    "colab": {
      "provenance": [],
      "authorship_tag": "ABX9TyN4/n+oA321qU4uWDkPhuuP",
      "include_colab_link": true
    },
    "gpuClass": "standard",
    "kernelspec": {
      "display_name": "Python 3",
      "name": "python3"
    },
    "language_info": {
      "name": "python"
    },
    "accelerator": "GPU"
  },
  "nbformat": 4,
  "nbformat_minor": 0
}